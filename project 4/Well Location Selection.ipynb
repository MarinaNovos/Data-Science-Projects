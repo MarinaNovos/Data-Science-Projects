{
 "cells": [
  {
   "cell_type": "markdown",
   "metadata": {},
   "source": [
    "# Выбор локации для скважины"
   ]
  },
  {
   "cell_type": "markdown",
   "metadata": {},
   "source": [
    "Допустим, мы работаем в добывающей компании. Нужно решить, где бурить новую скважину.\n",
    "\n",
    "Нам предоставлены пробы нефти в трёх регионах: в каждом 10 000 месторождений, где измерили качество нефти и объём её запасов. Построим модель машинного обучения, которая поможет определить регион, где добыча принесёт наибольшую прибыль. Проанализируем возможную прибыль и риски техникой *Bootstrap.*\n",
    "\n",
    "Шаги для выбора локации:\n",
    "\n",
    "- В избранном регионе ищут месторождения, для каждого определяют значения признаков;\n",
    "- Строят модель и оценивают объём запасов;\n",
    "- Выбирают месторождения с самым высокими оценками значений. Количество месторождений зависит от бюджета компании и стоимости разработки одной скважины;\n",
    "- Прибыль равна суммарной прибыли отобранных месторождений."
   ]
  },
  {
   "cell_type": "markdown",
   "metadata": {},
   "source": [
    "**Описание данных**: \n",
    "Данные геологоразведки трёх регионов находятся в файлах: \n",
    "\n",
    "- id — уникальный идентификатор скважины;\n",
    "- f0, f1, f2 — три признака точек (неважно, что они означают, но сами признаки значимы);\n",
    "- product — объём запасов в скважине (тыс. баррелей)."
   ]
  },
  {
   "cell_type": "markdown",
   "metadata": {},
   "source": [
    "**Условия задачи:** \n",
    "- При разведке региона исследуют 500 точек, из которых с помощью машинного обучения выбирают 200 лучших для разработки.\n",
    "- Бюджет на разработку скважин в регионе — 10 млрд рублей.\n",
    "- При нынешних ценах один баррель сырья приносит 450 рублей дохода. Доход с каждой единицы продукта составляет 450 тыс. рублей, поскольку объём указан в тысячах баррелей.\n",
    "- После оценки рисков нужно оставить лишь те регионы, в которых вероятность убытков меньше 2.5%. Среди них выбирают регион с наибольшей средней прибылью."
   ]
  },
  {
   "cell_type": "markdown",
   "metadata": {},
   "source": [
    "## Загрузка и подготовка данных"
   ]
  },
  {
   "cell_type": "markdown",
   "metadata": {},
   "source": [
    "### Загрузим данные и посмотрим на предварительную информацию о датасетах"
   ]
  },
  {
   "cell_type": "code",
   "execution_count": 1,
   "metadata": {},
   "outputs": [
    {
     "name": "stdout",
     "output_type": "stream",
     "text": [
      "Collecting phik\n",
      "  Downloading phik-0.12.4-cp39-cp39-manylinux_2_17_x86_64.manylinux2014_x86_64.whl (686 kB)\n",
      "\u001b[K     |████████████████████████████████| 686 kB 1.2 MB/s eta 0:00:01\n",
      "\u001b[?25hRequirement already satisfied: joblib>=0.14.1 in /opt/conda/lib/python3.9/site-packages (from phik) (1.1.0)\n",
      "Requirement already satisfied: numpy>=1.18.0 in /opt/conda/lib/python3.9/site-packages (from phik) (1.21.1)\n",
      "Requirement already satisfied: pandas>=0.25.1 in /opt/conda/lib/python3.9/site-packages (from phik) (1.2.4)\n",
      "Requirement already satisfied: scipy>=1.5.2 in /opt/conda/lib/python3.9/site-packages (from phik) (1.9.1)\n",
      "Requirement already satisfied: matplotlib>=2.2.3 in /opt/conda/lib/python3.9/site-packages (from phik) (3.3.4)\n",
      "Requirement already satisfied: pillow>=6.2.0 in /opt/conda/lib/python3.9/site-packages (from matplotlib>=2.2.3->phik) (8.4.0)\n",
      "Requirement already satisfied: cycler>=0.10 in /opt/conda/lib/python3.9/site-packages (from matplotlib>=2.2.3->phik) (0.11.0)\n",
      "Requirement already satisfied: pyparsing!=2.0.4,!=2.1.2,!=2.1.6,>=2.0.3 in /opt/conda/lib/python3.9/site-packages (from matplotlib>=2.2.3->phik) (2.4.7)\n",
      "Requirement already satisfied: python-dateutil>=2.1 in /opt/conda/lib/python3.9/site-packages (from matplotlib>=2.2.3->phik) (2.8.1)\n",
      "Requirement already satisfied: kiwisolver>=1.0.1 in /opt/conda/lib/python3.9/site-packages (from matplotlib>=2.2.3->phik) (1.4.4)\n",
      "Requirement already satisfied: pytz>=2017.3 in /opt/conda/lib/python3.9/site-packages (from pandas>=0.25.1->phik) (2021.1)\n",
      "Requirement already satisfied: six>=1.5 in /opt/conda/lib/python3.9/site-packages (from python-dateutil>=2.1->matplotlib>=2.2.3->phik) (1.16.0)\n",
      "Installing collected packages: phik\n",
      "Successfully installed phik-0.12.4\n"
     ]
    }
   ],
   "source": [
    "#установки\n",
    "!pip install phik"
   ]
  },
  {
   "cell_type": "code",
   "execution_count": 2,
   "metadata": {},
   "outputs": [],
   "source": [
    "# Импорт стандартных библиотек\n",
    "import pandas as pd\n",
    "import numpy as np\n",
    "\n",
    "# Импорт библиотек для визуализации\n",
    "import matplotlib.pyplot as plt\n",
    "import seaborn as sns\n",
    "\n",
    "# Импорт библиотек для машинного обучения и обработки данных\n",
    "from sklearn.model_selection import train_test_split, GridSearchCV, cross_val_score\n",
    "from sklearn.preprocessing import StandardScaler, MinMaxScaler\n",
    "from sklearn.impute import SimpleImputer\n",
    "from sklearn.pipeline import Pipeline\n",
    "from sklearn.compose import ColumnTransformer\n",
    "from sklearn.metrics import confusion_matrix, mean_squared_error\n",
    "from sklearn.linear_model import  Ridge, Lasso, ElasticNet\n",
    "from sklearn.dummy import DummyRegressor\n",
    "\n",
    "# Импорт библиотек для анализа данных\n",
    "from statsmodels.stats.outliers_influence import variance_inflation_factor\n",
    "from statsmodels.tools.tools import add_constant\n",
    "\n",
    "import phik"
   ]
  },
  {
   "cell_type": "markdown",
   "metadata": {},
   "source": [
    "Напишем функцию для того, что бы посмотреть всю предварительную информацию о датасетах: выведем первые строки, общую информацию, наличие пропусков и дубликатов."
   ]
  },
  {
   "cell_type": "code",
   "execution_count": 4,
   "metadata": {
    "scrolled": false
   },
   "outputs": [
    {
     "name": "stdout",
     "output_type": "stream",
     "text": [
      "First rows of dataset 0:\n",
      "      id        f0        f1        f2     product\n",
      "0  txEyH  0.705745 -0.497823  1.221170  105.280062\n",
      "1  2acmU  1.334711 -0.340164  4.365080   73.037750\n",
      "2  409Wp  1.022732  0.151990  1.419926   85.265647\n",
      "3  iJLyR -0.032172  0.139033  2.978566  168.620776\n",
      "4  Xdl7t  1.988431  0.155413  4.751769  154.036647\n",
      "\n",
      "\n",
      "Info of dataset 0:\n",
      "<class 'pandas.core.frame.DataFrame'>\n",
      "RangeIndex: 100000 entries, 0 to 99999\n",
      "Data columns (total 5 columns):\n",
      " #   Column   Non-Null Count   Dtype  \n",
      "---  ------   --------------   -----  \n",
      " 0   id       100000 non-null  object \n",
      " 1   f0       100000 non-null  float64\n",
      " 2   f1       100000 non-null  float64\n",
      " 3   f2       100000 non-null  float64\n",
      " 4   product  100000 non-null  float64\n",
      "dtypes: float64(4), object(1)\n",
      "memory usage: 3.8+ MB\n",
      "None\n",
      "\n",
      "\n",
      "Missing values in dataset 0:\n",
      "id         0\n",
      "f0         0\n",
      "f1         0\n",
      "f2         0\n",
      "product    0\n",
      "dtype: int64\n",
      "\n",
      "\n",
      "Duplicate rows in dataset 0:\n",
      "0\n",
      "\n",
      "\n",
      "First rows of dataset 1:\n",
      "      id         f0         f1        f2     product\n",
      "0  kBEdx -15.001348  -8.276000 -0.005876    3.179103\n",
      "1  62mP7  14.272088  -3.475083  0.999183   26.953261\n",
      "2  vyE1P   6.263187  -5.948386  5.001160  134.766305\n",
      "3  KcrkZ -13.081196 -11.506057  4.999415  137.945408\n",
      "4  AHL4O  12.702195  -8.147433  5.004363  134.766305\n",
      "\n",
      "\n",
      "Info of dataset 1:\n",
      "<class 'pandas.core.frame.DataFrame'>\n",
      "RangeIndex: 100000 entries, 0 to 99999\n",
      "Data columns (total 5 columns):\n",
      " #   Column   Non-Null Count   Dtype  \n",
      "---  ------   --------------   -----  \n",
      " 0   id       100000 non-null  object \n",
      " 1   f0       100000 non-null  float64\n",
      " 2   f1       100000 non-null  float64\n",
      " 3   f2       100000 non-null  float64\n",
      " 4   product  100000 non-null  float64\n",
      "dtypes: float64(4), object(1)\n",
      "memory usage: 3.8+ MB\n",
      "None\n",
      "\n",
      "\n",
      "Missing values in dataset 1:\n",
      "id         0\n",
      "f0         0\n",
      "f1         0\n",
      "f2         0\n",
      "product    0\n",
      "dtype: int64\n",
      "\n",
      "\n",
      "Duplicate rows in dataset 1:\n",
      "0\n",
      "\n",
      "\n",
      "First rows of dataset 2:\n",
      "      id        f0        f1        f2     product\n",
      "0  fwXo0 -1.146987  0.963328 -0.828965   27.758673\n",
      "1  WJtFt  0.262778  0.269839 -2.530187   56.069697\n",
      "2  ovLUW  0.194587  0.289035 -5.586433   62.871910\n",
      "3  q6cA6  2.236060 -0.553760  0.930038  114.572842\n",
      "4  WPMUX -0.515993  1.716266  5.899011  149.600746\n",
      "\n",
      "\n",
      "Info of dataset 2:\n",
      "<class 'pandas.core.frame.DataFrame'>\n",
      "RangeIndex: 100000 entries, 0 to 99999\n",
      "Data columns (total 5 columns):\n",
      " #   Column   Non-Null Count   Dtype  \n",
      "---  ------   --------------   -----  \n",
      " 0   id       100000 non-null  object \n",
      " 1   f0       100000 non-null  float64\n",
      " 2   f1       100000 non-null  float64\n",
      " 3   f2       100000 non-null  float64\n",
      " 4   product  100000 non-null  float64\n",
      "dtypes: float64(4), object(1)\n",
      "memory usage: 3.8+ MB\n",
      "None\n",
      "\n",
      "\n",
      "Missing values in dataset 2:\n",
      "id         0\n",
      "f0         0\n",
      "f1         0\n",
      "f2         0\n",
      "product    0\n",
      "dtype: int64\n",
      "\n",
      "\n",
      "Duplicate rows in dataset 2:\n",
      "0\n",
      "\n",
      "\n"
     ]
    }
   ],
   "source": [
    "def analyze_datasets(datasets):\n",
    "    for i, df in enumerate(datasets):\n",
    "        # Вывод первых строк\n",
    "        print(f\"First rows of dataset {i}:\")\n",
    "        print(df.head())\n",
    "        print(\"\\n\")\n",
    "        \n",
    "        # Вывод информации о датасете\n",
    "        print(f\"Info of dataset {i}:\")\n",
    "        print(df.info())\n",
    "        print(\"\\n\")\n",
    "        \n",
    "        # Проверка наличия пропусков\n",
    "        print(f\"Missing values in dataset {i}:\")\n",
    "        print(df.isnull().sum())\n",
    "        print(\"\\n\")\n",
    "        \n",
    "        # Проверка наличия дубликатов\n",
    "        print(f\"Duplicate rows in dataset {i}:\")\n",
    "        print(df.duplicated().sum())\n",
    "        print(\"\\n\")\n",
    "\n",
    "# Список загруженных датасетов\n",
    "datasets = [data_0, data_1, data_2]\n",
    "\n",
    "# Запуск функции для анализа\n",
    "analyze_datasets(datasets)"
   ]
  },
  {
   "cell_type": "markdown",
   "metadata": {},
   "source": [
    "Исходя из полученных данных, можно заключить, что данные наших датасетов в порядке. Не обнаружено явных дубликатов и пропусков. Типы данных каждого столбца соответствуют содержимому. Названия столбцов корректные"
   ]
  },
  {
   "cell_type": "markdown",
   "metadata": {},
   "source": [
    "### Проверка дубликатов"
   ]
  },
  {
   "cell_type": "markdown",
   "metadata": {},
   "source": [
    "Далее проверим наличие неявных дубликатов"
   ]
  },
  {
   "cell_type": "code",
   "execution_count": 5,
   "metadata": {},
   "outputs": [],
   "source": [
    "# Проверим на дубликаты по выбранной комбинации столбцов для data_0\n",
    "duplicate_rows_0 = data_0.duplicated(subset=['f0', 'f1', 'f2', 'product'], keep=False)"
   ]
  },
  {
   "cell_type": "code",
   "execution_count": 6,
   "metadata": {},
   "outputs": [
    {
     "data": {
      "text/html": [
       "<div>\n",
       "<style scoped>\n",
       "    .dataframe tbody tr th:only-of-type {\n",
       "        vertical-align: middle;\n",
       "    }\n",
       "\n",
       "    .dataframe tbody tr th {\n",
       "        vertical-align: top;\n",
       "    }\n",
       "\n",
       "    .dataframe thead th {\n",
       "        text-align: right;\n",
       "    }\n",
       "</style>\n",
       "<table border=\"1\" class=\"dataframe\">\n",
       "  <thead>\n",
       "    <tr style=\"text-align: right;\">\n",
       "      <th></th>\n",
       "      <th>id</th>\n",
       "      <th>f0</th>\n",
       "      <th>f1</th>\n",
       "      <th>f2</th>\n",
       "      <th>product</th>\n",
       "    </tr>\n",
       "  </thead>\n",
       "  <tbody>\n",
       "  </tbody>\n",
       "</table>\n",
       "</div>"
      ],
      "text/plain": [
       "Empty DataFrame\n",
       "Columns: [id, f0, f1, f2, product]\n",
       "Index: []"
      ]
     },
     "execution_count": 6,
     "metadata": {},
     "output_type": "execute_result"
    }
   ],
   "source": [
    "data_0[duplicate_rows_0]"
   ]
  },
  {
   "cell_type": "code",
   "execution_count": 7,
   "metadata": {},
   "outputs": [],
   "source": [
    "# Проверим на дубликаты по выбранной комбинации столбцов для data_1\n",
    "duplicate_rows_1 = data_1.duplicated(subset=['f0', 'f1', 'f2', 'product'], keep=False)"
   ]
  },
  {
   "cell_type": "code",
   "execution_count": 8,
   "metadata": {},
   "outputs": [
    {
     "data": {
      "text/html": [
       "<div>\n",
       "<style scoped>\n",
       "    .dataframe tbody tr th:only-of-type {\n",
       "        vertical-align: middle;\n",
       "    }\n",
       "\n",
       "    .dataframe tbody tr th {\n",
       "        vertical-align: top;\n",
       "    }\n",
       "\n",
       "    .dataframe thead th {\n",
       "        text-align: right;\n",
       "    }\n",
       "</style>\n",
       "<table border=\"1\" class=\"dataframe\">\n",
       "  <thead>\n",
       "    <tr style=\"text-align: right;\">\n",
       "      <th></th>\n",
       "      <th>id</th>\n",
       "      <th>f0</th>\n",
       "      <th>f1</th>\n",
       "      <th>f2</th>\n",
       "      <th>product</th>\n",
       "    </tr>\n",
       "  </thead>\n",
       "  <tbody>\n",
       "  </tbody>\n",
       "</table>\n",
       "</div>"
      ],
      "text/plain": [
       "Empty DataFrame\n",
       "Columns: [id, f0, f1, f2, product]\n",
       "Index: []"
      ]
     },
     "execution_count": 8,
     "metadata": {},
     "output_type": "execute_result"
    }
   ],
   "source": [
    "data_1[duplicate_rows_1]"
   ]
  },
  {
   "cell_type": "code",
   "execution_count": 9,
   "metadata": {},
   "outputs": [],
   "source": [
    "# Проверим на дубликаты по выбранной комбинации столбцов для data_2\n",
    "duplicate_rows_2 = data_2.duplicated(subset=['f0', 'f1', 'f2', 'product'], keep=False)"
   ]
  },
  {
   "cell_type": "code",
   "execution_count": 10,
   "metadata": {},
   "outputs": [
    {
     "data": {
      "text/html": [
       "<div>\n",
       "<style scoped>\n",
       "    .dataframe tbody tr th:only-of-type {\n",
       "        vertical-align: middle;\n",
       "    }\n",
       "\n",
       "    .dataframe tbody tr th {\n",
       "        vertical-align: top;\n",
       "    }\n",
       "\n",
       "    .dataframe thead th {\n",
       "        text-align: right;\n",
       "    }\n",
       "</style>\n",
       "<table border=\"1\" class=\"dataframe\">\n",
       "  <thead>\n",
       "    <tr style=\"text-align: right;\">\n",
       "      <th></th>\n",
       "      <th>id</th>\n",
       "      <th>f0</th>\n",
       "      <th>f1</th>\n",
       "      <th>f2</th>\n",
       "      <th>product</th>\n",
       "    </tr>\n",
       "  </thead>\n",
       "  <tbody>\n",
       "  </tbody>\n",
       "</table>\n",
       "</div>"
      ],
      "text/plain": [
       "Empty DataFrame\n",
       "Columns: [id, f0, f1, f2, product]\n",
       "Index: []"
      ]
     },
     "execution_count": 10,
     "metadata": {},
     "output_type": "execute_result"
    }
   ],
   "source": [
    "data_2[duplicate_rows_2]"
   ]
  },
  {
   "cell_type": "code",
   "execution_count": 11,
   "metadata": {},
   "outputs": [],
   "source": [
    "# Проверим на дубликаты по выбранной комбинации столбцов для data_0\n",
    "duplicate_rows_0_1 = data_0.duplicated(subset=['f0', 'f1', 'f2'], keep=False)"
   ]
  },
  {
   "cell_type": "code",
   "execution_count": 12,
   "metadata": {},
   "outputs": [
    {
     "data": {
      "text/html": [
       "<div>\n",
       "<style scoped>\n",
       "    .dataframe tbody tr th:only-of-type {\n",
       "        vertical-align: middle;\n",
       "    }\n",
       "\n",
       "    .dataframe tbody tr th {\n",
       "        vertical-align: top;\n",
       "    }\n",
       "\n",
       "    .dataframe thead th {\n",
       "        text-align: right;\n",
       "    }\n",
       "</style>\n",
       "<table border=\"1\" class=\"dataframe\">\n",
       "  <thead>\n",
       "    <tr style=\"text-align: right;\">\n",
       "      <th></th>\n",
       "      <th>id</th>\n",
       "      <th>f0</th>\n",
       "      <th>f1</th>\n",
       "      <th>f2</th>\n",
       "      <th>product</th>\n",
       "    </tr>\n",
       "  </thead>\n",
       "  <tbody>\n",
       "  </tbody>\n",
       "</table>\n",
       "</div>"
      ],
      "text/plain": [
       "Empty DataFrame\n",
       "Columns: [id, f0, f1, f2, product]\n",
       "Index: []"
      ]
     },
     "execution_count": 12,
     "metadata": {},
     "output_type": "execute_result"
    }
   ],
   "source": [
    "data_0[duplicate_rows_0_1]"
   ]
  },
  {
   "cell_type": "code",
   "execution_count": 13,
   "metadata": {},
   "outputs": [],
   "source": [
    "# Проверим на дубликаты по выбранной комбинации столбцов для data_1\n",
    "duplicate_rows_1_1 = data_1.duplicated(subset=['f0', 'f1', 'f2'], keep=False)"
   ]
  },
  {
   "cell_type": "code",
   "execution_count": 14,
   "metadata": {},
   "outputs": [
    {
     "data": {
      "text/html": [
       "<div>\n",
       "<style scoped>\n",
       "    .dataframe tbody tr th:only-of-type {\n",
       "        vertical-align: middle;\n",
       "    }\n",
       "\n",
       "    .dataframe tbody tr th {\n",
       "        vertical-align: top;\n",
       "    }\n",
       "\n",
       "    .dataframe thead th {\n",
       "        text-align: right;\n",
       "    }\n",
       "</style>\n",
       "<table border=\"1\" class=\"dataframe\">\n",
       "  <thead>\n",
       "    <tr style=\"text-align: right;\">\n",
       "      <th></th>\n",
       "      <th>id</th>\n",
       "      <th>f0</th>\n",
       "      <th>f1</th>\n",
       "      <th>f2</th>\n",
       "      <th>product</th>\n",
       "    </tr>\n",
       "  </thead>\n",
       "  <tbody>\n",
       "  </tbody>\n",
       "</table>\n",
       "</div>"
      ],
      "text/plain": [
       "Empty DataFrame\n",
       "Columns: [id, f0, f1, f2, product]\n",
       "Index: []"
      ]
     },
     "execution_count": 14,
     "metadata": {},
     "output_type": "execute_result"
    }
   ],
   "source": [
    "data_1[duplicate_rows_1_1]"
   ]
  },
  {
   "cell_type": "code",
   "execution_count": 15,
   "metadata": {},
   "outputs": [],
   "source": [
    "# Проверим на дубликаты по выбранной комбинации столбцов для data_1\n",
    "duplicate_rows_2_1 = data_2.duplicated(subset=['f0', 'f1', 'f2'], keep=False)"
   ]
  },
  {
   "cell_type": "code",
   "execution_count": 16,
   "metadata": {},
   "outputs": [
    {
     "data": {
      "text/html": [
       "<div>\n",
       "<style scoped>\n",
       "    .dataframe tbody tr th:only-of-type {\n",
       "        vertical-align: middle;\n",
       "    }\n",
       "\n",
       "    .dataframe tbody tr th {\n",
       "        vertical-align: top;\n",
       "    }\n",
       "\n",
       "    .dataframe thead th {\n",
       "        text-align: right;\n",
       "    }\n",
       "</style>\n",
       "<table border=\"1\" class=\"dataframe\">\n",
       "  <thead>\n",
       "    <tr style=\"text-align: right;\">\n",
       "      <th></th>\n",
       "      <th>id</th>\n",
       "      <th>f0</th>\n",
       "      <th>f1</th>\n",
       "      <th>f2</th>\n",
       "      <th>product</th>\n",
       "    </tr>\n",
       "  </thead>\n",
       "  <tbody>\n",
       "  </tbody>\n",
       "</table>\n",
       "</div>"
      ],
      "text/plain": [
       "Empty DataFrame\n",
       "Columns: [id, f0, f1, f2, product]\n",
       "Index: []"
      ]
     },
     "execution_count": 16,
     "metadata": {},
     "output_type": "execute_result"
    }
   ],
   "source": [
    "data_2[duplicate_rows_2_1]"
   ]
  },
  {
   "cell_type": "markdown",
   "metadata": {},
   "source": [
    "Посмотрим насколько уникальные у нас id"
   ]
  },
  {
   "cell_type": "code",
   "execution_count": 17,
   "metadata": {},
   "outputs": [],
   "source": [
    "# Проверим на дубликаты по выбранной комбинации столбцов для data_0\n",
    "duplicate_rows_0_2 = data_0.duplicated(subset=['id'], keep=False)"
   ]
  },
  {
   "cell_type": "code",
   "execution_count": 18,
   "metadata": {},
   "outputs": [
    {
     "data": {
      "text/html": [
       "<div>\n",
       "<style scoped>\n",
       "    .dataframe tbody tr th:only-of-type {\n",
       "        vertical-align: middle;\n",
       "    }\n",
       "\n",
       "    .dataframe tbody tr th {\n",
       "        vertical-align: top;\n",
       "    }\n",
       "\n",
       "    .dataframe thead th {\n",
       "        text-align: right;\n",
       "    }\n",
       "</style>\n",
       "<table border=\"1\" class=\"dataframe\">\n",
       "  <thead>\n",
       "    <tr style=\"text-align: right;\">\n",
       "      <th></th>\n",
       "      <th>id</th>\n",
       "      <th>f0</th>\n",
       "      <th>f1</th>\n",
       "      <th>f2</th>\n",
       "      <th>product</th>\n",
       "    </tr>\n",
       "  </thead>\n",
       "  <tbody>\n",
       "    <tr>\n",
       "      <th>931</th>\n",
       "      <td>moX6g</td>\n",
       "      <td>1.410073</td>\n",
       "      <td>1.129001</td>\n",
       "      <td>1.802743</td>\n",
       "      <td>90.884547</td>\n",
       "    </tr>\n",
       "    <tr>\n",
       "      <th>1364</th>\n",
       "      <td>26QRS</td>\n",
       "      <td>-1.921383</td>\n",
       "      <td>2.634151</td>\n",
       "      <td>2.771480</td>\n",
       "      <td>163.472295</td>\n",
       "    </tr>\n",
       "    <tr>\n",
       "      <th>1949</th>\n",
       "      <td>qdv7b</td>\n",
       "      <td>-2.259978</td>\n",
       "      <td>3.561475</td>\n",
       "      <td>7.208034</td>\n",
       "      <td>189.898277</td>\n",
       "    </tr>\n",
       "    <tr>\n",
       "      <th>3389</th>\n",
       "      <td>CELfv</td>\n",
       "      <td>-0.685541</td>\n",
       "      <td>-0.308214</td>\n",
       "      <td>-2.220209</td>\n",
       "      <td>136.993204</td>\n",
       "    </tr>\n",
       "    <tr>\n",
       "      <th>7530</th>\n",
       "      <td>8fP5H</td>\n",
       "      <td>-1.729697</td>\n",
       "      <td>-2.592517</td>\n",
       "      <td>2.757510</td>\n",
       "      <td>37.550380</td>\n",
       "    </tr>\n",
       "    <tr>\n",
       "      <th>16633</th>\n",
       "      <td>sCQ0l</td>\n",
       "      <td>2.379051</td>\n",
       "      <td>-1.350622</td>\n",
       "      <td>5.592104</td>\n",
       "      <td>82.042281</td>\n",
       "    </tr>\n",
       "    <tr>\n",
       "      <th>21426</th>\n",
       "      <td>uKn4N</td>\n",
       "      <td>1.426744</td>\n",
       "      <td>0.387084</td>\n",
       "      <td>-2.638249</td>\n",
       "      <td>15.500533</td>\n",
       "    </tr>\n",
       "    <tr>\n",
       "      <th>41724</th>\n",
       "      <td>BnxVN</td>\n",
       "      <td>-3.065122</td>\n",
       "      <td>1.522308</td>\n",
       "      <td>4.890901</td>\n",
       "      <td>126.815185</td>\n",
       "    </tr>\n",
       "    <tr>\n",
       "      <th>42529</th>\n",
       "      <td>eqKXv</td>\n",
       "      <td>-0.374419</td>\n",
       "      <td>1.187837</td>\n",
       "      <td>7.940085</td>\n",
       "      <td>135.875371</td>\n",
       "    </tr>\n",
       "    <tr>\n",
       "      <th>51970</th>\n",
       "      <td>bev1W</td>\n",
       "      <td>-0.400736</td>\n",
       "      <td>0.694304</td>\n",
       "      <td>-0.291779</td>\n",
       "      <td>97.533822</td>\n",
       "    </tr>\n",
       "    <tr>\n",
       "      <th>60140</th>\n",
       "      <td>tucCv</td>\n",
       "      <td>2.786383</td>\n",
       "      <td>-0.932813</td>\n",
       "      <td>2.536585</td>\n",
       "      <td>158.446117</td>\n",
       "    </tr>\n",
       "    <tr>\n",
       "      <th>63593</th>\n",
       "      <td>X2hJC</td>\n",
       "      <td>4.893141</td>\n",
       "      <td>3.092911</td>\n",
       "      <td>7.545909</td>\n",
       "      <td>101.992800</td>\n",
       "    </tr>\n",
       "    <tr>\n",
       "      <th>64022</th>\n",
       "      <td>ygjS8</td>\n",
       "      <td>-0.208984</td>\n",
       "      <td>3.448760</td>\n",
       "      <td>7.244033</td>\n",
       "      <td>157.889621</td>\n",
       "    </tr>\n",
       "    <tr>\n",
       "      <th>66136</th>\n",
       "      <td>g1qi0</td>\n",
       "      <td>-0.536611</td>\n",
       "      <td>-6.535621</td>\n",
       "      <td>10.799467</td>\n",
       "      <td>151.288487</td>\n",
       "    </tr>\n",
       "    <tr>\n",
       "      <th>69163</th>\n",
       "      <td>fSqkE</td>\n",
       "      <td>-1.770726</td>\n",
       "      <td>1.343657</td>\n",
       "      <td>2.068107</td>\n",
       "      <td>76.691632</td>\n",
       "    </tr>\n",
       "    <tr>\n",
       "      <th>75715</th>\n",
       "      <td>59tFH</td>\n",
       "      <td>-0.027911</td>\n",
       "      <td>-0.653067</td>\n",
       "      <td>1.427854</td>\n",
       "      <td>36.922148</td>\n",
       "    </tr>\n",
       "    <tr>\n",
       "      <th>89582</th>\n",
       "      <td>pN1Hr</td>\n",
       "      <td>-0.304270</td>\n",
       "      <td>1.132661</td>\n",
       "      <td>5.630835</td>\n",
       "      <td>112.683966</td>\n",
       "    </tr>\n",
       "    <tr>\n",
       "      <th>90815</th>\n",
       "      <td>3OUvb</td>\n",
       "      <td>-3.168230</td>\n",
       "      <td>-2.099716</td>\n",
       "      <td>1.639865</td>\n",
       "      <td>181.374393</td>\n",
       "    </tr>\n",
       "    <tr>\n",
       "      <th>92341</th>\n",
       "      <td>zEXvz</td>\n",
       "      <td>1.715274</td>\n",
       "      <td>1.536217</td>\n",
       "      <td>-2.738595</td>\n",
       "      <td>50.257178</td>\n",
       "    </tr>\n",
       "    <tr>\n",
       "      <th>97785</th>\n",
       "      <td>WxQ6T</td>\n",
       "      <td>-2.937900</td>\n",
       "      <td>2.607788</td>\n",
       "      <td>7.883508</td>\n",
       "      <td>109.917929</td>\n",
       "    </tr>\n",
       "  </tbody>\n",
       "</table>\n",
       "</div>"
      ],
      "text/plain": [
       "          id        f0        f1         f2     product\n",
       "931    moX6g  1.410073  1.129001   1.802743   90.884547\n",
       "1364   26QRS -1.921383  2.634151   2.771480  163.472295\n",
       "1949   qdv7b -2.259978  3.561475   7.208034  189.898277\n",
       "3389   CELfv -0.685541 -0.308214  -2.220209  136.993204\n",
       "7530   8fP5H -1.729697 -2.592517   2.757510   37.550380\n",
       "16633  sCQ0l  2.379051 -1.350622   5.592104   82.042281\n",
       "21426  uKn4N  1.426744  0.387084  -2.638249   15.500533\n",
       "41724  BnxVN -3.065122  1.522308   4.890901  126.815185\n",
       "42529  eqKXv -0.374419  1.187837   7.940085  135.875371\n",
       "51970  bev1W -0.400736  0.694304  -0.291779   97.533822\n",
       "60140  tucCv  2.786383 -0.932813   2.536585  158.446117\n",
       "63593  X2hJC  4.893141  3.092911   7.545909  101.992800\n",
       "64022  ygjS8 -0.208984  3.448760   7.244033  157.889621\n",
       "66136  g1qi0 -0.536611 -6.535621  10.799467  151.288487\n",
       "69163  fSqkE -1.770726  1.343657   2.068107   76.691632\n",
       "75715  59tFH -0.027911 -0.653067   1.427854   36.922148\n",
       "89582  pN1Hr -0.304270  1.132661   5.630835  112.683966\n",
       "90815  3OUvb -3.168230 -2.099716   1.639865  181.374393\n",
       "92341  zEXvz  1.715274  1.536217  -2.738595   50.257178\n",
       "97785  WxQ6T -2.937900  2.607788   7.883508  109.917929"
      ]
     },
     "execution_count": 18,
     "metadata": {},
     "output_type": "execute_result"
    }
   ],
   "source": [
    "data_2[duplicate_rows_0_2]"
   ]
  },
  {
   "cell_type": "code",
   "execution_count": 19,
   "metadata": {},
   "outputs": [],
   "source": [
    "# Проверим на дубликаты по выбранной комбинации столбцов для data_1\n",
    "duplicate_rows_1_2 = data_1.duplicated(subset=['id'], keep=False)"
   ]
  },
  {
   "cell_type": "code",
   "execution_count": 20,
   "metadata": {},
   "outputs": [
    {
     "data": {
      "text/html": [
       "<div>\n",
       "<style scoped>\n",
       "    .dataframe tbody tr th:only-of-type {\n",
       "        vertical-align: middle;\n",
       "    }\n",
       "\n",
       "    .dataframe tbody tr th {\n",
       "        vertical-align: top;\n",
       "    }\n",
       "\n",
       "    .dataframe thead th {\n",
       "        text-align: right;\n",
       "    }\n",
       "</style>\n",
       "<table border=\"1\" class=\"dataframe\">\n",
       "  <thead>\n",
       "    <tr style=\"text-align: right;\">\n",
       "      <th></th>\n",
       "      <th>id</th>\n",
       "      <th>f0</th>\n",
       "      <th>f1</th>\n",
       "      <th>f2</th>\n",
       "      <th>product</th>\n",
       "    </tr>\n",
       "  </thead>\n",
       "  <tbody>\n",
       "    <tr>\n",
       "      <th>1305</th>\n",
       "      <td>LHZR0</td>\n",
       "      <td>11.170835</td>\n",
       "      <td>-1.945066</td>\n",
       "      <td>3.002872</td>\n",
       "      <td>80.859783</td>\n",
       "    </tr>\n",
       "    <tr>\n",
       "      <th>2721</th>\n",
       "      <td>bfPNe</td>\n",
       "      <td>-9.494442</td>\n",
       "      <td>-5.463692</td>\n",
       "      <td>4.006042</td>\n",
       "      <td>110.992147</td>\n",
       "    </tr>\n",
       "    <tr>\n",
       "      <th>5849</th>\n",
       "      <td>5ltQ6</td>\n",
       "      <td>-3.435401</td>\n",
       "      <td>-12.296043</td>\n",
       "      <td>1.999796</td>\n",
       "      <td>57.085625</td>\n",
       "    </tr>\n",
       "    <tr>\n",
       "      <th>41906</th>\n",
       "      <td>LHZR0</td>\n",
       "      <td>-8.989672</td>\n",
       "      <td>-4.286607</td>\n",
       "      <td>2.009139</td>\n",
       "      <td>57.085625</td>\n",
       "    </tr>\n",
       "    <tr>\n",
       "      <th>47591</th>\n",
       "      <td>wt4Uk</td>\n",
       "      <td>-9.091098</td>\n",
       "      <td>-8.109279</td>\n",
       "      <td>-0.002314</td>\n",
       "      <td>3.179103</td>\n",
       "    </tr>\n",
       "    <tr>\n",
       "      <th>82178</th>\n",
       "      <td>bfPNe</td>\n",
       "      <td>-6.202799</td>\n",
       "      <td>-4.820045</td>\n",
       "      <td>2.995107</td>\n",
       "      <td>84.038886</td>\n",
       "    </tr>\n",
       "    <tr>\n",
       "      <th>82873</th>\n",
       "      <td>wt4Uk</td>\n",
       "      <td>10.259972</td>\n",
       "      <td>-9.376355</td>\n",
       "      <td>4.994297</td>\n",
       "      <td>134.766305</td>\n",
       "    </tr>\n",
       "    <tr>\n",
       "      <th>84461</th>\n",
       "      <td>5ltQ6</td>\n",
       "      <td>18.213839</td>\n",
       "      <td>2.191999</td>\n",
       "      <td>3.993869</td>\n",
       "      <td>107.813044</td>\n",
       "    </tr>\n",
       "  </tbody>\n",
       "</table>\n",
       "</div>"
      ],
      "text/plain": [
       "          id         f0         f1        f2     product\n",
       "1305   LHZR0  11.170835  -1.945066  3.002872   80.859783\n",
       "2721   bfPNe  -9.494442  -5.463692  4.006042  110.992147\n",
       "5849   5ltQ6  -3.435401 -12.296043  1.999796   57.085625\n",
       "41906  LHZR0  -8.989672  -4.286607  2.009139   57.085625\n",
       "47591  wt4Uk  -9.091098  -8.109279 -0.002314    3.179103\n",
       "82178  bfPNe  -6.202799  -4.820045  2.995107   84.038886\n",
       "82873  wt4Uk  10.259972  -9.376355  4.994297  134.766305\n",
       "84461  5ltQ6  18.213839   2.191999  3.993869  107.813044"
      ]
     },
     "execution_count": 20,
     "metadata": {},
     "output_type": "execute_result"
    }
   ],
   "source": [
    "data_1[duplicate_rows_1_2]"
   ]
  },
  {
   "cell_type": "code",
   "execution_count": 21,
   "metadata": {},
   "outputs": [],
   "source": [
    "# Проверим на дубликаты по выбранной комбинации столбцов для data_2\n",
    "duplicate_rows_2_2 = data_2.duplicated(subset=['id'], keep=False)"
   ]
  },
  {
   "cell_type": "code",
   "execution_count": 22,
   "metadata": {},
   "outputs": [
    {
     "data": {
      "text/html": [
       "<div>\n",
       "<style scoped>\n",
       "    .dataframe tbody tr th:only-of-type {\n",
       "        vertical-align: middle;\n",
       "    }\n",
       "\n",
       "    .dataframe tbody tr th {\n",
       "        vertical-align: top;\n",
       "    }\n",
       "\n",
       "    .dataframe thead th {\n",
       "        text-align: right;\n",
       "    }\n",
       "</style>\n",
       "<table border=\"1\" class=\"dataframe\">\n",
       "  <thead>\n",
       "    <tr style=\"text-align: right;\">\n",
       "      <th></th>\n",
       "      <th>id</th>\n",
       "      <th>f0</th>\n",
       "      <th>f1</th>\n",
       "      <th>f2</th>\n",
       "      <th>product</th>\n",
       "    </tr>\n",
       "  </thead>\n",
       "  <tbody>\n",
       "    <tr>\n",
       "      <th>11449</th>\n",
       "      <td>VF7Jo</td>\n",
       "      <td>2.122656</td>\n",
       "      <td>-0.858275</td>\n",
       "      <td>5.746001</td>\n",
       "      <td>181.716817</td>\n",
       "    </tr>\n",
       "    <tr>\n",
       "      <th>28039</th>\n",
       "      <td>xCHr8</td>\n",
       "      <td>1.633027</td>\n",
       "      <td>0.368135</td>\n",
       "      <td>-2.378367</td>\n",
       "      <td>6.120525</td>\n",
       "    </tr>\n",
       "    <tr>\n",
       "      <th>43233</th>\n",
       "      <td>xCHr8</td>\n",
       "      <td>-0.847066</td>\n",
       "      <td>2.101796</td>\n",
       "      <td>5.597130</td>\n",
       "      <td>184.388641</td>\n",
       "    </tr>\n",
       "    <tr>\n",
       "      <th>44378</th>\n",
       "      <td>Vcm5J</td>\n",
       "      <td>-1.229484</td>\n",
       "      <td>-2.439204</td>\n",
       "      <td>1.222909</td>\n",
       "      <td>137.968290</td>\n",
       "    </tr>\n",
       "    <tr>\n",
       "      <th>45404</th>\n",
       "      <td>KUPhW</td>\n",
       "      <td>0.231846</td>\n",
       "      <td>-1.698941</td>\n",
       "      <td>4.990775</td>\n",
       "      <td>11.716299</td>\n",
       "    </tr>\n",
       "    <tr>\n",
       "      <th>49564</th>\n",
       "      <td>VF7Jo</td>\n",
       "      <td>-0.883115</td>\n",
       "      <td>0.560537</td>\n",
       "      <td>0.723601</td>\n",
       "      <td>136.233420</td>\n",
       "    </tr>\n",
       "    <tr>\n",
       "      <th>55967</th>\n",
       "      <td>KUPhW</td>\n",
       "      <td>1.211150</td>\n",
       "      <td>3.176408</td>\n",
       "      <td>5.543540</td>\n",
       "      <td>132.831802</td>\n",
       "    </tr>\n",
       "    <tr>\n",
       "      <th>95090</th>\n",
       "      <td>Vcm5J</td>\n",
       "      <td>2.587702</td>\n",
       "      <td>1.986875</td>\n",
       "      <td>2.482245</td>\n",
       "      <td>92.327572</td>\n",
       "    </tr>\n",
       "  </tbody>\n",
       "</table>\n",
       "</div>"
      ],
      "text/plain": [
       "          id        f0        f1        f2     product\n",
       "11449  VF7Jo  2.122656 -0.858275  5.746001  181.716817\n",
       "28039  xCHr8  1.633027  0.368135 -2.378367    6.120525\n",
       "43233  xCHr8 -0.847066  2.101796  5.597130  184.388641\n",
       "44378  Vcm5J -1.229484 -2.439204  1.222909  137.968290\n",
       "45404  KUPhW  0.231846 -1.698941  4.990775   11.716299\n",
       "49564  VF7Jo -0.883115  0.560537  0.723601  136.233420\n",
       "55967  KUPhW  1.211150  3.176408  5.543540  132.831802\n",
       "95090  Vcm5J  2.587702  1.986875  2.482245   92.327572"
      ]
     },
     "execution_count": 22,
     "metadata": {},
     "output_type": "execute_result"
    }
   ],
   "source": [
    "data_2[duplicate_rows_2_2]"
   ]
  },
  {
   "cell_type": "markdown",
   "metadata": {},
   "source": [
    "Видим, что у нескольких записей id повторяются. Удалим их"
   ]
  },
  {
   "cell_type": "code",
   "execution_count": 23,
   "metadata": {},
   "outputs": [
    {
     "name": "stdout",
     "output_type": "stream",
     "text": [
      "Размер data_0 после удаления дубликатов: (99990, 5)\n",
      "Размер data_1 после удаления дубликатов: (99996, 5)\n",
      "Размер data_2 после удаления дубликатов: (99996, 5)\n"
     ]
    }
   ],
   "source": [
    "# Удаляем дубликаты в столбце 'id' для каждого датасета\n",
    "data_0 = data_0.drop_duplicates(subset='id')\n",
    "data_1 = data_1.drop_duplicates(subset='id')\n",
    "data_2 = data_2.drop_duplicates(subset='id')\n",
    "\n",
    "# Проверим, сколько строк осталось после удаления дубликатов\n",
    "print(f\"Размер data_0 после удаления дубликатов: {data_0.shape}\")\n",
    "print(f\"Размер data_1 после удаления дубликатов: {data_1.shape}\")\n",
    "print(f\"Размер data_2 после удаления дубликатов: {data_2.shape}\")"
   ]
  },
  {
   "cell_type": "markdown",
   "metadata": {},
   "source": [
    "Удалили от 4 до 10 записей из каждого датасета"
   ]
  },
  {
   "cell_type": "markdown",
   "metadata": {},
   "source": [
    "### Статистический анализ данных "
   ]
  },
  {
   "cell_type": "markdown",
   "metadata": {},
   "source": [
    "Далее проведем исследовательский анализ данных "
   ]
  },
  {
   "cell_type": "code",
   "execution_count": 24,
   "metadata": {},
   "outputs": [
    {
     "name": "stdout",
     "output_type": "stream",
     "text": [
      "Statistical analysis 0:\n",
      "                 f0            f1            f2       product\n",
      "count  99990.000000  99990.000000  99990.000000  99990.000000\n",
      "mean       0.500454      0.250141      2.502629     92.499684\n",
      "std        0.871844      0.504430      3.248149     44.288304\n",
      "min       -1.408605     -0.848218    -12.088328      0.000000\n",
      "25%       -0.072572     -0.200877      0.287784     56.497069\n",
      "50%        0.502405      0.250252      2.515969     91.847928\n",
      "75%        1.073626      0.700640      4.715035    128.563699\n",
      "max        2.362331      1.343769     16.003790    185.364347\n",
      "\n",
      "\n",
      "Statistical analysis 1:\n",
      "                 f0            f1            f2       product\n",
      "count  99996.000000  99996.000000  99996.000000  99996.000000\n",
      "mean       1.141209     -4.796608      2.494501     68.823916\n",
      "std        8.965815      5.119906      1.703579     45.944663\n",
      "min      -31.609576    -26.358598     -0.018144      0.000000\n",
      "25%       -6.298551     -8.267985      1.000021     26.953261\n",
      "50%        1.153055     -4.813172      2.011475     57.085625\n",
      "75%        8.620964     -1.332816      3.999904    107.813044\n",
      "max       29.421755     18.734063      5.019721    137.945408\n",
      "\n",
      "\n",
      "Statistical analysis 2:\n",
      "                 f0            f1            f2       product\n",
      "count  99996.000000  99996.000000  99996.000000  99996.000000\n",
      "mean       0.002002     -0.002159      2.495084     94.998342\n",
      "std        1.732052      1.730397      3.473482     44.749573\n",
      "min       -8.760004     -7.084020    -11.970335      0.000000\n",
      "25%       -1.162328     -1.174841      0.130269     59.450028\n",
      "50%        0.009424     -0.009661      2.484236     94.925026\n",
      "75%        1.158477      1.163523      4.858720    130.586815\n",
      "max        7.238262      7.844801     16.739402    190.029838\n",
      "\n",
      "\n"
     ]
    }
   ],
   "source": [
    "def statistic_datasets(datasets):\n",
    "    for i, df in enumerate(datasets):\n",
    "        # выведем данные статистики\n",
    "        print(f\"Statistical analysis {i}:\")\n",
    "        print(df.describe())\n",
    "        print(\"\\n\")\n",
    "        \n",
    "#предоставим список загруженных датасетов\n",
    "datasets = [data_0, data_1, data_2]\n",
    "\n",
    "# запустим функцию для анализа\n",
    "statistic_datasets(datasets)"
   ]
  },
  {
   "cell_type": "code",
   "execution_count": 25,
   "metadata": {},
   "outputs": [
    {
     "data": {
      "image/png": "[encoded data removed]",
      "text/plain": [
       "<Figure size 1008x864 with 6 Axes>"
      ]
     },
     "metadata": {
      "needs_background": "light"
     },
     "output_type": "display_data"
    }
   ],
   "source": [
    "# Создаем фигуру и оси\n",
    "fig, axes = plt.subplots(3, 2, figsize=(14, 12))\n",
    "\n",
    "# Data 0\n",
    "sns.boxplot(data=data_0, x='product', ax=axes[0, 0], color='blue')\n",
    "sns.histplot(data=data_0, x='product', kde=True, ax=axes[0, 1], color='skyblue')\n",
    "\n",
    "# Data 1\n",
    "sns.boxplot(data=data_1, x='product', ax=axes[1, 0], color='green')\n",
    "sns.histplot(data=data_1, x='product', kde=True, ax=axes[1, 1], color='lightgreen')\n",
    "\n",
    "# Data 2\n",
    "sns.boxplot(data=data_2, x='product', ax=axes[2, 0], color='red')\n",
    "sns.histplot(data=data_2, x='product', kde=True, ax=axes[2, 1], color='salmon')\n",
    "\n",
    "# Настроим графики\n",
    "axes[0, 0].set_title('Boxplot - Data 0')\n",
    "axes[0, 1].set_title('Histplot - Data 0')\n",
    "axes[1, 0].set_title('Boxplot - Data 1')\n",
    "axes[1, 1].set_title('Histplot - Data 1')\n",
    "axes[2, 0].set_title('Boxplot - Data 2')\n",
    "axes[2, 1].set_title('Histplot - Data 2')\n",
    "\n",
    "plt.tight_layout()\n",
    "plt.show()"
   ]
  },
  {
   "cell_type": "markdown",
   "metadata": {},
   "source": [
    "Рассмотрим статистические результаты. Тут нас интересуют только данные по объему запаса в скважине 'product'. Для 0 и 2 региона данные по среднему значению запаса нефти близки, однако в 1 регионе ее значительно меньше. Средний запас в 0 региона составляет 92.5 тыс баррелей, в 1-ом - 68.82, в 3-ем - 95 тыс баррелей. Стандартное отклоненение для всех 3-х регионов составляют ок 44-45 тыс баррелей, что значительно. Максимальный объем нефти в 0 регионе сотавил - 185.36, в 1-ом - 137.95, в 3-ем - 190.03 тыс баррелей. Минимальный объем составил для всех регионов равен 0. Распределение данных для 0 и 2 регионов очень похожи, чего не скажешь о регионе 1."
   ]
  },
  {
   "cell_type": "markdown",
   "metadata": {},
   "source": [
    "### Корреляционный анализ "
   ]
  },
  {
   "cell_type": "markdown",
   "metadata": {},
   "source": [
    "Далее проведем корреляционный анализ"
   ]
  },
  {
   "cell_type": "code",
   "execution_count": 26,
   "metadata": {},
   "outputs": [],
   "source": [
    "#удалим столбец id из данных\n",
    "data0 = data_0.drop(['id'], axis=1)\n",
    "data1 = data_1.drop(['id'], axis=1)\n",
    "data2 = data_2.drop(['id'], axis=1)"
   ]
  },
  {
   "cell_type": "code",
   "execution_count": 27,
   "metadata": {},
   "outputs": [
    {
     "name": "stdout",
     "output_type": "stream",
     "text": [
      "Матрица корреляций для data_0:\n",
      "               f0        f1        f2   product\n",
      "f0       1.000000  0.762181  0.000000  0.215523\n",
      "f1       0.762181  1.000000  0.000000  0.253534\n",
      "f2       0.000000  0.000000  1.000000  0.475867\n",
      "product  0.215523  0.253534  0.475867  1.000000\n",
      "\n",
      "Матрица корреляций для data_1:\n",
      "               f0        f1        f2   product\n",
      "f0       1.000000  0.196075  0.000000  0.628477\n",
      "f1       0.196075  1.000000  0.000000  0.185948\n",
      "f2       0.000000  0.000000  1.000000  0.978935\n",
      "product  0.628477  0.185948  0.978935  1.000000\n",
      "\n",
      "Матрица корреляций для data_2:\n",
      "              f0        f1        f2   product\n",
      "f0       1.00000  0.000000  0.000000  0.201070\n",
      "f1       0.00000  1.000000  0.000000  0.220992\n",
      "f2       0.00000  0.000000  1.000000  0.443282\n",
      "product  0.20107  0.220992  0.443282  1.000000\n"
     ]
    }
   ],
   "source": [
    "#укажем список непрерывных признаков\n",
    "interval_cols = ['f0', 'f1', 'f2', 'product']\n",
    "# Вычислим матрицы корреляций для каждого набора данных\n",
    "phik_matrix_0 = data0.phik_matrix(interval_cols=interval_cols)\n",
    "phik_matrix_1 = data1.phik_matrix(interval_cols=interval_cols)\n",
    "phik_matrix_2 = data2.phik_matrix(interval_cols=interval_cols)\n",
    "# Отобразим матрицы корреляций\n",
    "print(\"Матрица корреляций для data_0:\")\n",
    "print(phik_matrix_0)\n",
    "\n",
    "print(\"\\nМатрица корреляций для data_1:\")\n",
    "print(phik_matrix_1)\n",
    "\n",
    "print(\"\\nМатрица корреляций для data_2:\")\n",
    "print(phik_matrix_2)"
   ]
  },
  {
   "cell_type": "code",
   "execution_count": 28,
   "metadata": {},
   "outputs": [
    {
     "name": "stdout",
     "output_type": "stream",
     "text": [
      "Матрица корреляций для data_0:\n",
      "\n",
      "Матрица корреляций для data_1:\n",
      "\n",
      "Матрица корреляций для data_2:\n"
     ]
    },
    {
     "data": {
      "image/png": "[encoded data removed]",
      "text/plain": [
       "<Figure size 1440x720 with 2 Axes>"
      ]
     },
     "metadata": {
      "needs_background": "light"
     },
     "output_type": "display_data"
    },
    {
     "data": {
      "image/png": "[encoded data removed]",
      "text/plain": [
       "<Figure size 1440x720 with 2 Axes>"
      ]
     },
     "metadata": {
      "needs_background": "light"
     },
     "output_type": "display_data"
    },
    {
     "data": {
      "image/png": "[encoded data removed]",
      "text/plain": [
       "<Figure size 1440x720 with 2 Axes>"
      ]
     },
     "metadata": {
      "needs_background": "light"
     },
     "output_type": "display_data"
    }
   ],
   "source": [
    "#визуализируем полученные матрицы\n",
    "plt.figure(figsize=(20,10))\n",
    "print(\"Матрица корреляций для data_0:\")\n",
    "sns.heatmap(data0.phik_matrix(interval_cols=interval_cols), annot=True, cmap='cividis');\n",
    "\n",
    "plt.figure(figsize=(20,10))\n",
    "print(\"\\nМатрица корреляций для data_1:\")\n",
    "sns.heatmap(data1.phik_matrix(interval_cols=interval_cols), annot=True, cmap='cividis');\n",
    "\n",
    "plt.figure(figsize=(20,10))\n",
    "print(\"\\nМатрица корреляций для data_2:\")\n",
    "sns.heatmap(data2.phik_matrix(interval_cols=interval_cols), annot=True, cmap='cividis');"
   ]
  },
  {
   "cell_type": "markdown",
   "metadata": {},
   "source": [
    "Исходя из полученной матрицы корреляции Phik, можно отметить следующее: 1) для региона 0, объем запасов нефти коррелирует с f2(0.48), затем с f1(0.25) и f0(0.22). Относительно высокую корреляцию между собой имеют признаки f0 и f1 (0.76) 2) для региона 1, объем запасов нефти сильно коррелирует с f2(0.98), что говорит о том, что f2 является самым значимым признаком для предсказания объема запасов нефти в этом регионе. Затем с f0(0.63) и f1(0.19). 3)  для региона 2, объем запасов нефти коррелирует с f2(0.44), затем с f1(0.22) и f0(0.2)."
   ]
  },
  {
   "cell_type": "markdown",
   "metadata": {},
   "source": [
    "Расчёт VIF помогает определить, насколько степень корреляции между признаками может повлиять на устойчивость модели. Значения VIF выше 10 (или иногда 5) указывают на значительную мультиколлинеарность."
   ]
  },
  {
   "cell_type": "code",
   "execution_count": 29,
   "metadata": {},
   "outputs": [],
   "source": [
    "# добавим константы для расчета VIF\n",
    "X = add_constant(data0)"
   ]
  },
  {
   "cell_type": "code",
   "execution_count": 30,
   "metadata": {},
   "outputs": [],
   "source": [
    "#вычислим VIF\n",
    "vif_data = pd.DataFrame()\n",
    "vif_data['feature'] = X.columns\n",
    "vif_data['VIF'] = [variance_inflation_factor(X.values, i) for i in range(X.shape[1])]"
   ]
  },
  {
   "cell_type": "code",
   "execution_count": 31,
   "metadata": {},
   "outputs": [
    {
     "data": {
      "text/html": [
       "<div>\n",
       "<style scoped>\n",
       "    .dataframe tbody tr th:only-of-type {\n",
       "        vertical-align: middle;\n",
       "    }\n",
       "\n",
       "    .dataframe tbody tr th {\n",
       "        vertical-align: top;\n",
       "    }\n",
       "\n",
       "    .dataframe thead th {\n",
       "        text-align: right;\n",
       "    }\n",
       "</style>\n",
       "<table border=\"1\" class=\"dataframe\">\n",
       "  <thead>\n",
       "    <tr style=\"text-align: right;\">\n",
       "      <th></th>\n",
       "      <th>feature</th>\n",
       "      <th>VIF</th>\n",
       "    </tr>\n",
       "  </thead>\n",
       "  <tbody>\n",
       "    <tr>\n",
       "      <th>0</th>\n",
       "      <td>const</td>\n",
       "      <td>6.861392</td>\n",
       "    </tr>\n",
       "    <tr>\n",
       "      <th>1</th>\n",
       "      <td>f0</td>\n",
       "      <td>1.248692</td>\n",
       "    </tr>\n",
       "    <tr>\n",
       "      <th>2</th>\n",
       "      <td>f1</td>\n",
       "      <td>1.276588</td>\n",
       "    </tr>\n",
       "    <tr>\n",
       "      <th>3</th>\n",
       "      <td>f2</td>\n",
       "      <td>1.323630</td>\n",
       "    </tr>\n",
       "    <tr>\n",
       "      <th>4</th>\n",
       "      <td>product</td>\n",
       "      <td>1.380607</td>\n",
       "    </tr>\n",
       "  </tbody>\n",
       "</table>\n",
       "</div>"
      ],
      "text/plain": [
       "   feature       VIF\n",
       "0    const  6.861392\n",
       "1       f0  1.248692\n",
       "2       f1  1.276588\n",
       "3       f2  1.323630\n",
       "4  product  1.380607"
      ]
     },
     "execution_count": 31,
     "metadata": {},
     "output_type": "execute_result"
    }
   ],
   "source": [
    "vif_data"
   ]
  },
  {
   "cell_type": "markdown",
   "metadata": {},
   "source": [
    "Все значения VIF значительно ниже порога 10 (или 5), что указывает на отсутствие значительной мультиколлинеарности. Значения VIF ниже 10 означают, что корреляция между признаками не является проблемой для устойчивости модели в данном регионе."
   ]
  },
  {
   "cell_type": "code",
   "execution_count": 32,
   "metadata": {},
   "outputs": [],
   "source": [
    "# добавим константы для расчета VIF\n",
    "X = add_constant(data1)\n",
    "#вычислим VIF\n",
    "vif_data = pd.DataFrame()\n",
    "vif_data['feature'] = X.columns\n",
    "vif_data['VIF'] = [variance_inflation_factor(X.values, i) for i in range(X.shape[1])]"
   ]
  },
  {
   "cell_type": "code",
   "execution_count": 33,
   "metadata": {},
   "outputs": [
    {
     "data": {
      "text/html": [
       "<div>\n",
       "<style scoped>\n",
       "    .dataframe tbody tr th:only-of-type {\n",
       "        vertical-align: middle;\n",
       "    }\n",
       "\n",
       "    .dataframe tbody tr th {\n",
       "        vertical-align: top;\n",
       "    }\n",
       "\n",
       "    .dataframe thead th {\n",
       "        text-align: right;\n",
       "    }\n",
       "</style>\n",
       "<table border=\"1\" class=\"dataframe\">\n",
       "  <thead>\n",
       "    <tr style=\"text-align: right;\">\n",
       "      <th></th>\n",
       "      <th>feature</th>\n",
       "      <th>VIF</th>\n",
       "    </tr>\n",
       "  </thead>\n",
       "  <tbody>\n",
       "    <tr>\n",
       "      <th>0</th>\n",
       "      <td>const</td>\n",
       "      <td>7.561359</td>\n",
       "    </tr>\n",
       "    <tr>\n",
       "      <th>1</th>\n",
       "      <td>f0</td>\n",
       "      <td>3.163188</td>\n",
       "    </tr>\n",
       "    <tr>\n",
       "      <th>2</th>\n",
       "      <td>f1</td>\n",
       "      <td>1.049804</td>\n",
       "    </tr>\n",
       "    <tr>\n",
       "      <th>3</th>\n",
       "      <td>f2</td>\n",
       "      <td>2660.123168</td>\n",
       "    </tr>\n",
       "    <tr>\n",
       "      <th>4</th>\n",
       "      <td>product</td>\n",
       "      <td>2662.639020</td>\n",
       "    </tr>\n",
       "  </tbody>\n",
       "</table>\n",
       "</div>"
      ],
      "text/plain": [
       "   feature          VIF\n",
       "0    const     7.561359\n",
       "1       f0     3.163188\n",
       "2       f1     1.049804\n",
       "3       f2  2660.123168\n",
       "4  product  2662.639020"
      ]
     },
     "execution_count": 33,
     "metadata": {},
     "output_type": "execute_result"
    }
   ],
   "source": [
    "vif_data"
   ]
  },
  {
   "cell_type": "markdown",
   "metadata": {},
   "source": [
    "Значения VIF для f2 и product крайне высоки (приблизительно 2660), что указывает на сильную зависимость между этими признаками. Это согласуется с высокой корреляцией между f2 и product, выявленной ранее."
   ]
  },
  {
   "cell_type": "code",
   "execution_count": 34,
   "metadata": {},
   "outputs": [],
   "source": [
    "# добавим константы для расчета VIF\n",
    "X = add_constant(data2)\n",
    "#вычислим VIF\n",
    "vif_data = pd.DataFrame()\n",
    "vif_data['feature'] = X.columns\n",
    "vif_data['VIF'] = [variance_inflation_factor(X.values, i) for i in range(X.shape[1])]"
   ]
  },
  {
   "cell_type": "code",
   "execution_count": 35,
   "metadata": {},
   "outputs": [
    {
     "data": {
      "text/html": [
       "<div>\n",
       "<style scoped>\n",
       "    .dataframe tbody tr th:only-of-type {\n",
       "        vertical-align: middle;\n",
       "    }\n",
       "\n",
       "    .dataframe tbody tr th {\n",
       "        vertical-align: top;\n",
       "    }\n",
       "\n",
       "    .dataframe thead th {\n",
       "        text-align: right;\n",
       "    }\n",
       "</style>\n",
       "<table border=\"1\" class=\"dataframe\">\n",
       "  <thead>\n",
       "    <tr style=\"text-align: right;\">\n",
       "      <th></th>\n",
       "      <th>feature</th>\n",
       "      <th>VIF</th>\n",
       "    </tr>\n",
       "  </thead>\n",
       "  <tbody>\n",
       "    <tr>\n",
       "      <th>0</th>\n",
       "      <td>const</td>\n",
       "      <td>5.571730</td>\n",
       "    </tr>\n",
       "    <tr>\n",
       "      <th>1</th>\n",
       "      <td>f0</td>\n",
       "      <td>1.000004</td>\n",
       "    </tr>\n",
       "    <tr>\n",
       "      <th>2</th>\n",
       "      <td>f1</td>\n",
       "      <td>1.000003</td>\n",
       "    </tr>\n",
       "    <tr>\n",
       "      <th>3</th>\n",
       "      <td>f2</td>\n",
       "      <td>1.248126</td>\n",
       "    </tr>\n",
       "    <tr>\n",
       "      <th>4</th>\n",
       "      <td>product</td>\n",
       "      <td>1.248132</td>\n",
       "    </tr>\n",
       "  </tbody>\n",
       "</table>\n",
       "</div>"
      ],
      "text/plain": [
       "   feature       VIF\n",
       "0    const  5.571730\n",
       "1       f0  1.000004\n",
       "2       f1  1.000003\n",
       "3       f2  1.248126\n",
       "4  product  1.248132"
      ]
     },
     "execution_count": 35,
     "metadata": {},
     "output_type": "execute_result"
    }
   ],
   "source": [
    "vif_data"
   ]
  },
  {
   "cell_type": "markdown",
   "metadata": {},
   "source": [
    "Все значения VIF значительно ниже порога 10 (или 5), что указывает на отсутствие значительной мультиколлинеарности. Значения VIF ниже 10 означают, что корреляция между признаками не является проблемой для устойчивости модели в данном регионе."
   ]
  },
  {
   "cell_type": "markdown",
   "metadata": {},
   "source": [
    "## Обучение и проверка модели"
   ]
  },
  {
   "cell_type": "markdown",
   "metadata": {},
   "source": [
    "###  Обучение и проверка модели для региона 0"
   ]
  },
  {
   "cell_type": "markdown",
   "metadata": {},
   "source": [
    "напишем наш паплайн"
   ]
  },
  {
   "cell_type": "code",
   "execution_count": 36,
   "metadata": {},
   "outputs": [
    {
     "data": {
      "text/plain": [
       "((74992, 3), (24998, 3))"
      ]
     },
     "execution_count": 36,
     "metadata": {},
     "output_type": "execute_result"
    }
   ],
   "source": [
    "RANDOM_STATE = 42\n",
    "TEST_SIZE = 0.25\n",
    "#разделим наши данные на обучающую и тестовую выборки\n",
    "X_train, X_val, y_train, y_val = train_test_split(\n",
    "    data0.drop(['product'], axis=1),\n",
    "    data0['product'],\n",
    "    test_size = TEST_SIZE, \n",
    "    random_state = RANDOM_STATE)\n",
    "X_train.shape, X_val.shape"
   ]
  },
  {
   "cell_type": "markdown",
   "metadata": {},
   "source": [
    "Целевая переменная у нас - непрерывная величина, поэтому отдельно кодировать ее не требуется. В качестве модели будем рассматривать модель линейной регрессии"
   ]
  },
  {
   "cell_type": "markdown",
   "metadata": {},
   "source": [
    "Так, как у нас нет категориальных данных, то и кодирование не требуется. Значит займемся только масштабированием с использованием MinMaxScaler и StandardScaler"
   ]
  },
  {
   "cell_type": "code",
   "execution_count": 37,
   "metadata": {},
   "outputs": [],
   "source": [
    "num_columns = ['f0', 'f1', 'f2']"
   ]
  },
  {
   "cell_type": "code",
   "execution_count": 38,
   "metadata": {},
   "outputs": [],
   "source": [
    "# создаём общий пайплайн для подготовки данных\n",
    "data_preprocessor = ColumnTransformer(\n",
    "    [\n",
    "     ('num', MinMaxScaler(), num_columns)\n",
    "    ], \n",
    "    remainder='passthrough'\n",
    ")"
   ]
  },
  {
   "cell_type": "markdown",
   "metadata": {},
   "source": [
    "Как уже говорила выше, поскольку у нас целевая переменная - непрерывная величина, то мы будем в качестве модели рассматривать модель линейной регрессии. При варьировании параметров линейной регрессии мы попробуем рассмотреть 3 метода линейной регрессии: Ridge, Lasso и ElasticNet (каждого со своими параметрами). Это методы линейной регрессии, которые помогают улучшить обобщающую способность моделей и управлять проблемами, связанными с переобучением и многократной коллинеарностью."
   ]
  },
  {
   "cell_type": "code",
   "execution_count": 40,
   "metadata": {},
   "outputs": [],
   "source": [
    "# создаём итоговый пайплайн: подготовка данных и модель\n",
    "pipe_final = Pipeline([\n",
    "    ('preprocessor', data_preprocessor),\n",
    "    ('model', Ridge())\n",
    "])\n",
    "param_grid = [\n",
    "    {\n",
    "        'model': [Ridge()],\n",
    "        'model__alpha': [0.01, 0.1, 1, 10, 100],\n",
    "        'model__solver': ['auto', 'saga', 'lsqr'],\n",
    "        'model__fit_intercept': [True, False],\n",
    "        'preprocessor__num': [StandardScaler(), MinMaxScaler()] \n",
    "    },\n",
    "    {\n",
    "        'model': [Lasso()],\n",
    "        'model__alpha': [0.01, 0.1, 1, 10, 100],\n",
    "        'model__tol': [1e-4, 1e-3, 1e-2],\n",
    "        'model__fit_intercept': [True, False],\n",
    "        'preprocessor__num': [StandardScaler(), MinMaxScaler()]\n",
    "    },\n",
    "    {\n",
    "        'model': [ElasticNet()],\n",
    "        'model__alpha': [0.01, 0.1, 1, 10, 100],\n",
    "        'model__l1_ratio': [0.2, 0.5, 0.7, 1.0],\n",
    "        'model__fit_intercept': [True, False],\n",
    "        'preprocessor__num': [StandardScaler(), MinMaxScaler()]\n",
    "    }\n",
    "]\n"
   ]
  },
  {
   "cell_type": "code",
   "execution_count": 41,
   "metadata": {},
   "outputs": [
    {
     "data": {
      "text/plain": [
       "GridSearchCV(cv=5,\n",
       "             estimator=Pipeline(steps=[('preprocessor',\n",
       "                                        ColumnTransformer(remainder='passthrough',\n",
       "                                                          transformers=[('num',\n",
       "                                                                         MinMaxScaler(),\n",
       "                                                                         ['f0',\n",
       "                                                                          'f1',\n",
       "                                                                          'f2'])])),\n",
       "                                       ('model', Ridge())]),\n",
       "             n_jobs=-1,\n",
       "             param_grid=[{'model': [Ridge(alpha=10, solver='saga')],\n",
       "                          'model__alpha': [0.01, 0.1, 1, 10, 100],\n",
       "                          'model__fit_intercept': [True, False],\n",
       "                          'model__solver': ['auto', 'saga', 'lsqr'...\n",
       "                          'model__alpha': [0.01, 0.1, 1, 10, 100],\n",
       "                          'model__fit_intercept': [True, False],\n",
       "                          'model__tol': [0.0001, 0.001, 0.01],\n",
       "                          'preprocessor__num': [StandardScaler(),\n",
       "                                                MinMaxScaler()]},\n",
       "                         {'model': [ElasticNet()],\n",
       "                          'model__alpha': [0.01, 0.1, 1, 10, 100],\n",
       "                          'model__fit_intercept': [True, False],\n",
       "                          'model__l1_ratio': [0.2, 0.5, 0.7, 1.0],\n",
       "                          'preprocessor__num': [StandardScaler(),\n",
       "                                                MinMaxScaler()]}],\n",
       "             scoring='neg_mean_squared_error')"
      ]
     },
     "execution_count": 41,
     "metadata": {},
     "output_type": "execute_result"
    }
   ],
   "source": [
    "# Инициализация GridSearchCV\n",
    "grid_search = GridSearchCV(\n",
    "    pipe_final,\n",
    "    param_grid,\n",
    "    cv=5,\n",
    "    scoring='neg_mean_squared_error' ,\n",
    "    n_jobs=-1\n",
    ")\n",
    "\n",
    "# Обучение модели\n",
    "grid_search.fit(X_train, y_train)"
   ]
  },
  {
   "cell_type": "code",
   "execution_count": 42,
   "metadata": {},
   "outputs": [
    {
     "name": "stdout",
     "output_type": "stream",
     "text": [
      "Метрика MSE для лучшей модели:\n",
      " 1421.0964655164419\n",
      "Метрика RMSE для лучшей модели:\n",
      " 37.697433142276964\n",
      "\n",
      "Лучшая модель и её параметры:\n",
      "\n",
      " Pipeline(steps=[('preprocessor',\n",
      "                 ColumnTransformer(remainder='passthrough',\n",
      "                                   transformers=[('num', StandardScaler(),\n",
      "                                                  ['f0', 'f1', 'f2'])])),\n",
      "                ('model', Ridge(alpha=10, solver='saga'))])\n"
     ]
    }
   ],
   "source": [
    "print('Метрика MSE для лучшей модели:\\n', -grid_search.best_score_)\n",
    "print('Метрика RMSE для лучшей модели:\\n', np.sqrt(-grid_search.best_score_))\n",
    "print('\\nЛучшая модель и её параметры:\\n\\n', grid_search.best_estimator_) "
   ]
  },
  {
   "cell_type": "markdown",
   "metadata": {},
   "source": [
    "Таким образом, лучшей моделью оказалась модель линейной регрессии Ridge со следующими параметрами: alpha=0.01, solver='saga'"
   ]
  },
  {
   "cell_type": "code",
   "execution_count": 43,
   "metadata": {},
   "outputs": [
    {
     "name": "stdout",
     "output_type": "stream",
     "text": [
      "Метрика MSE на валидационной выборке: 1420.1669830249346\n",
      "Метрика RSME на валидационной выборке: 37.685102932391395\n",
      "Средний запас предсказанного сырья: 92.60982612924983\n"
     ]
    }
   ],
   "source": [
    "# проверим работу модели на валидационной выборке\n",
    "# рассчитаем прогноз на валидационных данных\n",
    "y_val_pred = grid_search.predict(X_val)\n",
    "print(f'Метрика MSE на валидационной выборке: {mean_squared_error(y_val, y_val_pred)}')\n",
    "print(f'Метрика RSME на валидационной выборке: {np.sqrt(mean_squared_error(y_val, y_val_pred))}')\n",
    "print(f'Средний запас предсказанного сырья: {np.mean(y_val_pred)}')"
   ]
  },
  {
   "cell_type": "markdown",
   "metadata": {},
   "source": [
    "MSE и RMSE дают представление о том, насколько хорошо модель предсказывает значения. Низкие значения MSE и RMSE указывают на хорошее качество модели. В данном случае, RMSE равен 37.76, что означает, что средняя ошибка предсказания модели составляет примерно 37.76 единиц от истинного значения. "
   ]
  },
  {
   "cell_type": "markdown",
   "metadata": {},
   "source": [
    "Далее сравним нашу лучшую модель с константной моделью"
   ]
  },
  {
   "cell_type": "code",
   "execution_count": 44,
   "metadata": {},
   "outputs": [
    {
     "name": "stdout",
     "output_type": "stream",
     "text": [
      "Метрика MSE на валидационной выборке: 1957.626967248855\n",
      "Метрика RSME на валидационной выборке: 44.24507845228501\n",
      "Средний запас предсказанного сырья: 92.53665796438528\n"
     ]
    }
   ],
   "source": [
    "#инициализируем DummyRegressor со стратегией 'mean'\n",
    "dummy_model = DummyRegressor(strategy='mean')\n",
    "dummy_model.fit(X_train, y_train)\n",
    "\n",
    "#предскажем константную модель на валидацционных данных\n",
    "y_dummy_pred = dummy_model.predict(X_val)\n",
    "\n",
    "#оценим качество константной модели\n",
    "print(f'Метрика MSE на валидационной выборке: {mean_squared_error(y_val, y_dummy_pred )}')\n",
    "print(f'Метрика RSME на валидационной выборке: {np.sqrt(mean_squared_error(y_val, y_dummy_pred ))}')\n",
    "print(f'Средний запас предсказанного сырья: {np.mean(y_dummy_pred )}')"
   ]
  },
  {
   "cell_type": "markdown",
   "metadata": {},
   "source": [
    "Наша лучшая модель значительно превосходит константную модель, что подтверждает, что все усилия по созданию новых признаков, тюнингу и кросс-валидации оправданы. Это также подтверждает, что наша модель вносит существенный вклад в улучшение качества предсказаний по сравнению с простым подходом."
   ]
  },
  {
   "cell_type": "markdown",
   "metadata": {},
   "source": [
    "Далее проведем анализ остатков."
   ]
  },
  {
   "cell_type": "code",
   "execution_count": 45,
   "metadata": {},
   "outputs": [],
   "source": [
    "# Предсказанные значения на тестовой выборке\n",
    "residuals = y_val - y_val_pred"
   ]
  },
  {
   "cell_type": "code",
   "execution_count": 46,
   "metadata": {},
   "outputs": [
    {
     "data": {
      "image/png": "[encoded data removed]",
      "text/plain": [
       "<Figure size 1080x360 with 3 Axes>"
      ]
     },
     "metadata": {
      "needs_background": "light"
     },
     "output_type": "display_data"
    }
   ],
   "source": [
    "#Построим графики по количественным признакам - гистограмму частотности\n",
    "#распределения и диаграмму рассеяния\n",
    "fig, axes = plt.subplots(nrows = 1, ncols= 3, figsize = (15, 5))\n",
    "\n",
    "axes[0].hist(residuals, bins = 20)\n",
    "axes[0].set_title('histogram of residual distribution')\n",
    "axes[0].set_xlabel('residuals')\n",
    "axes[0].set_ylabel('Frequency')\n",
    "\n",
    "axes[1].scatter(y_val_pred, residuals, alpha = 0.5)\n",
    "axes[1].set_xlabel('Model predictions')\n",
    "axes[1].set_ylabel('residuals')\n",
    "axes[1].set_title('analysis of variance')\n",
    "\n",
    "# sns.residplot для оценки распределения остатков и их гомоскедастичности\n",
    "sns.residplot(x=y_val_pred, y=residuals, lowess=True, ax=axes[2], line_kws={'color': 'red', 'lw': 2})\n",
    "axes[2].set_title('Residuals vs Predictions')\n",
    "axes[2].set_xlabel('Model Predictions')\n",
    "axes[2].set_ylabel('Residuals')\n",
    "\n",
    "plt.show()"
   ]
  },
  {
   "cell_type": "markdown",
   "metadata": {},
   "source": [
    "Остатки модели не только показывают разницу между предсказанным и истинным значениями. Они также отражают закономерности, которые позволяют судить о качестве модели. Анализ остатков проверяет не решения модели, а то, насколько хорошо она замечает взаимосвязи между признаками. Если она не справляется с этим, то уже не важно, близки ли её предсказания к исходным значениям. Модель будет работать нестабильно.\n",
    "\n",
    "Если посмотрим на график распределения остатков (график слева), то он показывает симметричное распределение, это может свидетельствовать о том, что модель в целом хорошо справляется с предсказаниями.\n",
    "Если посмотрим на диаграмму рассеяния (2 графика справа) остатков в зависимости от прогнозных значений модели, то отметим, что линия, полученная с помощью lowess, практически прямая, но с небольшим искривлением, это указывает на то, что остатки модели в целом распределены нормально, но возможны незначительные отклонения в зависимости от предсказанных значений. Небольшое искривление линии может свидетельствовать о возможных нелинейных отношениях, которые модель не полностью улавливает. В таком случае, модель может слегка недооценивать или переоценивать значения в определенных диапазонах предсказаний."
   ]
  },
  {
   "cell_type": "markdown",
   "metadata": {},
   "source": [
    "Так как у нас 3 похожих датасета, напишем функцию для анализа, что б упростить вычисления + сделаем так, что б получить таблицы  валидационной выборки сразу с реальными и предсказанными данными по выходу продукта (нефти). "
   ]
  },
  {
   "cell_type": "code",
   "execution_count": 47,
   "metadata": {},
   "outputs": [],
   "source": [
    "def evaluate_model(data, target_column, random_state=42, test_size=0.25):\n",
    "    # разделим наши данные на обучающую и валидационную выборки\n",
    "    X_train, X_val, y_train, y_val = train_test_split(\n",
    "        data.drop([target_column], axis=1),\n",
    "        data[target_column],\n",
    "        test_size=test_size, \n",
    "        random_state=random_state\n",
    "    )\n",
    "    \n",
    "    # определим наши признаки\n",
    "    num_columns = X_train.columns.tolist()\n",
    "    \n",
    "    #создадим  пайплайн для подготовки данных\n",
    "    data_preprocessor = ColumnTransformer(\n",
    "        [\n",
    "            ('num', MinMaxScaler(), num_columns)\n",
    "        ], \n",
    "        remainder='passthrough'\n",
    "    )\n",
    "    \n",
    "    # создадим итоговый пайплайн\n",
    "    pipe_final = Pipeline([\n",
    "        ('preprocessor', data_preprocessor),\n",
    "        ('model', Ridge())\n",
    "    ])\n",
    "    \n",
    "    param_grid = [\n",
    "        {\n",
    "            'model': [Ridge()],\n",
    "            'model__alpha': [0.01, 0.1, 1, 10, 100],\n",
    "            'model__solver': ['auto', 'saga', 'lsqr'],\n",
    "            'model__fit_intercept': [True, False],\n",
    "            'preprocessor__num': [StandardScaler(), MinMaxScaler()]\n",
    "        },\n",
    "        {\n",
    "            'model': [Lasso()],\n",
    "            'model__alpha': [0.01, 0.1, 1, 10, 100],\n",
    "            'model__tol': [1e-4, 1e-3, 1e-2],\n",
    "            'model__fit_intercept': [True, False],\n",
    "            'preprocessor__num': [StandardScaler(), MinMaxScaler()]\n",
    "        },\n",
    "        {\n",
    "            'model': [ElasticNet()],\n",
    "            'model__alpha': [0.01, 0.1, 1, 10, 100],\n",
    "            'model__l1_ratio': [0.2, 0.5, 0.7, 1.0],\n",
    "            'model__fit_intercept': [True, False],\n",
    "            'preprocessor__num': [StandardScaler(), MinMaxScaler()]\n",
    "        }\n",
    "    ]\n",
    "    \n",
    "    # иницилизируем  GridSearchCV\n",
    "    grid_search = GridSearchCV(\n",
    "        pipe_final,\n",
    "        param_grid,\n",
    "        cv=5,\n",
    "        scoring='neg_mean_squared_error',\n",
    "        n_jobs=-1\n",
    "    )\n",
    "    \n",
    "    # обучим нашу модель\n",
    "    grid_search.fit(X_train, y_train)\n",
    "    print('Метрика MSE для лучшей модели:\\n', -grid_search.best_score_)\n",
    "    print('Метрика RMSE для лучшей модели:\\n', np.sqrt(-grid_search.best_score_))\n",
    "    print('\\nЛучшая модель и её параметры:\\n\\n', grid_search.best_estimator_) \n",
    "    \n",
    "    # оценим наши метрики на валидационной выборке\n",
    "    y_val_pred = grid_search.predict(X_val)\n",
    "    mse = mean_squared_error(y_val, y_val_pred)\n",
    "    rmse = np.sqrt(mse)\n",
    "    avg_pred = np.mean(y_val_pred)\n",
    "    \n",
    "    print('Метрика MSE для валидационной модели:', mse)\n",
    "    print('Метрика RMSE для валидационной модели:', rmse)\n",
    "    print('Средний запас предсказанного сырья:', avg_pred)\n",
    "    \n",
    "    #добавим наши предсказанные значения сразу в валидационную выборку в виде отдельного столбца\n",
    "    X_val['true_product'] = y_val.values\n",
    "    X_val['predicted_product'] = y_val_pred\n",
    "    \n",
    "    #вычислим метрики для дамми модели\n",
    "    dummy_model = DummyRegressor(strategy='mean')\n",
    "    dummy_model.fit(X_train, y_train)\n",
    "    y_dummy_pred = dummy_model.predict(X_val)\n",
    "    dummy_mse = mean_squared_error(y_val, y_dummy_pred)\n",
    "    dummy_rmse = np.sqrt(dummy_mse)\n",
    "    \n",
    "    print('\\nКонстантная модель:')\n",
    "    print('Метрика MSE на валидационной выборке:', dummy_mse)\n",
    "    print('Метрика RMSE на валидационной выборке:', dummy_rmse)\n",
    "    \n",
    "    # Анализ остатков\n",
    "    residuals = y_val - y_val_pred\n",
    "    \n",
    "    # построим графики остатков\n",
    "    fig, axes = plt.subplots(nrows=1, ncols=3, figsize=(15, 5))\n",
    "    \n",
    "    axes[0].hist(residuals, bins=20)\n",
    "    axes[0].set_title('Histogram of Residual Distribution')\n",
    "    axes[0].set_xlabel('Residuals')\n",
    "    axes[0].set_ylabel('Frequency')\n",
    "    \n",
    "    axes[1].scatter(y_val_pred, residuals, alpha=0.5)\n",
    "    axes[1].set_xlabel('Model Predictions')\n",
    "    axes[1].set_ylabel('Residuals')\n",
    "    axes[1].set_title('Analysis of Variance')\n",
    "    \n",
    "    sns.residplot(x=y_val_pred, y=residuals, lowess=True, ax=axes[2], line_kws={'color': 'red', 'lw': 2})\n",
    "    axes[2].set_title('Residuals vs Predictions')\n",
    "    axes[2].set_xlabel('Model Predictions')\n",
    "    axes[2].set_ylabel('Residuals')\n",
    "    \n",
    "    plt.show()\n",
    "    \n",
    "    # Возвращаем валидационную выборку, метрики RMSE и дамми-модель\n",
    "    return X_val, rmse, dummy_rmse, residuals"
   ]
  },
  {
   "cell_type": "code",
   "execution_count": 48,
   "metadata": {},
   "outputs": [
    {
     "name": "stdout",
     "output_type": "stream",
     "text": [
      "Метрика MSE для лучшей модели:\n",
      " 1421.0799714710324\n",
      "Метрика RMSE для лучшей модели:\n",
      " 37.697214372829094\n",
      "\n",
      "Лучшая модель и её параметры:\n",
      "\n",
      " Pipeline(steps=[('preprocessor',\n",
      "                 ColumnTransformer(remainder='passthrough',\n",
      "                                   transformers=[('num', StandardScaler(),\n",
      "                                                  ['f0', 'f1', 'f2'])])),\n",
      "                ('model', Ridge(alpha=1, solver='saga'))])\n",
      "Метрика MSE для валидационной модели: 1420.1638345805554\n",
      "Метрика RMSE для валидационной модели: 37.685061159304965\n",
      "Средний запас предсказанного сырья: 92.60982414166759\n",
      "\n",
      "Константная модель:\n",
      "Метрика MSE на валидационной выборке: 1957.626967248855\n",
      "Метрика RMSE на валидационной выборке: 44.24507845228501\n"
     ]
    },
    {
     "data": {
      "image/png": "[encoded data removed]",
      "text/plain": [
       "<Figure size 1080x360 with 3 Axes>"
      ]
     },
     "metadata": {
      "needs_background": "light"
     },
     "output_type": "display_data"
    }
   ],
   "source": [
    "#посмотрим/проверим еще раз данные для 0 региона\n",
    "X_val_0, rmse_0, dummy_rmse_0, residuals_0 = evaluate_model(data0, 'product')"
   ]
  },
  {
   "cell_type": "code",
   "execution_count": 49,
   "metadata": {},
   "outputs": [
    {
     "data": {
      "text/html": [
       "<div>\n",
       "<style scoped>\n",
       "    .dataframe tbody tr th:only-of-type {\n",
       "        vertical-align: middle;\n",
       "    }\n",
       "\n",
       "    .dataframe tbody tr th {\n",
       "        vertical-align: top;\n",
       "    }\n",
       "\n",
       "    .dataframe thead th {\n",
       "        text-align: right;\n",
       "    }\n",
       "</style>\n",
       "<table border=\"1\" class=\"dataframe\">\n",
       "  <thead>\n",
       "    <tr style=\"text-align: right;\">\n",
       "      <th></th>\n",
       "      <th>f0</th>\n",
       "      <th>f1</th>\n",
       "      <th>f2</th>\n",
       "      <th>true_product</th>\n",
       "      <th>predicted_product</th>\n",
       "    </tr>\n",
       "  </thead>\n",
       "  <tbody>\n",
       "    <tr>\n",
       "      <th>33966</th>\n",
       "      <td>1.760123</td>\n",
       "      <td>0.602091</td>\n",
       "      <td>7.850248</td>\n",
       "      <td>119.813252</td>\n",
       "      <td>127.502839</td>\n",
       "    </tr>\n",
       "    <tr>\n",
       "      <th>22854</th>\n",
       "      <td>0.948101</td>\n",
       "      <td>-0.601353</td>\n",
       "      <td>4.055264</td>\n",
       "      <td>133.296862</td>\n",
       "      <td>116.465669</td>\n",
       "    </tr>\n",
       "    <tr>\n",
       "      <th>19449</th>\n",
       "      <td>-0.721709</td>\n",
       "      <td>0.577912</td>\n",
       "      <td>-0.134307</td>\n",
       "      <td>25.310435</td>\n",
       "      <td>66.034711</td>\n",
       "    </tr>\n",
       "    <tr>\n",
       "      <th>9733</th>\n",
       "      <td>-0.084550</td>\n",
       "      <td>0.907580</td>\n",
       "      <td>-2.972129</td>\n",
       "      <td>65.422491</td>\n",
       "      <td>45.000351</td>\n",
       "    </tr>\n",
       "    <tr>\n",
       "      <th>7129</th>\n",
       "      <td>0.272074</td>\n",
       "      <td>0.818032</td>\n",
       "      <td>8.694180</td>\n",
       "      <td>140.851476</td>\n",
       "      <td>124.550101</td>\n",
       "    </tr>\n",
       "  </tbody>\n",
       "</table>\n",
       "</div>"
      ],
      "text/plain": [
       "             f0        f1        f2  true_product  predicted_product\n",
       "33966  1.760123  0.602091  7.850248    119.813252         127.502839\n",
       "22854  0.948101 -0.601353  4.055264    133.296862         116.465669\n",
       "19449 -0.721709  0.577912 -0.134307     25.310435          66.034711\n",
       "9733  -0.084550  0.907580 -2.972129     65.422491          45.000351\n",
       "7129   0.272074  0.818032  8.694180    140.851476         124.550101"
      ]
     },
     "execution_count": 49,
     "metadata": {},
     "output_type": "execute_result"
    }
   ],
   "source": [
    "#выведем на экран первые 5 строк валидационной выборки для региона 0 с добавленными предсказаннными значениями\n",
    "X_val_0.head()"
   ]
  },
  {
   "cell_type": "markdown",
   "metadata": {},
   "source": [
    "###  Обучение и проверка модели для региона 1"
   ]
  },
  {
   "cell_type": "markdown",
   "metadata": {},
   "source": [
    "Далее применим нашу функцию к датасету региона 1:"
   ]
  },
  {
   "cell_type": "code",
   "execution_count": 50,
   "metadata": {},
   "outputs": [
    {
     "name": "stdout",
     "output_type": "stream",
     "text": [
      "Метрика MSE для лучшей модели:\n",
      " 0.7913973568604787\n",
      "Метрика RMSE для лучшей модели:\n",
      " 0.8896051690837227\n",
      "\n",
      "Лучшая модель и её параметры:\n",
      "\n",
      " Pipeline(steps=[('preprocessor',\n",
      "                 ColumnTransformer(remainder='passthrough',\n",
      "                                   transformers=[('num', StandardScaler(),\n",
      "                                                  ['f0', 'f1', 'f2'])])),\n",
      "                ('model', Ridge(alpha=1, solver='saga'))])\n",
      "Метрика MSE для валидационной модели: 0.7971099481702641\n",
      "Метрика RMSE для валидационной модели: 0.8928101411667904\n",
      "Средний запас предсказанного сырья: 68.57708560865926\n",
      "\n",
      "Константная модель:\n",
      "Метрика MSE на валидационной выборке: 2112.7639983499243\n",
      "Метрика RMSE на валидационной выборке: 45.96481261084314\n"
     ]
    },
    {
     "data": {
      "image/png": "[encoded data removed]",
      "text/plain": [
       "<Figure size 1080x360 with 3 Axes>"
      ]
     },
     "metadata": {
      "needs_background": "light"
     },
     "output_type": "display_data"
    }
   ],
   "source": [
    "#применим функцию к 'data1'... региону 1\n",
    "X_val_1, rmse_1, dummy_rmse_1, residuals_1 = evaluate_model(data1, 'product')"
   ]
  },
  {
   "cell_type": "code",
   "execution_count": 51,
   "metadata": {
    "scrolled": true
   },
   "outputs": [
    {
     "data": {
      "text/html": [
       "<div>\n",
       "<style scoped>\n",
       "    .dataframe tbody tr th:only-of-type {\n",
       "        vertical-align: middle;\n",
       "    }\n",
       "\n",
       "    .dataframe tbody tr th {\n",
       "        vertical-align: top;\n",
       "    }\n",
       "\n",
       "    .dataframe thead th {\n",
       "        text-align: right;\n",
       "    }\n",
       "</style>\n",
       "<table border=\"1\" class=\"dataframe\">\n",
       "  <thead>\n",
       "    <tr style=\"text-align: right;\">\n",
       "      <th></th>\n",
       "      <th>f0</th>\n",
       "      <th>f1</th>\n",
       "      <th>f2</th>\n",
       "      <th>true_product</th>\n",
       "      <th>predicted_product</th>\n",
       "    </tr>\n",
       "  </thead>\n",
       "  <tbody>\n",
       "    <tr>\n",
       "      <th>33968</th>\n",
       "      <td>0.518707</td>\n",
       "      <td>-5.983575</td>\n",
       "      <td>0.001335</td>\n",
       "      <td>0.000000</td>\n",
       "      <td>1.742545</td>\n",
       "    </tr>\n",
       "    <tr>\n",
       "      <th>24612</th>\n",
       "      <td>5.588148</td>\n",
       "      <td>-2.187963</td>\n",
       "      <td>5.003146</td>\n",
       "      <td>134.766305</td>\n",
       "      <td>135.734676</td>\n",
       "    </tr>\n",
       "    <tr>\n",
       "      <th>42678</th>\n",
       "      <td>18.826929</td>\n",
       "      <td>-2.119254</td>\n",
       "      <td>4.993071</td>\n",
       "      <td>134.766305</td>\n",
       "      <td>133.540122</td>\n",
       "    </tr>\n",
       "    <tr>\n",
       "      <th>9732</th>\n",
       "      <td>-0.353690</td>\n",
       "      <td>-10.003708</td>\n",
       "      <td>0.998885</td>\n",
       "      <td>30.132364</td>\n",
       "      <td>28.837782</td>\n",
       "    </tr>\n",
       "    <tr>\n",
       "      <th>7129</th>\n",
       "      <td>-9.755378</td>\n",
       "      <td>-2.236383</td>\n",
       "      <td>5.006190</td>\n",
       "      <td>137.945408</td>\n",
       "      <td>138.044840</td>\n",
       "    </tr>\n",
       "  </tbody>\n",
       "</table>\n",
       "</div>"
      ],
      "text/plain": [
       "              f0         f1        f2  true_product  predicted_product\n",
       "33968   0.518707  -5.983575  0.001335      0.000000           1.742545\n",
       "24612   5.588148  -2.187963  5.003146    134.766305         135.734676\n",
       "42678  18.826929  -2.119254  4.993071    134.766305         133.540122\n",
       "9732   -0.353690 -10.003708  0.998885     30.132364          28.837782\n",
       "7129   -9.755378  -2.236383  5.006190    137.945408         138.044840"
      ]
     },
     "execution_count": 51,
     "metadata": {},
     "output_type": "execute_result"
    }
   ],
   "source": [
    "#выведем на экран первые 5 строк валидационной выборки для региона 1 с добавленными предсказаннными значениями\n",
    "X_val_1.head()"
   ]
  },
  {
   "cell_type": "markdown",
   "metadata": {},
   "source": [
    "Таким образом, для рассчета продукта региона 1, лучшей моделью оказалась модель линейной регрессии Ridge со следующими параметрами: alpha=0.01. Низкие значения MSE и RMSE указывают на хорошее качество модели. В данном случае, RMSE равен 0.89, что означает, что средняя ошибка предсказания модели составляет примерно 0.89 единиц от истинного значения. Данная метрика значительно ниже, чем для региона 0, возможно это связано с тем, у целевой переменной и признака f2 очень высокая корреляция. Наша лучшая модель значительно превосходит константную модель, что подтверждает, что все усилия по созданию новых признаков, тюнингу и кросс-валидации оправданы. Это также подтверждает, что наша модель вносит существенный вклад в улучшение качества предсказаний по сравнению с простым подходом. \n",
    "При анализе остатков, можно отметить, что график распределения остатков (график слева) показывает симметричное распределение, это может свидетельствовать о том, что модель в целом хорошо справляется с предсказаниями. Если посмотрим на диаграмму рассеяния (2 графика справа) остатков в зависимости от прогнозных значений модели, то отметим, что линия, полученная с помощью lowess, практически прямая, но с небольшим искривлением, это указывает на то, что остатки модели в целом распределены нормально, но возможны незначительные отклонения в зависимости от предсказанных значений. Небольшое искривление линии может свидетельствовать о возможных нелинейных отношениях, которые модель не полностью улавливает. В таком случае, модель может слегка недооценивать или переоценивать значения в определенных диапазонах предсказаний. Однако, сам характер графика необычный."
   ]
  },
  {
   "cell_type": "markdown",
   "metadata": {},
   "source": [
    "###  Обучение и проверка модели для региона 2"
   ]
  },
  {
   "cell_type": "code",
   "execution_count": 52,
   "metadata": {},
   "outputs": [
    {
     "name": "stdout",
     "output_type": "stream",
     "text": [
      "Метрика MSE для лучшей модели:\n",
      " 1603.8348692748714\n",
      "Метрика RMSE для лучшей модели:\n",
      " 40.047907177215535\n",
      "\n",
      "Лучшая модель и её параметры:\n",
      "\n",
      " Pipeline(steps=[('preprocessor',\n",
      "                 ColumnTransformer(remainder='passthrough',\n",
      "                                   transformers=[('num', StandardScaler(),\n",
      "                                                  ['f0', 'f1', 'f2'])])),\n",
      "                ('model', Lasso(alpha=0.1, tol=0.01))])\n",
      "Метрика MSE для валидационной модели: 1606.3955016073182\n",
      "Метрика RMSE для валидационной модели: 40.079864041776865\n",
      "Средний запас предсказанного сырья: 94.93524065660043\n",
      "\n",
      "Константная модель:\n",
      "Метрика MSE на валидационной выборке: 1995.353466724719\n",
      "Метрика RMSE на валидационной выборке: 44.66937952025659\n"
     ]
    },
    {
     "data": {
      "image/png": "[encoded data removed]",
      "text/plain": [
       "<Figure size 1080x360 with 3 Axes>"
      ]
     },
     "metadata": {
      "needs_background": "light"
     },
     "output_type": "display_data"
    }
   ],
   "source": [
    "#применим функцию к 'data2'... региону 2\n",
    "X_val_2, rmse_2, dummy_rmse_2, residuals_2 = evaluate_model(data2, 'product')"
   ]
  },
  {
   "cell_type": "code",
   "execution_count": 53,
   "metadata": {},
   "outputs": [
    {
     "data": {
      "text/html": [
       "<div>\n",
       "<style scoped>\n",
       "    .dataframe tbody tr th:only-of-type {\n",
       "        vertical-align: middle;\n",
       "    }\n",
       "\n",
       "    .dataframe tbody tr th {\n",
       "        vertical-align: top;\n",
       "    }\n",
       "\n",
       "    .dataframe thead th {\n",
       "        text-align: right;\n",
       "    }\n",
       "</style>\n",
       "<table border=\"1\" class=\"dataframe\">\n",
       "  <thead>\n",
       "    <tr style=\"text-align: right;\">\n",
       "      <th></th>\n",
       "      <th>f0</th>\n",
       "      <th>f1</th>\n",
       "      <th>f2</th>\n",
       "      <th>true_product</th>\n",
       "      <th>predicted_product</th>\n",
       "    </tr>\n",
       "  </thead>\n",
       "  <tbody>\n",
       "    <tr>\n",
       "      <th>33968</th>\n",
       "      <td>-1.349641</td>\n",
       "      <td>3.092185</td>\n",
       "      <td>5.414776</td>\n",
       "      <td>156.925842</td>\n",
       "      <td>111.560277</td>\n",
       "    </tr>\n",
       "    <tr>\n",
       "      <th>24612</th>\n",
       "      <td>-2.312980</td>\n",
       "      <td>1.702764</td>\n",
       "      <td>-2.386952</td>\n",
       "      <td>31.245818</td>\n",
       "      <td>66.921930</td>\n",
       "    </tr>\n",
       "    <tr>\n",
       "      <th>42677</th>\n",
       "      <td>3.021226</td>\n",
       "      <td>-0.322292</td>\n",
       "      <td>-1.739777</td>\n",
       "      <td>48.478519</td>\n",
       "      <td>70.677612</td>\n",
       "    </tr>\n",
       "    <tr>\n",
       "      <th>9732</th>\n",
       "      <td>0.500312</td>\n",
       "      <td>-1.925757</td>\n",
       "      <td>-3.053501</td>\n",
       "      <td>34.079047</td>\n",
       "      <td>63.194802</td>\n",
       "    </tr>\n",
       "    <tr>\n",
       "      <th>7129</th>\n",
       "      <td>-2.202068</td>\n",
       "      <td>2.999640</td>\n",
       "      <td>10.552605</td>\n",
       "      <td>138.077543</td>\n",
       "      <td>140.981730</td>\n",
       "    </tr>\n",
       "  </tbody>\n",
       "</table>\n",
       "</div>"
      ],
      "text/plain": [
       "             f0        f1         f2  true_product  predicted_product\n",
       "33968 -1.349641  3.092185   5.414776    156.925842         111.560277\n",
       "24612 -2.312980  1.702764  -2.386952     31.245818          66.921930\n",
       "42677  3.021226 -0.322292  -1.739777     48.478519          70.677612\n",
       "9732   0.500312 -1.925757  -3.053501     34.079047          63.194802\n",
       "7129  -2.202068  2.999640  10.552605    138.077543         140.981730"
      ]
     },
     "execution_count": 53,
     "metadata": {},
     "output_type": "execute_result"
    }
   ],
   "source": [
    "#выведем на экран первые 5 строк валидационной выборки для региона 2 с добавленными предсказаннными значениями\n",
    "X_val_2.head()"
   ]
  },
  {
   "cell_type": "markdown",
   "metadata": {},
   "source": [
    "Таким образом, для рассчета продукта региона 2, лучшей моделью оказалась модель линейной регрессии Lasso со следующими параметрами: alpha=0.1, tol=0.01. Низкие значения MSE и RMSE указывают на хорошее качество модели. В данном случае, RMSE равен 40.08, что означает, что средняя ошибка предсказания модели составляет примерно 40.04 единиц от истинного значения. Данная метрика выше, чем для регионов 0 (37.68) и 1 (0.89). Наша лучшая модель значительно превосходит константную модель, что подтверждает, что все усилия по созданию новых признаков, тюнингу и кросс-валидации оправданы. Это также подтверждает, что наша модель вносит существенный вклад в улучшение качества предсказаний по сравнению с простым подходом. При анализе остатков, можно отметить, что график распределения остатков (график слева) показывает симметричное распределение, это может свидетельствовать о том, что модель в целом хорошо справляется с предсказаниями. Если посмотрим на диаграмму рассеяния (2 графика справа) остатков в зависимости от прогнозных значений модели, то отметим, что линия, полученная с помощью lowess, практически прямая, но с небольшим искривлением, это указывает на то, что остатки модели в целом распределены нормально, но возможны незначительные отклонения в зависимости от предсказанных значений. Небольшое искривление линии может свидетельствовать о возможных нелинейных отношениях, которые модель не полностью улавливает. В таком случае, модель может слегка недооценивать или переоценивать значения в определенных диапазонах предсказаний."
   ]
  },
  {
   "cell_type": "markdown",
   "metadata": {},
   "source": [
    "## Подготовка к расчёту прибыли"
   ]
  },
  {
   "cell_type": "code",
   "execution_count": 54,
   "metadata": {},
   "outputs": [],
   "source": [
    "#сохраним все ключевые значения для рассчетов в отдельные переменные\n",
    "BUDGET = 10_000_000_000\n",
    "PRICE_PER_BARREL = 450_000\n",
    "N_WELLS = 200"
   ]
  },
  {
   "cell_type": "markdown",
   "metadata": {},
   "source": [
    "Рассчитаем достаточный объём сырья для безубыточной разработки новой скважины и сравним полученный объём сырья со средним запасом в каждом регионе. "
   ]
  },
  {
   "cell_type": "markdown",
   "metadata": {},
   "source": [
    "Сначала сравним с предсказанными значениями валидационной выборки"
   ]
  },
  {
   "cell_type": "code",
   "execution_count": 55,
   "metadata": {
    "scrolled": true
   },
   "outputs": [
    {
     "name": "stdout",
     "output_type": "stream",
     "text": [
      "Безубыточный объём сырья: 22222.22 тыс. баррелей\n",
      "Средний запас в регионе 0: 92.61 тыс. баррелей\n",
      "Средний запас в регионе 1: 68.58 тыс. баррелей\n",
      "Средний запас в регионе 2: 94.94 тыс. баррелей\n"
     ]
    }
   ],
   "source": [
    "# Рассчитаем безубыточный объём\n",
    "def calculate_volume(BUDGET, PRICE_PER_BARREL):\n",
    "    return BUDGET / PRICE_PER_BARREL\n",
    "\n",
    "break_even_volume = calculate_volume(BUDGET, PRICE_PER_BARREL)\n",
    "print(f'Безубыточный объём сырья: {break_even_volume:.2f} тыс. баррелей')\n",
    "print(f'Средний запас в регионе 0: {X_val_0[\"predicted_product\"].mean():.2f} тыс. баррелей')\n",
    "print(f'Средний запас в регионе 1: {X_val_1[\"predicted_product\"].mean():.2f} тыс. баррелей')\n",
    "print(f'Средний запас в регионе 2: {X_val_2[\"predicted_product\"].mean():.2f} тыс. баррелей')"
   ]
  },
  {
   "cell_type": "markdown",
   "metadata": {},
   "source": [
    "Безубыточная добыча составила 22222.22 тыс. баррелей. Такой объем нефти должен содержаться в 200 разработанных скважинах. 10 млр дается на разработку скважин в регионе, которых будет 200 (выберут из 500). Можем попробовать умножить наш средний объем для каждого региона на количество скважин."
   ]
  },
  {
   "cell_type": "code",
   "execution_count": 56,
   "metadata": {},
   "outputs": [
    {
     "name": "stdout",
     "output_type": "stream",
     "text": [
      "Средний запас в 200 скважинах региона 0: 18521.96 тыс. баррелей\n",
      "Средний запас в 200 скважинах региона регионе 1: 13715.42 тыс. баррелей\n",
      "Средний запас в 200 скважинах региона регионе 2: 18987.05 тыс. баррелей\n"
     ]
    }
   ],
   "source": [
    "print(f'Средний запас в 200 скважинах региона 0: {(X_val_0[\"predicted_product\"].mean())*N_WELLS:.2f} тыс. баррелей')\n",
    "print(f'Средний запас в 200 скважинах региона регионе 1: {(X_val_1[\"predicted_product\"].mean())*N_WELLS:.2f} тыс. баррелей')\n",
    "print(f'Средний запас в 200 скважинах региона регионе 2: {(X_val_2[\"predicted_product\"].mean())*N_WELLS:.2f} тыс. баррелей')"
   ]
  },
  {
   "cell_type": "markdown",
   "metadata": {},
   "source": [
    "Тут получается, что мы не добираем по среднему запасу нефти в 200 скважинах"
   ]
  },
  {
   "cell_type": "markdown",
   "metadata": {},
   "source": [
    "а теперь сравним с реальными значениями"
   ]
  },
  {
   "cell_type": "code",
   "execution_count": 57,
   "metadata": {},
   "outputs": [
    {
     "name": "stdout",
     "output_type": "stream",
     "text": [
      "Безубыточный объём сырья: 22222.22 тыс. баррелей\n",
      "Средний запас в регионе 0: 92.39 тыс. баррелей\n",
      "Средний запас в регионе 1: 68.58 тыс. баррелей\n",
      "Средний запас в регионе 2: 95.25 тыс. баррелей\n"
     ]
    }
   ],
   "source": [
    "# Рассчитаем безубыточный объём\n",
    "def calculate_volume(BUDGET, PRICE_PER_BARREL):\n",
    "    return BUDGET / PRICE_PER_BARREL\n",
    "\n",
    "break_even_volume = calculate_volume(BUDGET, PRICE_PER_BARREL)\n",
    "\n",
    "# рассчитаем средний запас в каждом регионе\n",
    "print(f'Безубыточный объём сырья: {break_even_volume:.2f} тыс. баррелей')\n",
    "print(f'Средний запас в регионе 0: {X_val_0[\"true_product\"].mean():.2f} тыс. баррелей')\n",
    "print(f'Средний запас в регионе 1: {X_val_1[\"true_product\"].mean():.2f} тыс. баррелей')\n",
    "print(f'Средний запас в регионе 2: {X_val_2[\"true_product\"].mean():.2f} тыс. баррелей')"
   ]
  },
  {
   "cell_type": "code",
   "execution_count": 58,
   "metadata": {},
   "outputs": [
    {
     "name": "stdout",
     "output_type": "stream",
     "text": [
      "Средний запас в 200 скважинах региона 0: 18477.75 тыс. баррелей\n",
      "Средний запас в 200 скважинах региона регионе 1: 13716.72 тыс. баррелей\n",
      "Средний запас в 200 скважинах региона регионе 2: 19050.93 тыс. баррелей\n"
     ]
    }
   ],
   "source": [
    "print(f'Средний запас в 200 скважинах региона 0: {(X_val_0[\"true_product\"].mean())*N_WELLS:.2f} тыс. баррелей')\n",
    "print(f'Средний запас в 200 скважинах региона регионе 1: {(X_val_1[\"true_product\"].mean())*N_WELLS:.2f} тыс. баррелей')\n",
    "print(f'Средний запас в 200 скважинах региона регионе 2: {(X_val_2[\"true_product\"].mean())*N_WELLS:.2f} тыс. баррелей')"
   ]
  },
  {
   "cell_type": "markdown",
   "metadata": {},
   "source": [
    "Также, не получаем 22222.22 тыс баррелей"
   ]
  },
  {
   "cell_type": "markdown",
   "metadata": {},
   "source": [
    "Попробуем выбрать лучшие 200 скважин по объему нефти и посчитать запас в них. Сначала посмотрим на предсказанные значения"
   ]
  },
  {
   "cell_type": "code",
   "execution_count": 59,
   "metadata": {},
   "outputs": [
    {
     "name": "stdout",
     "output_type": "stream",
     "text": [
      "запас в 200 лучших скважинах региона 0: 31010.86 тыс. баррелей\n",
      "запас в 200 лучших скважинах региона 1: 27740.71 тыс. баррелей\n",
      "запас в 200 лучших скважинах региона 2: 29557.05 тыс. баррелей\n"
     ]
    }
   ],
   "source": [
    "#отсортируем данные по объему запасов и берем первые 200 строк\n",
    "top_200_0 = X_val_0.sort_values(by='predicted_product', ascending=False).head(200)\n",
    "top_200_1 = X_val_1.sort_values(by='predicted_product', ascending=False).head(200)\n",
    "top_200_2 = X_val_2.sort_values(by='predicted_product', ascending=False).head(200)\n",
    "\n",
    "# выведем наши результаты запаса в 200 лучших скважинах\n",
    "print(f'запас в 200 лучших скважинах региона 0: {top_200_0[\"predicted_product\"].sum():.2f} тыс. баррелей')\n",
    "print(f'запас в 200 лучших скважинах региона 1: {top_200_1[\"predicted_product\"].sum():.2f} тыс. баррелей')\n",
    "print(f'запас в 200 лучших скважинах региона 2: {top_200_2[\"predicted_product\"].sum():.2f} тыс. баррелей')"
   ]
  },
  {
   "cell_type": "markdown",
   "metadata": {},
   "source": [
    "Если отбирать лучшие скважины, то потенциально в каждом регионе можно выйти на безубыточную добычу. В этом рейтинге у региона 0 самое высокое значение, потом идет регион 2 и 1."
   ]
  },
  {
   "cell_type": "markdown",
   "metadata": {},
   "source": [
    "А теперь посмотрим на реальные значения"
   ]
  },
  {
   "cell_type": "code",
   "execution_count": 60,
   "metadata": {},
   "outputs": [
    {
     "name": "stdout",
     "output_type": "stream",
     "text": [
      "запас в 200 лучших скважинах региона 0: 36643.83 тыс. баррелей\n",
      "запас в 200 лучших скважинах региона 1: 27589.08 тыс. баррелей\n",
      "запас в 200 лучших скважинах региона 2: 37652.30 тыс. баррелей\n"
     ]
    }
   ],
   "source": [
    "# отсортируем данные по объему запасов и берем первые 200 строк\n",
    "top_200_0 = X_val_0.sort_values(by='true_product', ascending=False).head(200)\n",
    "top_200_1 = X_val_1.sort_values(by='true_product', ascending=False).head(200)\n",
    "top_200_2 = X_val_2.sort_values(by='true_product', ascending=False).head(200)\n",
    "\n",
    "#выведем результаты запаса в 200 лучших скважинах\n",
    "print(f'запас в 200 лучших скважинах региона 0: {top_200_0[\"true_product\"].sum():.2f} тыс. баррелей')\n",
    "print(f'запас в 200 лучших скважинах региона 1: {top_200_1[\"true_product\"].sum():.2f} тыс. баррелей')\n",
    "print(f'запас в 200 лучших скважинах региона 2: {top_200_2[\"true_product\"].sum():.2f} тыс. баррелей')"
   ]
  },
  {
   "cell_type": "markdown",
   "metadata": {},
   "source": [
    "По реальным данным также, можно выйти на безубыточную добычу нефти. Но в этом рейтинге у региона 2 самое высокое значение, потом идет регион 1 и самое низкое значение у региона 0."
   ]
  },
  {
   "cell_type": "markdown",
   "metadata": {},
   "source": [
    "## Расчёт прибыли и рисков "
   ]
  },
  {
   "cell_type": "markdown",
   "metadata": {},
   "source": [
    "Чтобы выполнить задачу, напишем функцию, которая будет принимать на вход 500 значений настоящего объёма сырья (true_product) и предсказанных значений (predicted_product). Затем она будет выбирать 200 лучших скважин на основе предсказанных значений и вычислять прибыль, используя настоящие значения объёма сырья. После этого с помощью бутстрэпа мы посчитаем среднюю прибыль, доверительный интервал и риск убытков."
   ]
  },
  {
   "cell_type": "code",
   "execution_count": 67,
   "metadata": {},
   "outputs": [],
   "source": [
    "def calculate_profit(true_product, predicted_product, SELECTED_WELLS=200, PRICE_PER_BARREL=450_000, BUDGET=10_000_000_000):\n",
    "    \n",
    "    # Объединим настоящие и предсказанные значения в один DataFrame\n",
    "    data = pd.DataFrame({'true_product': true_product, 'predicted_product': predicted_product})\n",
    "    \n",
    "    # еще раз отсортируем наши скважины по предсказанным значениям и выбираем лучшие скважины\n",
    "    selected_data = data.sort_values(by='predicted_product', ascending=False).head(SELECTED_WELLS)\n",
    "    \n",
    "    # Рассчитаем прибыль, используя реальные данные\n",
    "    total_profit = selected_data['true_product'].sum() * PRICE_PER_BARREL\n",
    "    \n",
    "    #вычтем наши затраты на разработку\n",
    "    net_profit = total_profit - BUDGET\n",
    "    \n",
    "    return net_profit"
   ]
  },
  {
   "cell_type": "markdown",
   "metadata": {},
   "source": [
    "Теперь создадим функцию для выполнения бутстрэпа и расчёта статистик:"
   ]
  },
  {
   "cell_type": "code",
   "execution_count": 68,
   "metadata": {},
   "outputs": [],
   "source": [
    "def bootstrap_profit(true_product, predicted_product, N_SAMPLES=1000, WELLS=500, SELECTED_WELLS=200, PRICE_PER_BARREL=450_000, BUDGET=10_000_000_000, CONFIDENCE_LEVEL=0.95):\n",
    "    profits = []\n",
    "\n",
    "    for i in range(N_SAMPLES):\n",
    "        # сгенерируем случайную выборку (с возвратом) с помощью sample\n",
    "        sample_true_product = true_product.sample(n=WELLS, replace=True, random_state=i)\n",
    "        sample_predicted_product = predicted_product.loc[sample_true_product.index] \n",
    "\n",
    "        # рассчитаем прибыли на основе сэмпла\n",
    "        profit = calculate_profit(sample_true_product, sample_predicted_product, SELECTED_WELLS, PRICE_PER_BARREL, BUDGET)\n",
    "        profits.append(profit)\n",
    "\n",
    "    # преобразуем список прибылей в серию pandas\n",
    "    profits = pd.Series(profits)\n",
    "    \n",
    "    # рассчитаем среднюю прибыль\n",
    "    mean_profit = profits.mean()\n",
    "    \n",
    "    #оценим наш 95%-ый доверительный интервал на основе квантилей. Вычисляем нижнюю и верхнюю границы доверительного интервала\n",
    "    lower_bound = profits.quantile((1 - CONFIDENCE_LEVEL) / 2) \n",
    "    upper_bound = profits.quantile((1 + CONFIDENCE_LEVEL) / 2)\n",
    "    \n",
    "    #рассчитаем риск убытков (доля случаев, когда прибыль отрицательная)\n",
    "    loss_risk = (profits < 0).mean()\n",
    "    \n",
    "    return mean_profit, (lower_bound, upper_bound), loss_risk"
   ]
  },
  {
   "cell_type": "markdown",
   "metadata": {},
   "source": [
    "Теперь посмотрим на результаты по нашим 3-м регионам"
   ]
  },
  {
   "cell_type": "code",
   "execution_count": 69,
   "metadata": {},
   "outputs": [
    {
     "name": "stdout",
     "output_type": "stream",
     "text": [
      "Средняя прибыль: 403459330.9636934\n",
      "Доверительный интервал: (-130173690.8996623, 920452046.9656589)\n",
      "Риск убытков: 0.066\n"
     ]
    }
   ],
   "source": [
    "#применим  нашу функцию к региону 0\n",
    "mean_profit_0, confidence_interval_0, loss_risk_0 = bootstrap_profit(X_val_0['true_product'], X_val_0['predicted_product'])\n",
    "print(f\"Средняя прибыль: {mean_profit_0}\")\n",
    "print(f\"Доверительный интервал: {confidence_interval_0}\")\n",
    "print(f\"Риск убытков: {loss_risk_0}\")"
   ]
  },
  {
   "cell_type": "markdown",
   "metadata": {},
   "source": [
    "Для региона 0 средняя прибыль составила 403459 тыс. рублей. Доверительный интервал достаточно широк (-130173690.8996623,920452046.9656589)...в 95% случаев прибыль для этого региона будет находится в этом диапазон. Причем, можем отметить отрицательные значения прибыли в нижней границе. Риск убытков составил 0.066. Т.е в 6,6% случаев прибыль была отрицательно, что чуть выше нашего порога."
   ]
  },
  {
   "cell_type": "code",
   "execution_count": 70,
   "metadata": {},
   "outputs": [
    {
     "name": "stdout",
     "output_type": "stream",
     "text": [
      "Средняя прибыль: 421219481.4059729\n",
      "Доверительный интервал: (36670816.753070004, 815902551.4734579)\n",
      "Риск убытков: 0.018\n"
     ]
    }
   ],
   "source": [
    "#применим  нашу функцию к региону 1\n",
    "mean_profit_1, confidence_interval_1, loss_risk_1 = bootstrap_profit(X_val_1['true_product'], X_val_1['predicted_product'])\n",
    "print(f\"Средняя прибыль: {mean_profit_1}\")\n",
    "print(f\"Доверительный интервал: {confidence_interval_1}\")\n",
    "print(f\"Риск убытков: {loss_risk_1}\")"
   ]
  },
  {
   "cell_type": "markdown",
   "metadata": {},
   "source": [
    "Для региона 1 средняя прибыль составила 421219 тыс. рублей (выше, чем в первом регионе). Доверительный интервал достаточно широк (36670816.753070004,815902551.4734579)...в 95% случаев прибыль для этого региона будет находится в этом диапазон. Однако, в 95% доверительный интервал входят только положительные значения. Риск убытков составил 0.018. Т.е в 1.8% случаев прибыль была отрицательно, что соответствует нашим требованиям."
   ]
  },
  {
   "cell_type": "code",
   "execution_count": 71,
   "metadata": {},
   "outputs": [
    {
     "name": "stdout",
     "output_type": "stream",
     "text": [
      "Средняя прибыль: 365541492.45854455\n",
      "Доверительный интервал: (-145946024.92674255, 891709467.1495373)\n",
      "Риск убытков: 0.083\n"
     ]
    }
   ],
   "source": [
    "#применим  нашу функцию к региону 2\n",
    "mean_profit_2, confidence_interval_2, loss_risk_2 = bootstrap_profit(X_val_2['true_product'], X_val_2['predicted_product'])\n",
    "print(f\"Средняя прибыль: {mean_profit_2}\")\n",
    "print(f\"Доверительный интервал: {confidence_interval_2}\")\n",
    "print(f\"Риск убытков: {loss_risk_2}\")"
   ]
  },
  {
   "cell_type": "markdown",
   "metadata": {},
   "source": [
    "Для региона 2 средняя прибыль составила 365541 тыс. рублей (самое низкое значение из 3-х регионов). Доверительный интервал достаточно широк (-145946024.92674255,891709467.1495373)...в 95% случаев прибыль для этого региона будет находится в этом диапазон. Причем, можем отметить отрицательные значения прибыли в нижней границе. Риск убытков составил 0.083. Т.е в 8,3% случаев прибыль была отрицательно, что чуть выше нашего порога."
   ]
  },
  {
   "cell_type": "markdown",
   "metadata": {},
   "source": [
    "**Вывод:**\n",
    "\n",
    "Наиболее выгодным регионом для разработки скважин если исходить из модели является Регион 1. Он показывает самую высокую среднюю прибыль (421219 тыс. рублей) и минимальный риск убытков (1.8%). Это свидетельствует о стабильности и высокой вероятности положительного исхода инвестиций. Регионы 0 и 2 показывают схожие результаты, но их риски убытков выше допустимого порога в 2.5%. В частности, в Регионе 2 риск убытков составляет 8.3%, что делает его менее привлекательным, несмотря на относительно высокие значения средней прибыли. Доверительный интервал для Регионов 0 и 2 включает отрицательные значения, что также говорит о потенциальных рисках, связанных с инвестированием в эти регионы."
   ]
  }
 ],
 "metadata": {
  "ExecuteTimeLog": [
   {
    "duration": 1687,
    "start_time": "2024-09-04T07:46:07.864Z"
   },
   {
    "duration": 11,
    "start_time": "2024-09-04T07:46:26.528Z"
   },
   {
    "duration": 5,
    "start_time": "2024-09-04T07:46:32.276Z"
   },
   {
    "duration": 684,
    "start_time": "2024-09-04T07:49:35.555Z"
   },
   {
    "duration": 150,
    "start_time": "2024-09-04T07:49:49.819Z"
   },
   {
    "duration": 1429,
    "start_time": "2024-09-04T07:54:55.655Z"
   },
   {
    "duration": 396,
    "start_time": "2024-09-04T07:56:10.414Z"
   },
   {
    "duration": 25,
    "start_time": "2024-09-04T07:56:38.833Z"
   },
   {
    "duration": 179,
    "start_time": "2024-09-04T07:59:06.232Z"
   },
   {
    "duration": 1721,
    "start_time": "2024-09-04T12:26:57.020Z"
   },
   {
    "duration": 1834,
    "start_time": "2024-09-04T12:26:58.743Z"
   },
   {
    "duration": 208,
    "start_time": "2024-09-04T12:27:00.579Z"
   },
   {
    "duration": 133,
    "start_time": "2024-09-04T12:27:01.252Z"
   },
   {
    "duration": 18,
    "start_time": "2024-09-04T12:28:17.769Z"
   },
   {
    "duration": 17,
    "start_time": "2024-09-04T12:28:51.160Z"
   },
   {
    "duration": 12,
    "start_time": "2024-09-04T12:30:56.556Z"
   },
   {
    "duration": 33,
    "start_time": "2024-09-04T12:31:16.345Z"
   },
   {
    "duration": 286,
    "start_time": "2024-09-04T12:31:53.539Z"
   },
   {
    "duration": 281,
    "start_time": "2024-09-04T12:32:38.325Z"
   },
   {
    "duration": 10,
    "start_time": "2024-09-04T12:33:21.021Z"
   },
   {
    "duration": 36,
    "start_time": "2024-09-04T12:33:39.345Z"
   },
   {
    "duration": 9,
    "start_time": "2024-09-04T12:33:39.821Z"
   },
   {
    "duration": 25,
    "start_time": "2024-09-04T12:34:06.516Z"
   },
   {
    "duration": 7,
    "start_time": "2024-09-04T12:34:23.258Z"
   },
   {
    "duration": 35,
    "start_time": "2024-09-04T12:34:46.838Z"
   },
   {
    "duration": 6,
    "start_time": "2024-09-04T12:34:58.640Z"
   },
   {
    "duration": 34,
    "start_time": "2024-09-04T12:35:51.381Z"
   },
   {
    "duration": 7,
    "start_time": "2024-09-04T12:36:03.419Z"
   },
   {
    "duration": 35,
    "start_time": "2024-09-04T12:36:24.053Z"
   },
   {
    "duration": 7,
    "start_time": "2024-09-04T12:36:24.333Z"
   },
   {
    "duration": 29,
    "start_time": "2024-09-04T12:37:07.264Z"
   },
   {
    "duration": 7,
    "start_time": "2024-09-04T12:37:07.691Z"
   },
   {
    "duration": 107,
    "start_time": "2024-09-04T12:40:27.531Z"
   },
   {
    "duration": 5,
    "start_time": "2024-09-04T12:59:39.695Z"
   },
   {
    "duration": 1484,
    "start_time": "2024-09-04T13:06:25.141Z"
   },
   {
    "duration": 1792,
    "start_time": "2024-09-04T13:06:26.627Z"
   },
   {
    "duration": 187,
    "start_time": "2024-09-04T13:06:28.421Z"
   },
   {
    "duration": 39,
    "start_time": "2024-09-04T13:06:28.610Z"
   },
   {
    "duration": 11,
    "start_time": "2024-09-04T13:06:28.650Z"
   },
   {
    "duration": 23,
    "start_time": "2024-09-04T13:06:28.662Z"
   },
   {
    "duration": 7,
    "start_time": "2024-09-04T13:06:28.687Z"
   },
   {
    "duration": 59,
    "start_time": "2024-09-04T13:06:28.695Z"
   },
   {
    "duration": 7,
    "start_time": "2024-09-04T13:06:28.756Z"
   },
   {
    "duration": 24,
    "start_time": "2024-09-04T13:06:28.765Z"
   },
   {
    "duration": 7,
    "start_time": "2024-09-04T13:06:28.791Z"
   },
   {
    "duration": 42,
    "start_time": "2024-09-04T13:06:28.799Z"
   },
   {
    "duration": 8,
    "start_time": "2024-09-04T13:06:28.843Z"
   },
   {
    "duration": 47,
    "start_time": "2024-09-04T13:06:28.853Z"
   },
   {
    "duration": 6,
    "start_time": "2024-09-04T13:06:28.902Z"
   },
   {
    "duration": 106,
    "start_time": "2024-09-04T13:06:28.910Z"
   },
   {
    "duration": 1488,
    "start_time": "2024-09-04T13:08:59.514Z"
   },
   {
    "duration": 424,
    "start_time": "2024-09-04T13:09:01.004Z"
   },
   {
    "duration": 210,
    "start_time": "2024-09-04T13:09:01.430Z"
   },
   {
    "duration": 34,
    "start_time": "2024-09-04T13:09:01.642Z"
   },
   {
    "duration": 10,
    "start_time": "2024-09-04T13:09:01.678Z"
   },
   {
    "duration": 52,
    "start_time": "2024-09-04T13:09:01.690Z"
   },
   {
    "duration": 7,
    "start_time": "2024-09-04T13:09:01.744Z"
   },
   {
    "duration": 43,
    "start_time": "2024-09-04T13:09:01.752Z"
   },
   {
    "duration": 7,
    "start_time": "2024-09-04T13:09:01.797Z"
   },
   {
    "duration": 76,
    "start_time": "2024-09-04T13:09:01.806Z"
   },
   {
    "duration": 32,
    "start_time": "2024-09-04T13:09:01.884Z"
   },
   {
    "duration": 45,
    "start_time": "2024-09-04T13:09:01.918Z"
   },
   {
    "duration": 7,
    "start_time": "2024-09-04T13:09:01.965Z"
   },
   {
    "duration": 29,
    "start_time": "2024-09-04T13:09:01.974Z"
   },
   {
    "duration": 7,
    "start_time": "2024-09-04T13:09:02.005Z"
   },
   {
    "duration": 112,
    "start_time": "2024-09-04T13:09:02.013Z"
   },
   {
    "duration": 1497,
    "start_time": "2024-09-04T13:39:55.472Z"
   },
   {
    "duration": 1826,
    "start_time": "2024-09-04T13:39:56.971Z"
   },
   {
    "duration": 199,
    "start_time": "2024-09-04T13:39:58.799Z"
   },
   {
    "duration": 48,
    "start_time": "2024-09-04T13:39:59.001Z"
   },
   {
    "duration": 10,
    "start_time": "2024-09-04T13:39:59.050Z"
   },
   {
    "duration": 24,
    "start_time": "2024-09-04T13:39:59.061Z"
   },
   {
    "duration": 7,
    "start_time": "2024-09-04T13:39:59.087Z"
   },
   {
    "duration": 61,
    "start_time": "2024-09-04T13:39:59.095Z"
   },
   {
    "duration": 7,
    "start_time": "2024-09-04T13:39:59.157Z"
   },
   {
    "duration": 28,
    "start_time": "2024-09-04T13:39:59.166Z"
   },
   {
    "duration": 6,
    "start_time": "2024-09-04T13:39:59.196Z"
   },
   {
    "duration": 51,
    "start_time": "2024-09-04T13:39:59.204Z"
   },
   {
    "duration": 6,
    "start_time": "2024-09-04T13:39:59.256Z"
   },
   {
    "duration": 23,
    "start_time": "2024-09-04T13:39:59.263Z"
   },
   {
    "duration": 6,
    "start_time": "2024-09-04T13:39:59.288Z"
   },
   {
    "duration": 111,
    "start_time": "2024-09-04T13:39:59.295Z"
   },
   {
    "duration": 1437,
    "start_time": "2024-09-04T13:41:56.011Z"
   },
   {
    "duration": 453,
    "start_time": "2024-09-04T13:41:57.450Z"
   },
   {
    "duration": 215,
    "start_time": "2024-09-04T13:41:57.904Z"
   },
   {
    "duration": 37,
    "start_time": "2024-09-04T13:41:58.127Z"
   },
   {
    "duration": 11,
    "start_time": "2024-09-04T13:41:58.166Z"
   },
   {
    "duration": 67,
    "start_time": "2024-09-04T13:41:58.178Z"
   },
   {
    "duration": 7,
    "start_time": "2024-09-04T13:41:58.247Z"
   },
   {
    "duration": 34,
    "start_time": "2024-09-04T13:41:58.255Z"
   },
   {
    "duration": 7,
    "start_time": "2024-09-04T13:41:58.291Z"
   },
   {
    "duration": 53,
    "start_time": "2024-09-04T13:41:58.299Z"
   },
   {
    "duration": 7,
    "start_time": "2024-09-04T13:41:58.353Z"
   },
   {
    "duration": 23,
    "start_time": "2024-09-04T13:41:58.362Z"
   },
   {
    "duration": 7,
    "start_time": "2024-09-04T13:41:58.387Z"
   },
   {
    "duration": 54,
    "start_time": "2024-09-04T13:41:58.396Z"
   },
   {
    "duration": 6,
    "start_time": "2024-09-04T13:41:58.452Z"
   },
   {
    "duration": 104,
    "start_time": "2024-09-04T13:41:58.460Z"
   },
   {
    "duration": 1502,
    "start_time": "2024-09-04T14:01:15.553Z"
   },
   {
    "duration": 449,
    "start_time": "2024-09-04T14:01:17.057Z"
   },
   {
    "duration": 193,
    "start_time": "2024-09-04T14:01:17.507Z"
   },
   {
    "duration": 35,
    "start_time": "2024-09-04T14:01:17.702Z"
   },
   {
    "duration": 9,
    "start_time": "2024-09-04T14:01:17.740Z"
   },
   {
    "duration": 24,
    "start_time": "2024-09-04T14:01:17.750Z"
   },
   {
    "duration": 7,
    "start_time": "2024-09-04T14:01:17.776Z"
   },
   {
    "duration": 61,
    "start_time": "2024-09-04T14:01:17.785Z"
   },
   {
    "duration": 7,
    "start_time": "2024-09-04T14:01:17.848Z"
   },
   {
    "duration": 24,
    "start_time": "2024-09-04T14:01:17.856Z"
   },
   {
    "duration": 6,
    "start_time": "2024-09-04T14:01:17.882Z"
   },
   {
    "duration": 44,
    "start_time": "2024-09-04T14:01:17.890Z"
   },
   {
    "duration": 7,
    "start_time": "2024-09-04T14:01:17.937Z"
   },
   {
    "duration": 25,
    "start_time": "2024-09-04T14:01:17.946Z"
   },
   {
    "duration": 6,
    "start_time": "2024-09-04T14:01:17.973Z"
   },
   {
    "duration": 118,
    "start_time": "2024-09-04T14:01:17.980Z"
   },
   {
    "duration": 327,
    "start_time": "2024-09-04T14:01:18.099Z"
   },
   {
    "duration": 215,
    "start_time": "2024-09-04T14:02:29.347Z"
   },
   {
    "duration": 201,
    "start_time": "2024-09-04T14:02:56.845Z"
   },
   {
    "duration": 264,
    "start_time": "2024-09-04T14:03:07.422Z"
   },
   {
    "duration": 250,
    "start_time": "2024-09-04T14:04:47.248Z"
   },
   {
    "duration": 190,
    "start_time": "2024-09-04T14:06:25.573Z"
   },
   {
    "duration": 61,
    "start_time": "2024-09-04T14:07:23.371Z"
   },
   {
    "duration": 3622,
    "start_time": "2024-09-04T14:10:12.976Z"
   },
   {
    "duration": 1500,
    "start_time": "2024-09-04T14:10:16.601Z"
   },
   {
    "duration": 456,
    "start_time": "2024-09-04T14:10:18.103Z"
   },
   {
    "duration": 216,
    "start_time": "2024-09-04T14:10:18.560Z"
   },
   {
    "duration": 32,
    "start_time": "2024-09-04T14:10:18.779Z"
   },
   {
    "duration": 18,
    "start_time": "2024-09-04T14:10:18.825Z"
   },
   {
    "duration": 28,
    "start_time": "2024-09-04T14:10:18.844Z"
   },
   {
    "duration": 7,
    "start_time": "2024-09-04T14:10:18.874Z"
   },
   {
    "duration": 62,
    "start_time": "2024-09-04T14:10:18.883Z"
   },
   {
    "duration": 6,
    "start_time": "2024-09-04T14:10:18.947Z"
   },
   {
    "duration": 33,
    "start_time": "2024-09-04T14:10:18.955Z"
   },
   {
    "duration": 6,
    "start_time": "2024-09-04T14:10:18.990Z"
   },
   {
    "duration": 29,
    "start_time": "2024-09-04T14:10:18.998Z"
   },
   {
    "duration": 11,
    "start_time": "2024-09-04T14:10:19.031Z"
   },
   {
    "duration": 28,
    "start_time": "2024-09-04T14:10:19.044Z"
   },
   {
    "duration": 7,
    "start_time": "2024-09-04T14:10:19.073Z"
   },
   {
    "duration": 123,
    "start_time": "2024-09-04T14:10:19.081Z"
   },
   {
    "duration": 342,
    "start_time": "2024-09-04T14:10:19.205Z"
   },
   {
    "duration": 2970,
    "start_time": "2024-09-04T14:16:46.909Z"
   },
   {
    "duration": 1701,
    "start_time": "2024-09-04T14:16:49.882Z"
   },
   {
    "duration": 522,
    "start_time": "2024-09-04T14:16:51.585Z"
   },
   {
    "duration": 245,
    "start_time": "2024-09-04T14:16:52.108Z"
   },
   {
    "duration": 37,
    "start_time": "2024-09-04T14:16:52.356Z"
   },
   {
    "duration": 10,
    "start_time": "2024-09-04T14:16:52.395Z"
   },
   {
    "duration": 46,
    "start_time": "2024-09-04T14:16:52.407Z"
   },
   {
    "duration": 10,
    "start_time": "2024-09-04T14:16:52.455Z"
   },
   {
    "duration": 41,
    "start_time": "2024-09-04T14:16:52.467Z"
   },
   {
    "duration": 27,
    "start_time": "2024-09-04T14:16:52.509Z"
   },
   {
    "duration": 40,
    "start_time": "2024-09-04T14:16:52.539Z"
   },
   {
    "duration": 7,
    "start_time": "2024-09-04T14:16:52.581Z"
   },
   {
    "duration": 37,
    "start_time": "2024-09-04T14:16:52.589Z"
   },
   {
    "duration": 14,
    "start_time": "2024-09-04T14:16:52.630Z"
   },
   {
    "duration": 120,
    "start_time": "2024-09-04T14:16:52.647Z"
   },
   {
    "duration": 7,
    "start_time": "2024-09-04T14:16:52.768Z"
   },
   {
    "duration": 153,
    "start_time": "2024-09-04T14:16:52.777Z"
   },
   {
    "duration": 15,
    "start_time": "2024-09-04T14:16:52.933Z"
   },
   {
    "duration": 968,
    "start_time": "2024-09-04T14:16:52.950Z"
   },
   {
    "duration": 1730,
    "start_time": "2024-09-04T14:23:48.671Z"
   },
   {
    "duration": 2131,
    "start_time": "2024-09-04T14:24:09.822Z"
   },
   {
    "duration": 13,
    "start_time": "2024-09-04T14:31:54.252Z"
   },
   {
    "duration": 434,
    "start_time": "2024-09-04T14:31:55.300Z"
   },
   {
    "duration": 7,
    "start_time": "2024-09-04T14:31:57.045Z"
   },
   {
    "duration": 338,
    "start_time": "2024-09-04T14:32:20.399Z"
   },
   {
    "duration": 6,
    "start_time": "2024-09-04T14:32:27.158Z"
   },
   {
    "duration": 463,
    "start_time": "2024-09-04T14:34:17.573Z"
   },
   {
    "duration": 10,
    "start_time": "2024-09-04T14:34:18.735Z"
   },
   {
    "duration": 3906,
    "start_time": "2024-09-05T06:05:32.421Z"
   },
   {
    "duration": 1868,
    "start_time": "2024-09-05T06:05:36.329Z"
   },
   {
    "duration": 974,
    "start_time": "2024-09-05T06:05:38.199Z"
   },
   {
    "duration": 198,
    "start_time": "2024-09-05T06:05:39.174Z"
   },
   {
    "duration": 37,
    "start_time": "2024-09-05T06:05:39.374Z"
   },
   {
    "duration": 11,
    "start_time": "2024-09-05T06:05:39.412Z"
   },
   {
    "duration": 28,
    "start_time": "2024-09-05T06:05:39.424Z"
   },
   {
    "duration": 7,
    "start_time": "2024-09-05T06:05:39.453Z"
   },
   {
    "duration": 49,
    "start_time": "2024-09-05T06:05:39.461Z"
   },
   {
    "duration": 7,
    "start_time": "2024-09-05T06:05:39.512Z"
   },
   {
    "duration": 25,
    "start_time": "2024-09-05T06:05:39.520Z"
   },
   {
    "duration": 7,
    "start_time": "2024-09-05T06:05:39.546Z"
   },
   {
    "duration": 99,
    "start_time": "2024-09-05T06:05:39.554Z"
   },
   {
    "duration": 26,
    "start_time": "2024-09-05T06:05:39.656Z"
   },
   {
    "duration": 90,
    "start_time": "2024-09-05T06:05:39.683Z"
   },
   {
    "duration": 7,
    "start_time": "2024-09-05T06:05:39.774Z"
   },
   {
    "duration": 181,
    "start_time": "2024-09-05T06:05:39.783Z"
   },
   {
    "duration": 105,
    "start_time": "2024-09-05T06:05:39.966Z"
   },
   {
    "duration": 10,
    "start_time": "2024-09-05T06:05:40.073Z"
   },
   {
    "duration": 925,
    "start_time": "2024-09-05T06:05:40.085Z"
   },
   {
    "duration": 2033,
    "start_time": "2024-09-05T06:05:41.012Z"
   },
   {
    "duration": 12,
    "start_time": "2024-09-05T06:05:43.047Z"
   },
   {
    "duration": 745,
    "start_time": "2024-09-05T06:05:43.061Z"
   },
   {
    "duration": 98,
    "start_time": "2024-09-05T06:05:43.808Z"
   },
   {
    "duration": 601,
    "start_time": "2024-09-05T06:05:43.909Z"
   },
   {
    "duration": 99,
    "start_time": "2024-09-05T06:05:44.513Z"
   },
   {
    "duration": 699,
    "start_time": "2024-09-05T06:05:44.614Z"
   },
   {
    "duration": 99,
    "start_time": "2024-09-05T06:05:45.406Z"
   },
   {
    "duration": 157,
    "start_time": "2024-09-05T06:05:45.507Z"
   },
   {
    "duration": 23,
    "start_time": "2024-09-05T06:10:31.593Z"
   },
   {
    "duration": 7,
    "start_time": "2024-09-05T06:10:32.482Z"
   },
   {
    "duration": 19,
    "start_time": "2024-09-05T06:10:44.567Z"
   },
   {
    "duration": 12,
    "start_time": "2024-09-05T06:10:45.353Z"
   },
   {
    "duration": 12,
    "start_time": "2024-09-05T06:11:14.614Z"
   },
   {
    "duration": 22,
    "start_time": "2024-09-05T06:11:16.156Z"
   },
   {
    "duration": 11,
    "start_time": "2024-09-05T06:11:17.155Z"
   },
   {
    "duration": 21,
    "start_time": "2024-09-05T06:14:07.102Z"
   },
   {
    "duration": 10,
    "start_time": "2024-09-05T06:14:11.027Z"
   },
   {
    "duration": 21,
    "start_time": "2024-09-05T06:14:31.313Z"
   },
   {
    "duration": 11,
    "start_time": "2024-09-05T06:14:32.258Z"
   },
   {
    "duration": 2628,
    "start_time": "2024-09-05T06:24:01.727Z"
   },
   {
    "duration": 1581,
    "start_time": "2024-09-05T06:24:04.358Z"
   },
   {
    "duration": 458,
    "start_time": "2024-09-05T06:24:05.941Z"
   },
   {
    "duration": 207,
    "start_time": "2024-09-05T06:24:06.402Z"
   },
   {
    "duration": 33,
    "start_time": "2024-09-05T06:24:06.611Z"
   },
   {
    "duration": 12,
    "start_time": "2024-09-05T06:24:06.645Z"
   },
   {
    "duration": 46,
    "start_time": "2024-09-05T06:24:06.659Z"
   },
   {
    "duration": 7,
    "start_time": "2024-09-05T06:24:06.707Z"
   },
   {
    "duration": 50,
    "start_time": "2024-09-05T06:24:06.716Z"
   },
   {
    "duration": 7,
    "start_time": "2024-09-05T06:24:06.769Z"
   },
   {
    "duration": 37,
    "start_time": "2024-09-05T06:24:06.778Z"
   },
   {
    "duration": 9,
    "start_time": "2024-09-05T06:24:06.817Z"
   },
   {
    "duration": 32,
    "start_time": "2024-09-05T06:24:06.828Z"
   },
   {
    "duration": 21,
    "start_time": "2024-09-05T06:24:06.861Z"
   },
   {
    "duration": 37,
    "start_time": "2024-09-05T06:24:06.884Z"
   },
   {
    "duration": 7,
    "start_time": "2024-09-05T06:24:06.922Z"
   },
   {
    "duration": 35,
    "start_time": "2024-09-05T06:24:06.931Z"
   },
   {
    "duration": 16,
    "start_time": "2024-09-05T06:24:06.968Z"
   },
   {
    "duration": 66,
    "start_time": "2024-09-05T06:24:06.987Z"
   },
   {
    "duration": 15,
    "start_time": "2024-09-05T06:24:07.055Z"
   },
   {
    "duration": 57,
    "start_time": "2024-09-05T06:24:07.072Z"
   },
   {
    "duration": 11,
    "start_time": "2024-09-05T06:24:07.131Z"
   },
   {
    "duration": 231,
    "start_time": "2024-09-05T06:24:07.144Z"
   },
   {
    "duration": 109,
    "start_time": "2024-09-05T06:24:07.377Z"
   },
   {
    "duration": 20,
    "start_time": "2024-09-05T06:24:07.488Z"
   },
   {
    "duration": 871,
    "start_time": "2024-09-05T06:24:07.510Z"
   },
   {
    "duration": 2031,
    "start_time": "2024-09-05T06:24:08.383Z"
   },
   {
    "duration": 12,
    "start_time": "2024-09-05T06:24:10.418Z"
   },
   {
    "duration": 778,
    "start_time": "2024-09-05T06:24:10.432Z"
   },
   {
    "duration": 101,
    "start_time": "2024-09-05T06:24:11.306Z"
   },
   {
    "duration": 601,
    "start_time": "2024-09-05T06:24:11.409Z"
   },
   {
    "duration": 192,
    "start_time": "2024-09-05T06:24:12.013Z"
   },
   {
    "duration": 701,
    "start_time": "2024-09-05T06:24:12.207Z"
   },
   {
    "duration": 99,
    "start_time": "2024-09-05T06:24:12.910Z"
   },
   {
    "duration": 213,
    "start_time": "2024-09-05T06:24:13.012Z"
   },
   {
    "duration": 35,
    "start_time": "2024-09-05T06:32:48.961Z"
   },
   {
    "duration": 12,
    "start_time": "2024-09-05T06:35:27.498Z"
   },
   {
    "duration": 15,
    "start_time": "2024-09-05T06:36:21.716Z"
   },
   {
    "duration": 202,
    "start_time": "2024-09-05T06:37:08.025Z"
   },
   {
    "duration": 57,
    "start_time": "2024-09-05T06:39:21.538Z"
   },
   {
    "duration": 3,
    "start_time": "2024-09-05T06:41:52.350Z"
   },
   {
    "duration": 16,
    "start_time": "2024-09-05T06:42:12.880Z"
   },
   {
    "duration": 2,
    "start_time": "2024-09-05T06:42:49.376Z"
   },
   {
    "duration": 2634,
    "start_time": "2024-09-05T06:58:18.211Z"
   },
   {
    "duration": 1625,
    "start_time": "2024-09-05T06:58:20.848Z"
   },
   {
    "duration": 485,
    "start_time": "2024-09-05T06:58:22.475Z"
   },
   {
    "duration": 267,
    "start_time": "2024-09-05T06:58:22.963Z"
   },
   {
    "duration": 42,
    "start_time": "2024-09-05T06:58:23.231Z"
   },
   {
    "duration": 11,
    "start_time": "2024-09-05T06:58:23.274Z"
   },
   {
    "duration": 45,
    "start_time": "2024-09-05T06:58:23.286Z"
   },
   {
    "duration": 7,
    "start_time": "2024-09-05T06:58:23.333Z"
   },
   {
    "duration": 35,
    "start_time": "2024-09-05T06:58:23.342Z"
   },
   {
    "duration": 26,
    "start_time": "2024-09-05T06:58:23.380Z"
   },
   {
    "duration": 30,
    "start_time": "2024-09-05T06:58:23.408Z"
   },
   {
    "duration": 7,
    "start_time": "2024-09-05T06:58:23.440Z"
   },
   {
    "duration": 68,
    "start_time": "2024-09-05T06:58:23.449Z"
   },
   {
    "duration": 7,
    "start_time": "2024-09-05T06:58:23.519Z"
   },
   {
    "duration": 29,
    "start_time": "2024-09-05T06:58:23.527Z"
   },
   {
    "duration": 7,
    "start_time": "2024-09-05T06:58:23.558Z"
   },
   {
    "duration": 45,
    "start_time": "2024-09-05T06:58:23.567Z"
   },
   {
    "duration": 13,
    "start_time": "2024-09-05T06:58:23.613Z"
   },
   {
    "duration": 34,
    "start_time": "2024-09-05T06:58:23.628Z"
   },
   {
    "duration": 13,
    "start_time": "2024-09-05T06:58:23.664Z"
   },
   {
    "duration": 58,
    "start_time": "2024-09-05T06:58:23.679Z"
   },
   {
    "duration": 14,
    "start_time": "2024-09-05T06:58:23.739Z"
   },
   {
    "duration": 317,
    "start_time": "2024-09-05T06:58:23.755Z"
   },
   {
    "duration": 110,
    "start_time": "2024-09-05T06:58:24.074Z"
   },
   {
    "duration": 153,
    "start_time": "2024-09-05T06:58:24.186Z"
   },
   {
    "duration": 0,
    "start_time": "2024-09-05T06:58:24.343Z"
   },
   {
    "duration": 0,
    "start_time": "2024-09-05T06:58:24.347Z"
   },
   {
    "duration": 0,
    "start_time": "2024-09-05T06:58:24.349Z"
   },
   {
    "duration": 0,
    "start_time": "2024-09-05T06:58:24.352Z"
   },
   {
    "duration": 0,
    "start_time": "2024-09-05T06:58:24.354Z"
   },
   {
    "duration": 0,
    "start_time": "2024-09-05T06:58:24.355Z"
   },
   {
    "duration": 0,
    "start_time": "2024-09-05T06:58:24.356Z"
   },
   {
    "duration": 0,
    "start_time": "2024-09-05T06:58:24.357Z"
   },
   {
    "duration": 0,
    "start_time": "2024-09-05T06:58:24.359Z"
   },
   {
    "duration": 0,
    "start_time": "2024-09-05T06:58:24.361Z"
   },
   {
    "duration": 0,
    "start_time": "2024-09-05T06:58:24.362Z"
   },
   {
    "duration": 0,
    "start_time": "2024-09-05T06:58:24.364Z"
   },
   {
    "duration": 0,
    "start_time": "2024-09-05T06:58:24.365Z"
   },
   {
    "duration": 0,
    "start_time": "2024-09-05T06:58:24.367Z"
   },
   {
    "duration": 0,
    "start_time": "2024-09-05T06:58:24.368Z"
   },
   {
    "duration": 0,
    "start_time": "2024-09-05T06:58:24.370Z"
   },
   {
    "duration": 13,
    "start_time": "2024-09-05T06:59:18.344Z"
   },
   {
    "duration": 910,
    "start_time": "2024-09-05T06:59:18.544Z"
   },
   {
    "duration": 2188,
    "start_time": "2024-09-05T06:59:19.456Z"
   },
   {
    "duration": 15,
    "start_time": "2024-09-05T06:59:21.646Z"
   },
   {
    "duration": 952,
    "start_time": "2024-09-05T06:59:21.664Z"
   },
   {
    "duration": 99,
    "start_time": "2024-09-05T06:59:22.618Z"
   },
   {
    "duration": 494,
    "start_time": "2024-09-05T06:59:22.720Z"
   },
   {
    "duration": 99,
    "start_time": "2024-09-05T06:59:23.217Z"
   },
   {
    "duration": 597,
    "start_time": "2024-09-05T06:59:23.324Z"
   },
   {
    "duration": 96,
    "start_time": "2024-09-05T06:59:24.010Z"
   },
   {
    "duration": 18,
    "start_time": "2024-09-05T06:59:24.109Z"
   },
   {
    "duration": 40,
    "start_time": "2024-09-05T06:59:24.129Z"
   },
   {
    "duration": 8,
    "start_time": "2024-09-05T06:59:24.170Z"
   },
   {
    "duration": 33,
    "start_time": "2024-09-05T06:59:24.180Z"
   },
   {
    "duration": 65,
    "start_time": "2024-09-05T06:59:24.215Z"
   },
   {
    "duration": 97,
    "start_time": "2024-09-05T06:59:24.282Z"
   },
   {
    "duration": 11,
    "start_time": "2024-09-05T07:05:19.015Z"
   },
   {
    "duration": 15,
    "start_time": "2024-09-05T07:14:45.785Z"
   },
   {
    "duration": 6,
    "start_time": "2024-09-05T07:15:53.908Z"
   },
   {
    "duration": 15,
    "start_time": "2024-09-05T07:15:55.819Z"
   },
   {
    "duration": 2535,
    "start_time": "2024-09-05T07:16:18.489Z"
   },
   {
    "duration": 1533,
    "start_time": "2024-09-05T07:16:21.026Z"
   },
   {
    "duration": 420,
    "start_time": "2024-09-05T07:16:22.561Z"
   },
   {
    "duration": 197,
    "start_time": "2024-09-05T07:16:22.983Z"
   },
   {
    "duration": 44,
    "start_time": "2024-09-05T07:16:23.182Z"
   },
   {
    "duration": 13,
    "start_time": "2024-09-05T07:16:23.228Z"
   },
   {
    "duration": 31,
    "start_time": "2024-09-05T07:16:23.243Z"
   },
   {
    "duration": 7,
    "start_time": "2024-09-05T07:16:23.276Z"
   },
   {
    "duration": 68,
    "start_time": "2024-09-05T07:16:23.285Z"
   },
   {
    "duration": 8,
    "start_time": "2024-09-05T07:16:23.356Z"
   },
   {
    "duration": 35,
    "start_time": "2024-09-05T07:16:23.366Z"
   },
   {
    "duration": 7,
    "start_time": "2024-09-05T07:16:23.403Z"
   },
   {
    "duration": 25,
    "start_time": "2024-09-05T07:16:23.412Z"
   },
   {
    "duration": 10,
    "start_time": "2024-09-05T07:16:23.439Z"
   },
   {
    "duration": 53,
    "start_time": "2024-09-05T07:16:23.452Z"
   },
   {
    "duration": 9,
    "start_time": "2024-09-05T07:16:23.507Z"
   },
   {
    "duration": 26,
    "start_time": "2024-09-05T07:16:23.517Z"
   },
   {
    "duration": 13,
    "start_time": "2024-09-05T07:16:23.545Z"
   },
   {
    "duration": 51,
    "start_time": "2024-09-05T07:16:23.560Z"
   },
   {
    "duration": 12,
    "start_time": "2024-09-05T07:16:23.613Z"
   },
   {
    "duration": 44,
    "start_time": "2024-09-05T07:16:23.627Z"
   },
   {
    "duration": 12,
    "start_time": "2024-09-05T07:16:23.673Z"
   },
   {
    "duration": 220,
    "start_time": "2024-09-05T07:16:23.687Z"
   },
   {
    "duration": 115,
    "start_time": "2024-09-05T07:16:23.909Z"
   },
   {
    "duration": 10,
    "start_time": "2024-09-05T07:16:24.026Z"
   },
   {
    "duration": 894,
    "start_time": "2024-09-05T07:16:24.038Z"
   },
   {
    "duration": 1984,
    "start_time": "2024-09-05T07:16:24.934Z"
   },
   {
    "duration": 16,
    "start_time": "2024-09-05T07:16:26.921Z"
   },
   {
    "duration": 676,
    "start_time": "2024-09-05T07:16:26.939Z"
   },
   {
    "duration": 96,
    "start_time": "2024-09-05T07:16:27.618Z"
   },
   {
    "duration": 696,
    "start_time": "2024-09-05T07:16:27.716Z"
   },
   {
    "duration": 100,
    "start_time": "2024-09-05T07:16:28.414Z"
   },
   {
    "duration": 690,
    "start_time": "2024-09-05T07:16:28.517Z"
   },
   {
    "duration": 98,
    "start_time": "2024-09-05T07:16:29.209Z"
   },
   {
    "duration": 19,
    "start_time": "2024-09-05T07:16:29.308Z"
   },
   {
    "duration": 3,
    "start_time": "2024-09-05T07:16:29.328Z"
   },
   {
    "duration": 5,
    "start_time": "2024-09-05T07:16:29.333Z"
   },
   {
    "duration": 7,
    "start_time": "2024-09-05T07:16:29.339Z"
   },
   {
    "duration": 7,
    "start_time": "2024-09-05T07:16:29.347Z"
   },
   {
    "duration": 143,
    "start_time": "2024-09-05T07:16:29.355Z"
   },
   {
    "duration": 0,
    "start_time": "2024-09-05T07:16:29.499Z"
   },
   {
    "duration": 32,
    "start_time": "2024-09-05T07:18:14.042Z"
   },
   {
    "duration": 6,
    "start_time": "2024-09-05T07:19:37.904Z"
   },
   {
    "duration": 29,
    "start_time": "2024-09-05T07:19:39.448Z"
   },
   {
    "duration": 5,
    "start_time": "2024-09-05T07:21:13.093Z"
   },
   {
    "duration": 31,
    "start_time": "2024-09-05T07:21:14.928Z"
   },
   {
    "duration": 5,
    "start_time": "2024-09-05T07:23:19.414Z"
   },
   {
    "duration": 226713,
    "start_time": "2024-09-05T07:23:20.318Z"
   },
   {
    "duration": 8,
    "start_time": "2024-09-05T07:29:18.137Z"
   },
   {
    "duration": 7,
    "start_time": "2024-09-05T07:30:34.733Z"
   },
   {
    "duration": 75,
    "start_time": "2024-09-05T07:34:55.019Z"
   },
   {
    "duration": 87,
    "start_time": "2024-09-05T07:35:02.119Z"
   },
   {
    "duration": 66,
    "start_time": "2024-09-05T07:35:36.758Z"
   },
   {
    "duration": 11,
    "start_time": "2024-09-05T07:35:48.469Z"
   },
   {
    "duration": 64,
    "start_time": "2024-09-05T07:39:08.782Z"
   },
   {
    "duration": 15,
    "start_time": "2024-09-05T07:39:23.654Z"
   },
   {
    "duration": 8,
    "start_time": "2024-09-05T07:44:22.044Z"
   },
   {
    "duration": 297,
    "start_time": "2024-09-05T07:52:21.650Z"
   },
   {
    "duration": 4,
    "start_time": "2024-09-05T07:52:26.578Z"
   },
   {
    "duration": 27087,
    "start_time": "2024-09-05T07:52:27.174Z"
   },
   {
    "duration": 272801,
    "start_time": "2024-09-05T07:58:48.957Z"
   },
   {
    "duration": 252125,
    "start_time": "2024-09-05T08:31:11.040Z"
   },
   {
    "duration": 282961,
    "start_time": "2024-09-05T08:35:23.167Z"
   },
   {
    "duration": 21,
    "start_time": "2024-09-05T10:03:40.657Z"
   },
   {
    "duration": 13,
    "start_time": "2024-09-05T10:04:09.482Z"
   },
   {
    "duration": 13,
    "start_time": "2024-09-05T10:06:50.172Z"
   },
   {
    "duration": 13,
    "start_time": "2024-09-05T10:06:54.154Z"
   },
   {
    "duration": 21,
    "start_time": "2024-09-05T10:23:24.105Z"
   },
   {
    "duration": 211,
    "start_time": "2024-09-05T10:26:09.996Z"
   },
   {
    "duration": 23,
    "start_time": "2024-09-05T10:31:28.403Z"
   },
   {
    "duration": 2,
    "start_time": "2024-09-05T10:32:55.583Z"
   },
   {
    "duration": 7,
    "start_time": "2024-09-05T10:38:34.910Z"
   },
   {
    "duration": 8,
    "start_time": "2024-09-05T10:38:49.506Z"
   },
   {
    "duration": 3,
    "start_time": "2024-09-05T10:44:11.930Z"
   },
   {
    "duration": 16,
    "start_time": "2024-09-05T10:44:13.404Z"
   },
   {
    "duration": 6,
    "start_time": "2024-09-05T10:44:18.315Z"
   },
   {
    "duration": 7,
    "start_time": "2024-09-05T10:44:19.190Z"
   },
   {
    "duration": 7,
    "start_time": "2024-09-05T10:46:34.917Z"
   },
   {
    "duration": 3,
    "start_time": "2024-09-05T10:47:39.231Z"
   },
   {
    "duration": 8,
    "start_time": "2024-09-05T10:47:40.034Z"
   },
   {
    "duration": 3,
    "start_time": "2024-09-05T10:59:34.442Z"
   },
   {
    "duration": 9,
    "start_time": "2024-09-05T10:59:35.297Z"
   },
   {
    "duration": 3,
    "start_time": "2024-09-05T10:59:43.220Z"
   },
   {
    "duration": 7,
    "start_time": "2024-09-05T10:59:45.860Z"
   },
   {
    "duration": 89,
    "start_time": "2024-09-05T11:02:18.083Z"
   },
   {
    "duration": 75,
    "start_time": "2024-09-05T11:02:45.849Z"
   },
   {
    "duration": 3503,
    "start_time": "2024-09-06T07:45:30.618Z"
   },
   {
    "duration": 1626,
    "start_time": "2024-09-06T07:45:34.123Z"
   },
   {
    "duration": 1861,
    "start_time": "2024-09-06T07:45:35.751Z"
   },
   {
    "duration": 217,
    "start_time": "2024-09-06T07:45:37.613Z"
   },
   {
    "duration": 33,
    "start_time": "2024-09-06T07:45:37.833Z"
   },
   {
    "duration": 11,
    "start_time": "2024-09-06T07:45:37.868Z"
   },
   {
    "duration": 31,
    "start_time": "2024-09-06T07:45:37.897Z"
   },
   {
    "duration": 8,
    "start_time": "2024-09-06T07:45:37.930Z"
   },
   {
    "duration": 74,
    "start_time": "2024-09-06T07:45:37.940Z"
   },
   {
    "duration": 7,
    "start_time": "2024-09-06T07:45:38.016Z"
   },
   {
    "duration": 25,
    "start_time": "2024-09-06T07:45:38.025Z"
   },
   {
    "duration": 18,
    "start_time": "2024-09-06T07:45:38.052Z"
   },
   {
    "duration": 34,
    "start_time": "2024-09-06T07:45:38.071Z"
   },
   {
    "duration": 8,
    "start_time": "2024-09-06T07:45:38.108Z"
   },
   {
    "duration": 29,
    "start_time": "2024-09-06T07:45:38.118Z"
   },
   {
    "duration": 18,
    "start_time": "2024-09-06T07:45:38.149Z"
   },
   {
    "duration": 48,
    "start_time": "2024-09-06T07:45:38.169Z"
   },
   {
    "duration": 13,
    "start_time": "2024-09-06T07:45:38.219Z"
   },
   {
    "duration": 29,
    "start_time": "2024-09-06T07:45:38.233Z"
   },
   {
    "duration": 11,
    "start_time": "2024-09-06T07:45:38.263Z"
   },
   {
    "duration": 40,
    "start_time": "2024-09-06T07:45:38.276Z"
   },
   {
    "duration": 9,
    "start_time": "2024-09-06T07:45:38.318Z"
   },
   {
    "duration": 239,
    "start_time": "2024-09-06T07:45:38.329Z"
   },
   {
    "duration": 113,
    "start_time": "2024-09-06T07:45:38.570Z"
   },
   {
    "duration": 13,
    "start_time": "2024-09-06T07:45:38.684Z"
   },
   {
    "duration": 952,
    "start_time": "2024-09-06T07:45:38.699Z"
   },
   {
    "duration": 2173,
    "start_time": "2024-09-06T07:45:39.653Z"
   },
   {
    "duration": 12,
    "start_time": "2024-09-06T07:45:41.827Z"
   },
   {
    "duration": 561,
    "start_time": "2024-09-06T07:45:41.840Z"
   },
   {
    "duration": 97,
    "start_time": "2024-09-06T07:45:42.403Z"
   },
   {
    "duration": 705,
    "start_time": "2024-09-06T07:45:42.502Z"
   },
   {
    "duration": 100,
    "start_time": "2024-09-06T07:45:43.299Z"
   },
   {
    "duration": 603,
    "start_time": "2024-09-06T07:45:43.400Z"
   },
   {
    "duration": 95,
    "start_time": "2024-09-06T07:45:44.005Z"
   },
   {
    "duration": 129,
    "start_time": "2024-09-06T07:45:44.103Z"
   },
   {
    "duration": 12,
    "start_time": "2024-09-06T07:45:44.234Z"
   },
   {
    "duration": 9,
    "start_time": "2024-09-06T07:45:44.248Z"
   },
   {
    "duration": 14,
    "start_time": "2024-09-06T07:45:44.258Z"
   },
   {
    "duration": 9,
    "start_time": "2024-09-06T07:45:44.274Z"
   },
   {
    "duration": 216688,
    "start_time": "2024-09-06T07:45:44.285Z"
   },
   {
    "duration": 8,
    "start_time": "2024-09-06T07:49:20.977Z"
   },
   {
    "duration": 24,
    "start_time": "2024-09-06T07:49:20.986Z"
   },
   {
    "duration": 94,
    "start_time": "2024-09-06T07:49:21.012Z"
   },
   {
    "duration": 101,
    "start_time": "2024-09-06T07:49:21.108Z"
   },
   {
    "duration": 24795,
    "start_time": "2024-09-06T07:49:21.211Z"
   },
   {
    "duration": 245890,
    "start_time": "2024-09-06T07:49:46.008Z"
   },
   {
    "duration": 237006,
    "start_time": "2024-09-06T07:53:51.899Z"
   },
   {
    "duration": 251577,
    "start_time": "2024-09-06T07:57:48.906Z"
   },
   {
    "duration": 3,
    "start_time": "2024-09-06T08:02:00.485Z"
   },
   {
    "duration": 220,
    "start_time": "2024-09-06T08:02:00.498Z"
   },
   {
    "duration": 146,
    "start_time": "2024-09-06T08:02:00.720Z"
   },
   {
    "duration": 78,
    "start_time": "2024-09-06T08:06:08.397Z"
   },
   {
    "duration": 2669,
    "start_time": "2024-09-06T08:10:32.186Z"
   },
   {
    "duration": 1479,
    "start_time": "2024-09-06T08:10:34.857Z"
   },
   {
    "duration": 438,
    "start_time": "2024-09-06T08:10:36.338Z"
   },
   {
    "duration": 210,
    "start_time": "2024-09-06T08:10:36.778Z"
   },
   {
    "duration": 34,
    "start_time": "2024-09-06T08:10:36.997Z"
   },
   {
    "duration": 11,
    "start_time": "2024-09-06T08:10:37.033Z"
   },
   {
    "duration": 40,
    "start_time": "2024-09-06T08:10:37.046Z"
   },
   {
    "duration": 11,
    "start_time": "2024-09-06T08:10:37.088Z"
   },
   {
    "duration": 39,
    "start_time": "2024-09-06T08:10:37.101Z"
   },
   {
    "duration": 8,
    "start_time": "2024-09-06T08:10:37.142Z"
   },
   {
    "duration": 29,
    "start_time": "2024-09-06T08:10:37.151Z"
   },
   {
    "duration": 21,
    "start_time": "2024-09-06T08:10:37.182Z"
   },
   {
    "duration": 51,
    "start_time": "2024-09-06T08:10:37.205Z"
   },
   {
    "duration": 43,
    "start_time": "2024-09-06T08:10:37.260Z"
   },
   {
    "duration": 30,
    "start_time": "2024-09-06T08:10:37.305Z"
   },
   {
    "duration": 7,
    "start_time": "2024-09-06T08:10:37.336Z"
   },
   {
    "duration": 74,
    "start_time": "2024-09-06T08:10:37.345Z"
   },
   {
    "duration": 13,
    "start_time": "2024-09-06T08:10:37.421Z"
   },
   {
    "duration": 28,
    "start_time": "2024-09-06T08:10:37.436Z"
   },
   {
    "duration": 81,
    "start_time": "2024-09-06T08:10:37.466Z"
   },
   {
    "duration": 34,
    "start_time": "2024-09-06T08:10:37.549Z"
   },
   {
    "duration": 11,
    "start_time": "2024-09-06T08:10:37.585Z"
   },
   {
    "duration": 83,
    "start_time": "2024-09-06T08:10:37.597Z"
   },
   {
    "duration": 213,
    "start_time": "2024-09-06T08:10:37.681Z"
   },
   {
    "duration": 108,
    "start_time": "2024-09-06T08:10:37.898Z"
   },
   {
    "duration": 11,
    "start_time": "2024-09-06T08:10:38.008Z"
   },
   {
    "duration": 900,
    "start_time": "2024-09-06T08:10:38.020Z"
   },
   {
    "duration": 1999,
    "start_time": "2024-09-06T08:10:38.922Z"
   },
   {
    "duration": 13,
    "start_time": "2024-09-06T08:10:40.923Z"
   },
   {
    "duration": 860,
    "start_time": "2024-09-06T08:10:40.938Z"
   },
   {
    "duration": 99,
    "start_time": "2024-09-06T08:10:41.800Z"
   },
   {
    "duration": 607,
    "start_time": "2024-09-06T08:10:41.900Z"
   },
   {
    "duration": 99,
    "start_time": "2024-09-06T08:10:42.599Z"
   },
   {
    "duration": 698,
    "start_time": "2024-09-06T08:10:42.700Z"
   },
   {
    "duration": 100,
    "start_time": "2024-09-06T08:10:43.402Z"
   },
   {
    "duration": 59,
    "start_time": "2024-09-06T08:10:43.504Z"
   },
   {
    "duration": 7,
    "start_time": "2024-09-06T08:10:43.565Z"
   },
   {
    "duration": 7,
    "start_time": "2024-09-06T08:10:43.573Z"
   },
   {
    "duration": 10,
    "start_time": "2024-09-06T08:10:43.581Z"
   },
   {
    "duration": 20,
    "start_time": "2024-09-06T08:10:43.592Z"
   },
   {
    "duration": 214630,
    "start_time": "2024-09-06T08:10:43.616Z"
   },
   {
    "duration": 7,
    "start_time": "2024-09-06T08:14:18.248Z"
   },
   {
    "duration": 56,
    "start_time": "2024-09-06T08:14:18.257Z"
   },
   {
    "duration": 97,
    "start_time": "2024-09-06T08:14:18.315Z"
   },
   {
    "duration": 4,
    "start_time": "2024-09-06T08:14:18.498Z"
   },
   {
    "duration": 25422,
    "start_time": "2024-09-06T08:14:18.504Z"
   },
   {
    "duration": 249290,
    "start_time": "2024-09-06T08:14:43.928Z"
   },
   {
    "duration": 238711,
    "start_time": "2024-09-06T08:18:53.219Z"
   },
   {
    "duration": 248279,
    "start_time": "2024-09-06T08:22:51.931Z"
   },
   {
    "duration": 3,
    "start_time": "2024-09-06T08:27:00.211Z"
   },
   {
    "duration": 46,
    "start_time": "2024-09-06T08:27:00.215Z"
   },
   {
    "duration": 155,
    "start_time": "2024-09-06T08:27:00.263Z"
   },
   {
    "duration": 161,
    "start_time": "2024-09-06T08:47:48.339Z"
   },
   {
    "duration": 7,
    "start_time": "2024-09-06T08:51:02.292Z"
   },
   {
    "duration": 243634,
    "start_time": "2024-09-06T09:00:56.883Z"
   },
   {
    "duration": 239582,
    "start_time": "2024-09-06T09:05:00.519Z"
   },
   {
    "duration": 221412,
    "start_time": "2024-09-06T09:23:41.088Z"
   },
   {
    "duration": 225860,
    "start_time": "2024-09-06T09:30:16.682Z"
   },
   {
    "duration": 7,
    "start_time": "2024-09-06T09:36:13.956Z"
   },
   {
    "duration": 69,
    "start_time": "2024-09-06T09:39:03.733Z"
   },
   {
    "duration": 65,
    "start_time": "2024-09-06T09:39:11.966Z"
   },
   {
    "duration": 260847,
    "start_time": "2024-09-06T09:39:35.895Z"
   },
   {
    "duration": 262160,
    "start_time": "2024-09-06T09:44:31.559Z"
   },
   {
    "duration": 7,
    "start_time": "2024-09-06T09:51:57.224Z"
   },
   {
    "duration": 214764,
    "start_time": "2024-09-06T09:52:29.565Z"
   },
   {
    "duration": 8,
    "start_time": "2024-09-06T09:56:50.534Z"
   },
   {
    "duration": 27428,
    "start_time": "2024-09-06T09:57:25.615Z"
   },
   {
    "duration": 16,
    "start_time": "2024-09-06T10:00:59.952Z"
   },
   {
    "duration": 14,
    "start_time": "2024-09-06T10:03:57.127Z"
   },
   {
    "duration": 528796,
    "start_time": "2024-09-06T10:04:40.765Z"
   },
   {
    "duration": 10,
    "start_time": "2024-09-06T10:20:21.425Z"
   },
   {
    "duration": 14,
    "start_time": "2024-09-06T10:20:33.552Z"
   },
   {
    "duration": 261841,
    "start_time": "2024-09-06T10:21:57.099Z"
   },
   {
    "duration": 10,
    "start_time": "2024-09-06T10:26:18.942Z"
   },
   {
    "duration": 2552,
    "start_time": "2024-09-06T10:29:10.697Z"
   },
   {
    "duration": 1510,
    "start_time": "2024-09-06T10:29:13.252Z"
   },
   {
    "duration": 449,
    "start_time": "2024-09-06T10:29:14.763Z"
   },
   {
    "duration": 215,
    "start_time": "2024-09-06T10:29:15.214Z"
   },
   {
    "duration": 33,
    "start_time": "2024-09-06T10:29:15.431Z"
   },
   {
    "duration": 10,
    "start_time": "2024-09-06T10:29:15.466Z"
   },
   {
    "duration": 43,
    "start_time": "2024-09-06T10:29:15.478Z"
   },
   {
    "duration": 8,
    "start_time": "2024-09-06T10:29:15.522Z"
   },
   {
    "duration": 39,
    "start_time": "2024-09-06T10:29:15.531Z"
   },
   {
    "duration": 7,
    "start_time": "2024-09-06T10:29:15.571Z"
   },
   {
    "duration": 39,
    "start_time": "2024-09-06T10:29:15.579Z"
   },
   {
    "duration": 7,
    "start_time": "2024-09-06T10:29:15.619Z"
   },
   {
    "duration": 47,
    "start_time": "2024-09-06T10:29:15.628Z"
   },
   {
    "duration": 7,
    "start_time": "2024-09-06T10:29:15.678Z"
   },
   {
    "duration": 35,
    "start_time": "2024-09-06T10:29:15.687Z"
   },
   {
    "duration": 7,
    "start_time": "2024-09-06T10:29:15.724Z"
   },
   {
    "duration": 63,
    "start_time": "2024-09-06T10:29:15.733Z"
   },
   {
    "duration": 31,
    "start_time": "2024-09-06T10:29:15.797Z"
   },
   {
    "duration": 47,
    "start_time": "2024-09-06T10:29:15.829Z"
   },
   {
    "duration": 11,
    "start_time": "2024-09-06T10:29:15.878Z"
   },
   {
    "duration": 25,
    "start_time": "2024-09-06T10:29:15.890Z"
   },
   {
    "duration": 10,
    "start_time": "2024-09-06T10:29:15.917Z"
   },
   {
    "duration": 93,
    "start_time": "2024-09-06T10:29:15.929Z"
   },
   {
    "duration": 210,
    "start_time": "2024-09-06T10:29:16.023Z"
   },
   {
    "duration": 110,
    "start_time": "2024-09-06T10:29:16.234Z"
   },
   {
    "duration": 11,
    "start_time": "2024-09-06T10:29:16.346Z"
   },
   {
    "duration": 907,
    "start_time": "2024-09-06T10:29:16.359Z"
   },
   {
    "duration": 2073,
    "start_time": "2024-09-06T10:29:17.268Z"
   },
   {
    "duration": 12,
    "start_time": "2024-09-06T10:29:19.342Z"
   },
   {
    "duration": 651,
    "start_time": "2024-09-06T10:29:19.356Z"
   },
   {
    "duration": 95,
    "start_time": "2024-09-06T10:29:20.104Z"
   },
   {
    "duration": 701,
    "start_time": "2024-09-06T10:29:20.201Z"
   },
   {
    "duration": 101,
    "start_time": "2024-09-06T10:29:20.905Z"
   },
   {
    "duration": 710,
    "start_time": "2024-09-06T10:29:21.098Z"
   },
   {
    "duration": 11,
    "start_time": "2024-09-06T10:29:21.899Z"
   },
   {
    "duration": 14,
    "start_time": "2024-09-06T10:29:21.998Z"
   },
   {
    "duration": 2,
    "start_time": "2024-09-06T10:29:22.014Z"
   },
   {
    "duration": 16,
    "start_time": "2024-09-06T10:29:22.018Z"
   },
   {
    "duration": 14,
    "start_time": "2024-09-06T10:29:22.035Z"
   },
   {
    "duration": 6,
    "start_time": "2024-09-06T10:29:22.050Z"
   },
   {
    "duration": 225985,
    "start_time": "2024-09-06T10:29:22.060Z"
   },
   {
    "duration": 7,
    "start_time": "2024-09-06T10:33:08.047Z"
   },
   {
    "duration": 142,
    "start_time": "2024-09-06T10:33:08.056Z"
   },
   {
    "duration": 8,
    "start_time": "2024-09-06T10:33:08.200Z"
   },
   {
    "duration": 14,
    "start_time": "2024-09-06T10:33:08.210Z"
   },
   {
    "duration": 25648,
    "start_time": "2024-09-06T10:33:08.226Z"
   },
   {
    "duration": 14,
    "start_time": "2024-09-06T10:33:33.876Z"
   },
   {
    "duration": 263831,
    "start_time": "2024-09-06T10:33:33.891Z"
   },
   {
    "duration": 10,
    "start_time": "2024-09-06T10:37:57.723Z"
   },
   {
    "duration": 256985,
    "start_time": "2024-09-06T10:37:57.735Z"
   },
   {
    "duration": 15,
    "start_time": "2024-09-06T10:42:14.722Z"
   },
   {
    "duration": 258887,
    "start_time": "2024-09-06T10:42:14.739Z"
   },
   {
    "duration": 11,
    "start_time": "2024-09-06T10:46:33.628Z"
   },
   {
    "duration": 13,
    "start_time": "2024-09-06T10:46:33.641Z"
   },
   {
    "duration": 13,
    "start_time": "2024-09-06T10:46:33.656Z"
   },
   {
    "duration": 112,
    "start_time": "2024-09-06T10:46:33.671Z"
   },
   {
    "duration": 45,
    "start_time": "2024-09-06T11:24:49.121Z"
   },
   {
    "duration": 56,
    "start_time": "2024-09-06T11:25:25.469Z"
   },
   {
    "duration": 8,
    "start_time": "2024-09-06T11:26:04.260Z"
   },
   {
    "duration": 7,
    "start_time": "2024-09-06T11:26:19.594Z"
   },
   {
    "duration": 7,
    "start_time": "2024-09-06T11:27:57.436Z"
   },
   {
    "duration": 7,
    "start_time": "2024-09-06T11:28:45.926Z"
   },
   {
    "duration": 5,
    "start_time": "2024-09-06T11:32:20.112Z"
   },
   {
    "duration": 6,
    "start_time": "2024-09-06T11:47:20.092Z"
   },
   {
    "duration": 6,
    "start_time": "2024-09-06T11:50:01.509Z"
   },
   {
    "duration": 33,
    "start_time": "2024-09-06T11:56:38.403Z"
   },
   {
    "duration": 16,
    "start_time": "2024-09-06T11:58:56.567Z"
   },
   {
    "duration": 7,
    "start_time": "2024-09-06T12:36:55.855Z"
   },
   {
    "duration": 4522,
    "start_time": "2024-09-06T12:37:17.916Z"
   },
   {
    "duration": 4383,
    "start_time": "2024-09-06T12:37:51.868Z"
   },
   {
    "duration": 4371,
    "start_time": "2024-09-06T12:38:10.893Z"
   },
   {
    "duration": 4537,
    "start_time": "2024-09-06T12:38:24.335Z"
   },
   {
    "duration": 5760,
    "start_time": "2024-09-09T04:55:22.737Z"
   },
   {
    "duration": 2018,
    "start_time": "2024-09-09T04:55:28.501Z"
   },
   {
    "duration": 1159,
    "start_time": "2024-09-09T04:55:30.522Z"
   },
   {
    "duration": 249,
    "start_time": "2024-09-09T04:55:31.684Z"
   },
   {
    "duration": 44,
    "start_time": "2024-09-09T04:55:31.936Z"
   },
   {
    "duration": 13,
    "start_time": "2024-09-09T04:55:31.983Z"
   },
   {
    "duration": 26,
    "start_time": "2024-09-09T04:55:31.998Z"
   },
   {
    "duration": 8,
    "start_time": "2024-09-09T04:55:32.026Z"
   },
   {
    "duration": 66,
    "start_time": "2024-09-09T04:55:32.036Z"
   },
   {
    "duration": 7,
    "start_time": "2024-09-09T04:55:32.104Z"
   },
   {
    "duration": 27,
    "start_time": "2024-09-09T04:55:32.113Z"
   },
   {
    "duration": 42,
    "start_time": "2024-09-09T04:55:32.142Z"
   },
   {
    "duration": 39,
    "start_time": "2024-09-09T04:55:32.186Z"
   },
   {
    "duration": 7,
    "start_time": "2024-09-09T04:55:32.228Z"
   },
   {
    "duration": 44,
    "start_time": "2024-09-09T04:55:32.237Z"
   },
   {
    "duration": 8,
    "start_time": "2024-09-09T04:55:32.283Z"
   },
   {
    "duration": 26,
    "start_time": "2024-09-09T04:55:32.293Z"
   },
   {
    "duration": 13,
    "start_time": "2024-09-09T04:55:32.320Z"
   },
   {
    "duration": 52,
    "start_time": "2024-09-09T04:55:32.335Z"
   },
   {
    "duration": 11,
    "start_time": "2024-09-09T04:55:32.396Z"
   },
   {
    "duration": 27,
    "start_time": "2024-09-09T04:55:32.409Z"
   },
   {
    "duration": 10,
    "start_time": "2024-09-09T04:55:32.438Z"
   },
   {
    "duration": 127,
    "start_time": "2024-09-09T04:55:32.450Z"
   },
   {
    "duration": 227,
    "start_time": "2024-09-09T04:55:32.586Z"
   },
   {
    "duration": 113,
    "start_time": "2024-09-09T04:55:32.815Z"
   },
   {
    "duration": 11,
    "start_time": "2024-09-09T04:55:32.930Z"
   },
   {
    "duration": 1033,
    "start_time": "2024-09-09T04:55:32.943Z"
   },
   {
    "duration": 2376,
    "start_time": "2024-09-09T04:55:33.978Z"
   },
   {
    "duration": 34,
    "start_time": "2024-09-09T04:55:36.356Z"
   },
   {
    "duration": 684,
    "start_time": "2024-09-09T04:55:36.394Z"
   },
   {
    "duration": 18,
    "start_time": "2024-09-09T04:55:37.167Z"
   },
   {
    "duration": 607,
    "start_time": "2024-09-09T04:55:37.265Z"
   },
   {
    "duration": 94,
    "start_time": "2024-09-09T04:55:37.875Z"
   },
   {
    "duration": 1004,
    "start_time": "2024-09-09T04:55:37.971Z"
   },
   {
    "duration": 89,
    "start_time": "2024-09-09T04:55:38.980Z"
   },
   {
    "duration": 27,
    "start_time": "2024-09-09T04:55:39.071Z"
   },
   {
    "duration": 4,
    "start_time": "2024-09-09T04:55:39.100Z"
   },
   {
    "duration": 4,
    "start_time": "2024-09-09T04:55:39.106Z"
   },
   {
    "duration": 4,
    "start_time": "2024-09-09T04:55:39.112Z"
   },
   {
    "duration": 19,
    "start_time": "2024-09-09T04:55:39.118Z"
   },
   {
    "duration": 262956,
    "start_time": "2024-09-09T04:55:39.143Z"
   },
   {
    "duration": 8,
    "start_time": "2024-09-09T05:00:02.101Z"
   },
   {
    "duration": 65,
    "start_time": "2024-09-09T05:00:02.111Z"
   },
   {
    "duration": 100,
    "start_time": "2024-09-09T05:00:02.180Z"
   },
   {
    "duration": 6,
    "start_time": "2024-09-09T05:00:02.282Z"
   },
   {
    "duration": 27146,
    "start_time": "2024-09-09T05:00:02.290Z"
   },
   {
    "duration": 18,
    "start_time": "2024-09-09T05:00:29.438Z"
   },
   {
    "duration": 305050,
    "start_time": "2024-09-09T05:00:29.458Z"
   },
   {
    "duration": 12,
    "start_time": "2024-09-09T05:05:34.510Z"
   },
   {
    "duration": 282987,
    "start_time": "2024-09-09T05:05:34.524Z"
   },
   {
    "duration": 10,
    "start_time": "2024-09-09T05:10:17.513Z"
   },
   {
    "duration": 318564,
    "start_time": "2024-09-09T05:10:17.524Z"
   },
   {
    "duration": 10,
    "start_time": "2024-09-09T05:15:36.090Z"
   },
   {
    "duration": 16,
    "start_time": "2024-09-09T05:15:36.101Z"
   },
   {
    "duration": 9,
    "start_time": "2024-09-09T05:15:36.119Z"
   },
   {
    "duration": 16,
    "start_time": "2024-09-09T05:15:36.130Z"
   },
   {
    "duration": 22,
    "start_time": "2024-09-09T05:15:36.148Z"
   },
   {
    "duration": 27,
    "start_time": "2024-09-09T05:15:36.172Z"
   },
   {
    "duration": 35,
    "start_time": "2024-09-09T05:15:36.200Z"
   },
   {
    "duration": 16,
    "start_time": "2024-09-09T05:15:36.237Z"
   },
   {
    "duration": 26,
    "start_time": "2024-09-09T05:15:36.255Z"
   },
   {
    "duration": 16,
    "start_time": "2024-09-09T05:15:36.283Z"
   },
   {
    "duration": 165,
    "start_time": "2024-09-09T05:15:36.301Z"
   },
   {
    "duration": 0,
    "start_time": "2024-09-09T05:15:36.480Z"
   },
   {
    "duration": 0,
    "start_time": "2024-09-09T05:15:36.481Z"
   },
   {
    "duration": 6,
    "start_time": "2024-09-09T05:19:11.302Z"
   },
   {
    "duration": 1384,
    "start_time": "2024-09-09T05:19:13.486Z"
   },
   {
    "duration": 1399,
    "start_time": "2024-09-09T05:21:45.702Z"
   },
   {
    "duration": 1364,
    "start_time": "2024-09-09T05:21:47.981Z"
   },
   {
    "duration": 5,
    "start_time": "2024-09-09T05:28:02.415Z"
   },
   {
    "duration": 8,
    "start_time": "2024-09-09T05:28:08.378Z"
   },
   {
    "duration": 1537,
    "start_time": "2024-09-09T05:28:17.130Z"
   },
   {
    "duration": 1418,
    "start_time": "2024-09-09T05:28:22.114Z"
   },
   {
    "duration": 1514,
    "start_time": "2024-09-09T05:28:23.536Z"
   },
   {
    "duration": 4,
    "start_time": "2024-09-09T05:44:28.383Z"
   },
   {
    "duration": 9,
    "start_time": "2024-09-09T05:44:29.564Z"
   },
   {
    "duration": 1476,
    "start_time": "2024-09-09T05:44:30.733Z"
   },
   {
    "duration": 1480,
    "start_time": "2024-09-09T05:44:32.211Z"
   },
   {
    "duration": 1429,
    "start_time": "2024-09-09T05:44:33.693Z"
   },
   {
    "duration": 4,
    "start_time": "2024-09-09T05:52:18.593Z"
   },
   {
    "duration": 454,
    "start_time": "2024-09-09T05:52:23.013Z"
   },
   {
    "duration": 224,
    "start_time": "2024-09-09T05:52:30.819Z"
   },
   {
    "duration": 30,
    "start_time": "2024-09-09T05:52:43.805Z"
   },
   {
    "duration": 8,
    "start_time": "2024-09-09T05:52:44.028Z"
   },
   {
    "duration": 33,
    "start_time": "2024-09-09T05:52:44.546Z"
   },
   {
    "duration": 7,
    "start_time": "2024-09-09T05:52:45.109Z"
   },
   {
    "duration": 35,
    "start_time": "2024-09-09T05:52:45.346Z"
   },
   {
    "duration": 7,
    "start_time": "2024-09-09T05:52:45.582Z"
   },
   {
    "duration": 28,
    "start_time": "2024-09-09T05:52:46.156Z"
   },
   {
    "duration": 18,
    "start_time": "2024-09-09T05:52:49.017Z"
   },
   {
    "duration": 21,
    "start_time": "2024-09-09T05:52:49.226Z"
   },
   {
    "duration": 7,
    "start_time": "2024-09-09T05:52:49.981Z"
   },
   {
    "duration": 22,
    "start_time": "2024-09-09T05:52:50.531Z"
   },
   {
    "duration": 14,
    "start_time": "2024-09-09T05:52:51.060Z"
   },
   {
    "duration": 21,
    "start_time": "2024-09-09T05:52:52.422Z"
   },
   {
    "duration": 11,
    "start_time": "2024-09-09T05:52:52.827Z"
   },
   {
    "duration": 21,
    "start_time": "2024-09-09T05:52:56.933Z"
   },
   {
    "duration": 12,
    "start_time": "2024-09-09T05:52:57.375Z"
   },
   {
    "duration": 22,
    "start_time": "2024-09-09T05:52:58.226Z"
   },
   {
    "duration": 14,
    "start_time": "2024-09-09T05:52:58.713Z"
   },
   {
    "duration": 70,
    "start_time": "2024-09-09T05:53:00.084Z"
   },
   {
    "duration": 214,
    "start_time": "2024-09-09T05:55:00.735Z"
   },
   {
    "duration": 96,
    "start_time": "2024-09-09T05:56:17.899Z"
   },
   {
    "duration": 898,
    "start_time": "2024-09-09T05:57:24.468Z"
   },
   {
    "duration": 2056,
    "start_time": "2024-09-09T05:57:29.155Z"
   },
   {
    "duration": 2891,
    "start_time": "2024-09-09T06:15:34.733Z"
   },
   {
    "duration": 2788,
    "start_time": "2024-09-09T06:17:45.723Z"
   },
   {
    "duration": 2764,
    "start_time": "2024-09-09T06:18:49.088Z"
   },
   {
    "duration": 1639,
    "start_time": "2024-09-09T06:18:51.856Z"
   },
   {
    "duration": 498,
    "start_time": "2024-09-09T06:18:53.497Z"
   },
   {
    "duration": 273,
    "start_time": "2024-09-09T06:18:53.998Z"
   },
   {
    "duration": 48,
    "start_time": "2024-09-09T06:18:54.279Z"
   },
   {
    "duration": 10,
    "start_time": "2024-09-09T06:18:54.329Z"
   },
   {
    "duration": 46,
    "start_time": "2024-09-09T06:18:54.341Z"
   },
   {
    "duration": 17,
    "start_time": "2024-09-09T06:18:54.389Z"
   },
   {
    "duration": 35,
    "start_time": "2024-09-09T06:18:54.408Z"
   },
   {
    "duration": 8,
    "start_time": "2024-09-09T06:18:54.446Z"
   },
   {
    "duration": 37,
    "start_time": "2024-09-09T06:18:54.465Z"
   },
   {
    "duration": 8,
    "start_time": "2024-09-09T06:18:54.504Z"
   },
   {
    "duration": 37,
    "start_time": "2024-09-09T06:18:54.514Z"
   },
   {
    "duration": 27,
    "start_time": "2024-09-09T06:18:54.553Z"
   },
   {
    "duration": 42,
    "start_time": "2024-09-09T06:18:54.582Z"
   },
   {
    "duration": 9,
    "start_time": "2024-09-09T06:18:54.626Z"
   },
   {
    "duration": 43,
    "start_time": "2024-09-09T06:18:54.637Z"
   },
   {
    "duration": 21,
    "start_time": "2024-09-09T06:18:54.688Z"
   },
   {
    "duration": 24,
    "start_time": "2024-09-09T06:18:54.710Z"
   },
   {
    "duration": 11,
    "start_time": "2024-09-09T06:18:54.735Z"
   },
   {
    "duration": 58,
    "start_time": "2024-09-09T06:18:54.748Z"
   },
   {
    "duration": 11,
    "start_time": "2024-09-09T06:18:54.808Z"
   },
   {
    "duration": 100,
    "start_time": "2024-09-09T06:18:54.821Z"
   },
   {
    "duration": 123,
    "start_time": "2024-09-09T06:18:54.923Z"
   },
   {
    "duration": 2685,
    "start_time": "2024-09-09T06:18:55.047Z"
   },
   {
    "duration": 9,
    "start_time": "2024-09-09T06:18:57.734Z"
   },
   {
    "duration": 1050,
    "start_time": "2024-09-09T06:18:57.746Z"
   },
   {
    "duration": 2279,
    "start_time": "2024-09-09T06:18:58.801Z"
   },
   {
    "duration": 132,
    "start_time": "2024-09-09T06:19:01.087Z"
   },
   {
    "duration": 0,
    "start_time": "2024-09-09T06:19:01.221Z"
   },
   {
    "duration": 0,
    "start_time": "2024-09-09T06:19:01.222Z"
   },
   {
    "duration": 0,
    "start_time": "2024-09-09T06:19:01.223Z"
   },
   {
    "duration": 0,
    "start_time": "2024-09-09T06:19:01.225Z"
   },
   {
    "duration": 0,
    "start_time": "2024-09-09T06:19:01.225Z"
   },
   {
    "duration": 0,
    "start_time": "2024-09-09T06:19:01.226Z"
   },
   {
    "duration": 0,
    "start_time": "2024-09-09T06:19:01.228Z"
   },
   {
    "duration": 0,
    "start_time": "2024-09-09T06:19:01.229Z"
   },
   {
    "duration": 0,
    "start_time": "2024-09-09T06:19:01.230Z"
   },
   {
    "duration": 0,
    "start_time": "2024-09-09T06:19:01.231Z"
   },
   {
    "duration": 0,
    "start_time": "2024-09-09T06:19:01.232Z"
   },
   {
    "duration": 0,
    "start_time": "2024-09-09T06:19:01.234Z"
   },
   {
    "duration": 0,
    "start_time": "2024-09-09T06:19:01.235Z"
   },
   {
    "duration": 0,
    "start_time": "2024-09-09T06:19:01.236Z"
   },
   {
    "duration": 0,
    "start_time": "2024-09-09T06:19:01.237Z"
   },
   {
    "duration": 0,
    "start_time": "2024-09-09T06:19:01.238Z"
   },
   {
    "duration": 0,
    "start_time": "2024-09-09T06:19:01.269Z"
   },
   {
    "duration": 0,
    "start_time": "2024-09-09T06:19:01.274Z"
   },
   {
    "duration": 0,
    "start_time": "2024-09-09T06:19:01.275Z"
   },
   {
    "duration": 1,
    "start_time": "2024-09-09T06:19:01.279Z"
   },
   {
    "duration": 0,
    "start_time": "2024-09-09T06:19:01.281Z"
   },
   {
    "duration": 0,
    "start_time": "2024-09-09T06:19:01.282Z"
   },
   {
    "duration": 0,
    "start_time": "2024-09-09T06:19:01.285Z"
   },
   {
    "duration": 0,
    "start_time": "2024-09-09T06:19:01.287Z"
   },
   {
    "duration": 0,
    "start_time": "2024-09-09T06:19:01.291Z"
   },
   {
    "duration": 0,
    "start_time": "2024-09-09T06:19:01.293Z"
   },
   {
    "duration": 0,
    "start_time": "2024-09-09T06:19:01.295Z"
   },
   {
    "duration": 0,
    "start_time": "2024-09-09T06:19:01.296Z"
   },
   {
    "duration": 0,
    "start_time": "2024-09-09T06:19:01.298Z"
   },
   {
    "duration": 0,
    "start_time": "2024-09-09T06:19:01.300Z"
   },
   {
    "duration": 0,
    "start_time": "2024-09-09T06:19:01.301Z"
   },
   {
    "duration": 0,
    "start_time": "2024-09-09T06:19:01.302Z"
   },
   {
    "duration": 0,
    "start_time": "2024-09-09T06:19:01.304Z"
   },
   {
    "duration": 0,
    "start_time": "2024-09-09T06:19:01.305Z"
   },
   {
    "duration": 0,
    "start_time": "2024-09-09T06:19:01.306Z"
   },
   {
    "duration": 0,
    "start_time": "2024-09-09T06:19:01.307Z"
   },
   {
    "duration": 2650,
    "start_time": "2024-09-09T06:27:59.629Z"
   },
   {
    "duration": 1502,
    "start_time": "2024-09-09T06:28:02.283Z"
   },
   {
    "duration": 472,
    "start_time": "2024-09-09T06:28:03.787Z"
   },
   {
    "duration": 216,
    "start_time": "2024-09-09T06:28:04.261Z"
   },
   {
    "duration": 32,
    "start_time": "2024-09-09T06:28:04.479Z"
   },
   {
    "duration": 10,
    "start_time": "2024-09-09T06:28:04.513Z"
   },
   {
    "duration": 54,
    "start_time": "2024-09-09T06:28:04.524Z"
   },
   {
    "duration": 7,
    "start_time": "2024-09-09T06:28:04.580Z"
   },
   {
    "duration": 33,
    "start_time": "2024-09-09T06:28:04.589Z"
   },
   {
    "duration": 7,
    "start_time": "2024-09-09T06:28:04.623Z"
   },
   {
    "duration": 54,
    "start_time": "2024-09-09T06:28:04.632Z"
   },
   {
    "duration": 7,
    "start_time": "2024-09-09T06:28:04.688Z"
   },
   {
    "duration": 23,
    "start_time": "2024-09-09T06:28:04.696Z"
   },
   {
    "duration": 9,
    "start_time": "2024-09-09T06:28:04.723Z"
   },
   {
    "duration": 46,
    "start_time": "2024-09-09T06:28:04.734Z"
   },
   {
    "duration": 6,
    "start_time": "2024-09-09T06:28:04.782Z"
   },
   {
    "duration": 24,
    "start_time": "2024-09-09T06:28:04.790Z"
   },
   {
    "duration": 11,
    "start_time": "2024-09-09T06:28:04.816Z"
   },
   {
    "duration": 42,
    "start_time": "2024-09-09T06:28:04.828Z"
   },
   {
    "duration": 11,
    "start_time": "2024-09-09T06:28:04.876Z"
   },
   {
    "duration": 22,
    "start_time": "2024-09-09T06:28:04.889Z"
   },
   {
    "duration": 10,
    "start_time": "2024-09-09T06:28:04.913Z"
   },
   {
    "duration": 90,
    "start_time": "2024-09-09T06:28:04.924Z"
   },
   {
    "duration": 112,
    "start_time": "2024-09-09T06:28:05.016Z"
   },
   {
    "duration": 2662,
    "start_time": "2024-09-09T06:28:05.130Z"
   },
   {
    "duration": 13,
    "start_time": "2024-09-09T06:28:07.793Z"
   },
   {
    "duration": 890,
    "start_time": "2024-09-09T06:28:07.808Z"
   },
   {
    "duration": 1992,
    "start_time": "2024-09-09T06:28:08.700Z"
   },
   {
    "duration": 11,
    "start_time": "2024-09-09T06:28:10.694Z"
   },
   {
    "duration": 668,
    "start_time": "2024-09-09T06:28:10.707Z"
   },
   {
    "duration": 96,
    "start_time": "2024-09-09T06:28:11.378Z"
   },
   {
    "duration": 892,
    "start_time": "2024-09-09T06:28:11.478Z"
   },
   {
    "duration": 9,
    "start_time": "2024-09-09T06:28:12.372Z"
   },
   {
    "duration": 598,
    "start_time": "2024-09-09T06:28:12.469Z"
   },
   {
    "duration": 99,
    "start_time": "2024-09-09T06:28:13.069Z"
   },
   {
    "duration": 20,
    "start_time": "2024-09-09T06:28:13.170Z"
   },
   {
    "duration": 2,
    "start_time": "2024-09-09T06:28:13.192Z"
   },
   {
    "duration": 8,
    "start_time": "2024-09-09T06:28:13.196Z"
   },
   {
    "duration": 5,
    "start_time": "2024-09-09T06:28:13.205Z"
   },
   {
    "duration": 6,
    "start_time": "2024-09-09T06:28:13.211Z"
   },
   {
    "duration": 245980,
    "start_time": "2024-09-09T06:28:13.221Z"
   },
   {
    "duration": 7,
    "start_time": "2024-09-09T06:32:19.202Z"
   },
   {
    "duration": 16,
    "start_time": "2024-09-09T06:32:19.211Z"
   },
   {
    "duration": 15,
    "start_time": "2024-09-09T06:32:19.266Z"
   },
   {
    "duration": 85,
    "start_time": "2024-09-09T06:32:19.282Z"
   },
   {
    "duration": 27930,
    "start_time": "2024-09-09T06:32:19.370Z"
   },
   {
    "duration": 119,
    "start_time": "2024-09-09T06:32:47.302Z"
   },
   {
    "duration": 276800,
    "start_time": "2024-09-09T06:32:47.423Z"
   },
   {
    "duration": 10,
    "start_time": "2024-09-09T06:37:24.225Z"
   },
   {
    "duration": 279200,
    "start_time": "2024-09-09T06:37:24.237Z"
   },
   {
    "duration": 10,
    "start_time": "2024-09-09T06:42:03.439Z"
   },
   {
    "duration": 276624,
    "start_time": "2024-09-09T06:42:03.451Z"
   },
   {
    "duration": 12,
    "start_time": "2024-09-09T06:46:40.077Z"
   },
   {
    "duration": 30,
    "start_time": "2024-09-09T06:46:40.091Z"
   },
   {
    "duration": 31,
    "start_time": "2024-09-09T06:46:40.122Z"
   },
   {
    "duration": 98,
    "start_time": "2024-09-09T06:46:40.155Z"
   },
   {
    "duration": 20,
    "start_time": "2024-09-09T06:46:40.254Z"
   },
   {
    "duration": 6,
    "start_time": "2024-09-09T06:46:40.276Z"
   },
   {
    "duration": 16,
    "start_time": "2024-09-09T06:46:40.284Z"
   },
   {
    "duration": 19,
    "start_time": "2024-09-09T06:46:40.302Z"
   },
   {
    "duration": 15,
    "start_time": "2024-09-09T06:46:40.323Z"
   },
   {
    "duration": 28,
    "start_time": "2024-09-09T06:46:40.340Z"
   },
   {
    "duration": 1428,
    "start_time": "2024-09-09T06:46:40.375Z"
   },
   {
    "duration": 1413,
    "start_time": "2024-09-09T06:46:41.805Z"
   },
   {
    "duration": 1394,
    "start_time": "2024-09-09T06:46:43.220Z"
   },
   {
    "duration": 4987,
    "start_time": "2024-09-09T09:46:19.040Z"
   },
   {
    "duration": 6166,
    "start_time": "2024-09-09T09:46:24.029Z"
   },
   {
    "duration": 1007,
    "start_time": "2024-09-09T09:46:30.196Z"
   },
   {
    "duration": 200,
    "start_time": "2024-09-09T09:46:31.204Z"
   },
   {
    "duration": 40,
    "start_time": "2024-09-09T09:46:31.406Z"
   },
   {
    "duration": 12,
    "start_time": "2024-09-09T09:46:31.447Z"
   },
   {
    "duration": 49,
    "start_time": "2024-09-09T09:46:31.461Z"
   },
   {
    "duration": 7,
    "start_time": "2024-09-09T09:46:31.512Z"
   },
   {
    "duration": 57,
    "start_time": "2024-09-09T09:46:31.521Z"
   },
   {
    "duration": 7,
    "start_time": "2024-09-09T09:46:31.580Z"
   },
   {
    "duration": 33,
    "start_time": "2024-09-09T09:46:31.589Z"
   },
   {
    "duration": 7,
    "start_time": "2024-09-09T09:46:31.624Z"
   },
   {
    "duration": 53,
    "start_time": "2024-09-09T09:46:31.633Z"
   },
   {
    "duration": 31,
    "start_time": "2024-09-09T09:46:31.689Z"
   },
   {
    "duration": 62,
    "start_time": "2024-09-09T09:46:31.722Z"
   },
   {
    "duration": 6,
    "start_time": "2024-09-09T09:46:31.786Z"
   },
   {
    "duration": 37,
    "start_time": "2024-09-09T09:46:31.794Z"
   },
   {
    "duration": 12,
    "start_time": "2024-09-09T09:46:31.833Z"
   },
   {
    "duration": 49,
    "start_time": "2024-09-09T09:46:31.846Z"
   },
   {
    "duration": 25,
    "start_time": "2024-09-09T09:46:31.896Z"
   },
   {
    "duration": 26,
    "start_time": "2024-09-09T09:46:31.923Z"
   },
   {
    "duration": 22,
    "start_time": "2024-09-09T09:46:31.951Z"
   },
   {
    "duration": 90,
    "start_time": "2024-09-09T09:46:31.975Z"
   },
   {
    "duration": 101,
    "start_time": "2024-09-09T09:46:32.067Z"
   },
   {
    "duration": 2615,
    "start_time": "2024-09-09T09:46:32.170Z"
   },
   {
    "duration": 9,
    "start_time": "2024-09-09T09:46:34.787Z"
   },
   {
    "duration": 858,
    "start_time": "2024-09-09T09:46:34.798Z"
   },
   {
    "duration": 1941,
    "start_time": "2024-09-09T09:46:35.658Z"
   },
   {
    "duration": 14,
    "start_time": "2024-09-09T09:46:37.601Z"
   },
   {
    "duration": 740,
    "start_time": "2024-09-09T09:46:37.617Z"
   },
   {
    "duration": 98,
    "start_time": "2024-09-09T09:46:38.448Z"
   },
   {
    "duration": 406,
    "start_time": "2024-09-09T09:46:38.549Z"
   },
   {
    "duration": 100,
    "start_time": "2024-09-09T09:46:39.047Z"
   },
   {
    "duration": 800,
    "start_time": "2024-09-09T09:46:39.148Z"
   },
   {
    "duration": 99,
    "start_time": "2024-09-09T09:46:39.951Z"
   },
   {
    "duration": 20,
    "start_time": "2024-09-09T09:46:40.051Z"
   },
   {
    "duration": 74,
    "start_time": "2024-09-09T09:46:40.072Z"
   },
   {
    "duration": 3,
    "start_time": "2024-09-09T09:46:40.148Z"
   },
   {
    "duration": 19,
    "start_time": "2024-09-09T09:46:40.152Z"
   },
   {
    "duration": 48,
    "start_time": "2024-09-09T09:46:40.172Z"
   },
   {
    "duration": 225455,
    "start_time": "2024-09-09T09:46:40.225Z"
   },
   {
    "duration": 6,
    "start_time": "2024-09-09T09:50:25.682Z"
   },
   {
    "duration": 58,
    "start_time": "2024-09-09T09:50:25.689Z"
   },
   {
    "duration": 96,
    "start_time": "2024-09-09T09:50:25.751Z"
   },
   {
    "duration": 24,
    "start_time": "2024-09-09T09:50:25.849Z"
   },
   {
    "duration": 25163,
    "start_time": "2024-09-09T09:50:25.875Z"
   },
   {
    "duration": 17,
    "start_time": "2024-09-09T09:50:51.040Z"
   },
   {
    "duration": 247400,
    "start_time": "2024-09-09T09:50:51.059Z"
   },
   {
    "duration": 9,
    "start_time": "2024-09-09T09:54:58.461Z"
   },
   {
    "duration": 239873,
    "start_time": "2024-09-09T09:54:58.472Z"
   },
   {
    "duration": 9,
    "start_time": "2024-09-09T09:58:58.348Z"
   },
   {
    "duration": 255020,
    "start_time": "2024-09-09T09:58:58.359Z"
   },
   {
    "duration": 9,
    "start_time": "2024-09-09T10:03:13.380Z"
   },
   {
    "duration": 79,
    "start_time": "2024-09-09T10:03:13.391Z"
   },
   {
    "duration": 17,
    "start_time": "2024-09-09T10:03:13.472Z"
   },
   {
    "duration": 16,
    "start_time": "2024-09-09T10:03:13.491Z"
   },
   {
    "duration": 37,
    "start_time": "2024-09-09T10:03:13.508Z"
   },
   {
    "duration": 31,
    "start_time": "2024-09-09T10:03:13.546Z"
   },
   {
    "duration": 100,
    "start_time": "2024-09-09T10:03:13.578Z"
   },
   {
    "duration": 31,
    "start_time": "2024-09-09T10:03:13.679Z"
   },
   {
    "duration": 4,
    "start_time": "2024-09-09T10:03:17.792Z"
   },
   {
    "duration": 13,
    "start_time": "2024-09-09T10:03:17.798Z"
   },
   {
    "duration": 182,
    "start_time": "2024-09-09T10:03:17.812Z"
   },
   {
    "duration": 0,
    "start_time": "2024-09-09T10:03:17.996Z"
   },
   {
    "duration": 0,
    "start_time": "2024-09-09T10:03:17.998Z"
   },
   {
    "duration": 4,
    "start_time": "2024-09-09T10:03:30.631Z"
   },
   {
    "duration": 5,
    "start_time": "2024-09-09T10:03:30.949Z"
   },
   {
    "duration": 1314,
    "start_time": "2024-09-09T10:03:31.559Z"
   },
   {
    "duration": 3,
    "start_time": "2024-09-09T10:03:49.694Z"
   },
   {
    "duration": 6,
    "start_time": "2024-09-09T10:03:50.426Z"
   },
   {
    "duration": 22,
    "start_time": "2024-09-09T10:03:50.790Z"
   },
   {
    "duration": 4,
    "start_time": "2024-09-09T10:04:05.864Z"
   },
   {
    "duration": 5,
    "start_time": "2024-09-09T10:04:06.288Z"
   },
   {
    "duration": 1383,
    "start_time": "2024-09-09T10:04:06.810Z"
   },
   {
    "duration": 1364,
    "start_time": "2024-09-09T10:04:08.885Z"
   },
   {
    "duration": 1402,
    "start_time": "2024-09-09T10:04:10.251Z"
   },
   {
    "duration": 3,
    "start_time": "2024-09-09T10:04:14.764Z"
   },
   {
    "duration": 7,
    "start_time": "2024-09-09T10:04:15.082Z"
   },
   {
    "duration": 1285,
    "start_time": "2024-09-09T10:04:15.396Z"
   },
   {
    "duration": 1352,
    "start_time": "2024-09-09T10:04:16.683Z"
   },
   {
    "duration": 1329,
    "start_time": "2024-09-09T10:04:18.037Z"
   },
   {
    "duration": 11,
    "start_time": "2024-09-09T11:20:04.519Z"
   },
   {
    "duration": 3811,
    "start_time": "2024-09-09T11:20:13.594Z"
   },
   {
    "duration": 1815,
    "start_time": "2024-09-09T11:20:17.408Z"
   },
   {
    "duration": 1755,
    "start_time": "2024-09-09T11:20:19.224Z"
   },
   {
    "duration": 232,
    "start_time": "2024-09-09T11:20:20.980Z"
   },
   {
    "duration": 37,
    "start_time": "2024-09-09T11:20:21.215Z"
   },
   {
    "duration": 10,
    "start_time": "2024-09-09T11:20:21.254Z"
   },
   {
    "duration": 82,
    "start_time": "2024-09-09T11:20:21.266Z"
   },
   {
    "duration": 7,
    "start_time": "2024-09-09T11:20:21.350Z"
   },
   {
    "duration": 52,
    "start_time": "2024-09-09T11:20:21.359Z"
   },
   {
    "duration": 8,
    "start_time": "2024-09-09T11:20:21.413Z"
   },
   {
    "duration": 47,
    "start_time": "2024-09-09T11:20:21.423Z"
   },
   {
    "duration": 7,
    "start_time": "2024-09-09T11:20:21.472Z"
   },
   {
    "duration": 41,
    "start_time": "2024-09-09T11:20:21.481Z"
   },
   {
    "duration": 22,
    "start_time": "2024-09-09T11:20:21.525Z"
   },
   {
    "duration": 91,
    "start_time": "2024-09-09T11:20:21.549Z"
   },
   {
    "duration": 8,
    "start_time": "2024-09-09T11:20:21.642Z"
   },
   {
    "duration": 49,
    "start_time": "2024-09-09T11:20:21.652Z"
   },
   {
    "duration": 13,
    "start_time": "2024-09-09T11:20:21.703Z"
   },
   {
    "duration": 27,
    "start_time": "2024-09-09T11:20:21.719Z"
   },
   {
    "duration": 12,
    "start_time": "2024-09-09T11:20:21.747Z"
   },
   {
    "duration": 49,
    "start_time": "2024-09-09T11:20:21.760Z"
   },
   {
    "duration": 12,
    "start_time": "2024-09-09T11:20:21.810Z"
   },
   {
    "duration": 146,
    "start_time": "2024-09-09T11:20:21.824Z"
   },
   {
    "duration": 119,
    "start_time": "2024-09-09T11:20:21.972Z"
   },
   {
    "duration": 2665,
    "start_time": "2024-09-09T11:20:22.093Z"
   },
   {
    "duration": 10,
    "start_time": "2024-09-09T11:20:24.760Z"
   },
   {
    "duration": 940,
    "start_time": "2024-09-09T11:20:24.772Z"
   },
   {
    "duration": 2143,
    "start_time": "2024-09-09T11:20:25.714Z"
   },
   {
    "duration": 14,
    "start_time": "2024-09-09T11:20:27.858Z"
   },
   {
    "duration": 931,
    "start_time": "2024-09-09T11:20:27.874Z"
   },
   {
    "duration": 97,
    "start_time": "2024-09-09T11:20:28.808Z"
   },
   {
    "duration": 504,
    "start_time": "2024-09-09T11:20:28.907Z"
   },
   {
    "duration": 102,
    "start_time": "2024-09-09T11:20:29.414Z"
   },
   {
    "duration": 991,
    "start_time": "2024-09-09T11:20:29.519Z"
   },
   {
    "duration": 98,
    "start_time": "2024-09-09T11:20:30.514Z"
   },
   {
    "duration": 97,
    "start_time": "2024-09-09T11:20:30.615Z"
   },
   {
    "duration": 3,
    "start_time": "2024-09-09T11:20:30.715Z"
   },
   {
    "duration": 16,
    "start_time": "2024-09-09T11:20:30.720Z"
   },
   {
    "duration": 9,
    "start_time": "2024-09-09T11:20:30.738Z"
   },
   {
    "duration": 12,
    "start_time": "2024-09-09T11:20:30.750Z"
   },
   {
    "duration": 256445,
    "start_time": "2024-09-09T11:20:30.766Z"
   },
   {
    "duration": 9,
    "start_time": "2024-09-09T11:24:47.213Z"
   },
   {
    "duration": 38,
    "start_time": "2024-09-09T11:24:47.224Z"
   },
   {
    "duration": 49,
    "start_time": "2024-09-09T11:24:47.264Z"
   },
   {
    "duration": 89,
    "start_time": "2024-09-09T11:24:47.316Z"
   },
   {
    "duration": 27081,
    "start_time": "2024-09-09T11:24:47.407Z"
   },
   {
    "duration": 141,
    "start_time": "2024-09-09T11:25:14.490Z"
   },
   {
    "duration": 285943,
    "start_time": "2024-09-09T11:25:14.633Z"
   },
   {
    "duration": 30,
    "start_time": "2024-09-09T11:30:00.578Z"
   },
   {
    "duration": 279060,
    "start_time": "2024-09-09T11:30:00.610Z"
   },
   {
    "duration": 12,
    "start_time": "2024-09-09T11:34:39.673Z"
   },
   {
    "duration": 299406,
    "start_time": "2024-09-09T11:34:39.687Z"
   },
   {
    "duration": 18,
    "start_time": "2024-09-09T11:39:39.095Z"
   },
   {
    "duration": 47,
    "start_time": "2024-09-09T11:39:39.115Z"
   },
   {
    "duration": 17,
    "start_time": "2024-09-09T11:39:39.166Z"
   },
   {
    "duration": 15,
    "start_time": "2024-09-09T11:39:39.185Z"
   },
   {
    "duration": 13,
    "start_time": "2024-09-09T11:39:39.202Z"
   },
   {
    "duration": 86,
    "start_time": "2024-09-09T11:39:39.217Z"
   },
   {
    "duration": 112,
    "start_time": "2024-09-09T11:39:39.306Z"
   },
   {
    "duration": 18,
    "start_time": "2024-09-09T11:39:39.421Z"
   },
   {
    "duration": 4,
    "start_time": "2024-09-09T11:39:39.441Z"
   },
   {
    "duration": 19,
    "start_time": "2024-09-09T11:39:39.447Z"
   },
   {
    "duration": 200,
    "start_time": "2024-09-09T11:39:39.468Z"
   },
   {
    "duration": 0,
    "start_time": "2024-09-09T11:39:39.670Z"
   },
   {
    "duration": 0,
    "start_time": "2024-09-09T11:39:39.671Z"
   },
   {
    "duration": 4,
    "start_time": "2024-09-09T11:41:15.099Z"
   },
   {
    "duration": 8,
    "start_time": "2024-09-09T11:41:18.965Z"
   },
   {
    "duration": 23,
    "start_time": "2024-09-09T11:41:23.444Z"
   },
   {
    "duration": 6,
    "start_time": "2024-09-09T11:42:50.645Z"
   },
   {
    "duration": 8,
    "start_time": "2024-09-09T11:42:53.409Z"
   },
   {
    "duration": 1712,
    "start_time": "2024-09-09T11:42:55.512Z"
   },
   {
    "duration": 1553,
    "start_time": "2024-09-09T11:43:02.746Z"
   },
   {
    "duration": 1546,
    "start_time": "2024-09-09T11:43:07.894Z"
   }
  ],
  "kernelspec": {
   "display_name": "Python 3 (ipykernel)",
   "language": "python",
   "name": "python3"
  },
  "language_info": {
   "codemirror_mode": {
    "name": "ipython",
    "version": 3
   },
   "file_extension": ".py",
   "mimetype": "text/x-python",
   "name": "python",
   "nbconvert_exporter": "python",
   "pygments_lexer": "ipython3",
   "version": "3.9.5"
  },
  "toc": {
   "base_numbering": 1,
   "nav_menu": {},
   "number_sections": true,
   "sideBar": true,
   "skip_h1_title": true,
   "title_cell": "Table of Contents",
   "title_sidebar": "Contents",
   "toc_cell": false,
   "toc_position": {},
   "toc_section_display": true,
   "toc_window_display": false
  }
 },
 "nbformat": 4,
 "nbformat_minor": 2
}
